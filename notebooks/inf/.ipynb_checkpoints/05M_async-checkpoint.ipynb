{
 "cells": [
  {
   "cell_type": "markdown",
   "id": "textile-attraction",
   "metadata": {},
   "source": [
    "Introduction"
   ]
  },
  {
   "cell_type": "markdown",
   "id": "frozen-response",
   "metadata": {},
   "source": [
    "Převzato z \n",
    "\n",
    "https://www.youtube.com/watch?v=9zinZmE3Ogk\n",
    "\n",
    "https://pybay.com/site_media/slides/raymond2017-keynote/threading.html"
   ]
  },
  {
   "cell_type": "code",
   "execution_count": 1,
   "id": "visible-henry",
   "metadata": {},
   "outputs": [
    {
     "name": "stdout",
     "output_type": "stream",
     "text": [
      "Starting up\n",
      "The count is 1\n",
      "---------------\n",
      "The count is 2\n",
      "---------------\n",
      "The count is 3\n",
      "---------------\n",
      "The count is 4\n",
      "---------------\n",
      "The count is 5\n",
      "---------------\n",
      "The count is 6\n",
      "---------------\n",
      "The count is 7\n",
      "---------------\n",
      "The count is 8\n",
      "---------------\n",
      "The count is 9\n",
      "---------------\n",
      "The count is 10\n",
      "---------------\n",
      "Finishing up\n"
     ]
    }
   ],
   "source": [
    "counter = 0\n",
    "\n",
    "def worker():\n",
    "    'My job is to increment the counter and print the current count'\n",
    "    global counter\n",
    "\n",
    "    counter += 1\n",
    "    print('The count is %d' % counter)\n",
    "    print('---------------')\n",
    "\n",
    "print('Starting up')\n",
    "for i in range(10):\n",
    "    worker()\n",
    "print('Finishing up')"
   ]
  },
  {
   "cell_type": "code",
   "execution_count": 2,
   "id": "computational-crowd",
   "metadata": {},
   "outputs": [
    {
     "name": "stdout",
     "output_type": "stream",
     "text": [
      "Starting up\n",
      "The count is 1\n",
      "---------------\n",
      "The count is 2\n",
      "---------------\n",
      "The count is 3\n",
      "---------------\n",
      "The count is 4\n",
      "---------------\n",
      "The count is 5\n",
      "---------------\n",
      "The count is 6\n",
      "---------------\n",
      "The count is 7\n",
      "---------------\n",
      "The count is 8\n",
      "---------------\n",
      "The count is 9\n",
      "---------------\n",
      "The count is 10\n",
      "---------------\n",
      "Finishing up\n"
     ]
    }
   ],
   "source": [
    "import threading\n",
    "\n",
    "counter = 0\n",
    "\n",
    "def worker():\n",
    "    'My job is to increment the counter and print the current count'\n",
    "    global counter\n",
    "\n",
    "    counter += 1\n",
    "    print('The count is %d' % counter)\n",
    "    print('---------------')\n",
    "\n",
    "print('Starting up')\n",
    "for i in range(10):\n",
    "    threading.Thread(target=worker).start()\n",
    "print('Finishing up')"
   ]
  },
  {
   "cell_type": "code",
   "execution_count": 3,
   "id": "injured-reasoning",
   "metadata": {},
   "outputs": [
    {
     "name": "stdout",
     "output_type": "stream",
     "text": [
      "Starting up\n",
      "The count is 1\n",
      "---------------\n",
      "The count is 2\n",
      "---------------The count is 3\n",
      "\n",
      "---------------The count is 4The count is 4\n",
      "The count is 4\n",
      "\n",
      "\n",
      "---------------The count is 5------------------------------\n",
      "\n",
      "\n",
      "Finishing up\n",
      "\n",
      "---------------\n",
      "The count is 7The count is 7\n",
      "\n",
      "---------------\n",
      "The count is 8---------------\n",
      "\n",
      "---------------\n"
     ]
    }
   ],
   "source": [
    "import threading, time, random\n",
    "\n",
    "##########################################################################################\n",
    "# Fuzzing is a technique for amplifying race condition errors to make them more visible\n",
    "\n",
    "FUZZ = True\n",
    "\n",
    "def fuzz():\n",
    "    if FUZZ:\n",
    "        time.sleep(random.random())\n",
    "\n",
    "###########################################################################################\n",
    "\n",
    "counter = 0\n",
    "\n",
    "def worker():\n",
    "    'My job is to increment the counter and print the current count'\n",
    "    global counter\n",
    "\n",
    "    fuzz()\n",
    "    oldcnt = counter\n",
    "    fuzz()\n",
    "    counter = oldcnt + 1\n",
    "    fuzz()\n",
    "    print('The count is %d' % counter, end='')\n",
    "    fuzz()\n",
    "    print()\n",
    "    fuzz()\n",
    "    print('---------------', end='')\n",
    "    fuzz()\n",
    "    print()\n",
    "    fuzz()\n",
    "\n",
    "print('Starting up')\n",
    "fuzz()\n",
    "for i in range(10):\n",
    "    threading.Thread(target=worker).start()\n",
    "    fuzz()\n",
    "print('Finishing up')\n",
    "fuzz()"
   ]
  },
  {
   "cell_type": "code",
   "execution_count": null,
   "id": "residential-aquatic",
   "metadata": {},
   "outputs": [],
   "source": []
  },
  {
   "cell_type": "code",
   "execution_count": 8,
   "id": "df286eeb-267e-4fe8-95a7-c87f25958ea9",
   "metadata": {},
   "outputs": [
    {
     "name": "stdout",
     "output_type": "stream",
     "text": [
      "Starting up\n",
      "Finishing up\n",
      "The count is 1\n",
      "---------------\n",
      "The count is 2\n",
      "---------------\n",
      "The count is 3\n",
      "---------------\n",
      "The count is 4\n",
      "---------------\n",
      "The count is 5\n",
      "---------------\n",
      "The count is 6\n",
      "---------------\n",
      "The count is 7\n",
      "---------------\n",
      "The count is 8\n",
      "---------------\n",
      "The count is 9\n",
      "---------------\n",
      "The count is 10\n",
      "---------------\n",
      "Finished\n"
     ]
    }
   ],
   "source": [
    "import asyncio\n",
    "counter = 0\n",
    "\n",
    "async def worker():\n",
    "    'My job is to increment the counter and print the current count'\n",
    "    global counter\n",
    "\n",
    "    fuzz()\n",
    "    oldcnt = counter\n",
    "    fuzz()\n",
    "    counter = oldcnt + 1\n",
    "    fuzz()\n",
    "    print('The count is %d' % counter, end='')\n",
    "    fuzz()\n",
    "    print()\n",
    "    fuzz()\n",
    "    print('---------------', end='')\n",
    "    fuzz()\n",
    "    print()\n",
    "    fuzz()\n",
    "\n",
    "asynctasks = []\n",
    "print('Starting up')\n",
    "fuzz()\n",
    "for i in range(10):\n",
    "    currentTask = asyncio.create_task(worker())\n",
    "    asynctasks.append(currentTask)\n",
    "    fuzz()\n",
    "print('Finishing up')\n",
    "fuzz()\n",
    "\n",
    "\n",
    "finished = await asyncio.gather(*asynctasks)\n",
    "print('Finished')\n"
   ]
  },
  {
   "cell_type": "code",
   "execution_count": null,
   "id": "a31f9e54-3004-439b-8d98-74755f278abd",
   "metadata": {},
   "outputs": [],
   "source": []
  }
 ],
 "metadata": {
  "kernelspec": {
   "display_name": "Python 3 (ipykernel)",
   "language": "python",
   "name": "python3"
  },
  "language_info": {
   "codemirror_mode": {
    "name": "ipython",
    "version": 3
   },
   "file_extension": ".py",
   "mimetype": "text/x-python",
   "name": "python",
   "nbconvert_exporter": "python",
   "pygments_lexer": "ipython3",
   "version": "3.11.5"
  }
 },
 "nbformat": 4,
 "nbformat_minor": 5
}
