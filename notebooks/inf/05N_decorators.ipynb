{
 "cells": [
  {
   "cell_type": "markdown",
   "id": "84d50a2e-1a98-4080-8556-2a212e838f9f",
   "metadata": {},
   "source": [
    "Je možné vrátit funkci"
   ]
  },
  {
   "cell_type": "code",
   "execution_count": 10,
   "id": "2330437b-f1e6-485d-89f0-d3dbccd8b34a",
   "metadata": {},
   "outputs": [
    {
     "data": {
      "text/plain": [
       "7"
      ]
     },
     "execution_count": 10,
     "metadata": {},
     "output_type": "execute_result"
    }
   ],
   "source": [
    "def createFunc(delta):\n",
    "    def result(x):\n",
    "        return x + delta\n",
    "    return result\n",
    "\n",
    "newFunc = createFunc(5)\n",
    "newFunc(2)"
   ]
  },
  {
   "cell_type": "markdown",
   "id": "b28f4518-f115-4327-aa1e-4a9dd0c2b7b1",
   "metadata": {},
   "source": [
    "Je možné jako parametr použít funkci"
   ]
  },
  {
   "cell_type": "code",
   "execution_count": 11,
   "id": "02867c5b-30df-4dd9-abab-02801d49f140",
   "metadata": {},
   "outputs": [
    {
     "data": {
      "text/plain": [
       "3"
      ]
     },
     "execution_count": 11,
     "metadata": {},
     "output_type": "execute_result"
    }
   ],
   "source": [
    "def addOne(x):\n",
    "    return x + 1\n",
    "    \n",
    "def evalWith(func, param):\n",
    "    return func(param)\n",
    "\n",
    "evalWith(addOne, 2)"
   ]
  },
  {
   "cell_type": "markdown",
   "id": "5c6e611f-d53a-4c88-be47-d90694af4184",
   "metadata": {},
   "source": [
    "Je možné vzít funkci a vrátit funkci"
   ]
  },
  {
   "cell_type": "code",
   "execution_count": 12,
   "id": "9e363a52-25d0-445f-ace5-2aa12f5343bc",
   "metadata": {},
   "outputs": [
    {
     "name": "stdout",
     "output_type": "stream",
     "text": [
      "start <function addOne at 0x7fb3444dcae0>\n",
      "end, result is 3\n"
     ]
    },
    {
     "data": {
      "text/plain": [
       "3"
      ]
     },
     "execution_count": 12,
     "metadata": {},
     "output_type": "execute_result"
    }
   ],
   "source": [
    "def logIt(f):\n",
    "    def result(x):\n",
    "        print('start', f)\n",
    "        value = f(x)\n",
    "        print('end, result is', value)\n",
    "        return value\n",
    "    return result\n",
    "\n",
    "logIt(addOne)(2)"
   ]
  },
  {
   "cell_type": "markdown",
   "id": "f933fc06-c72f-4bce-aa49-edb0a75dce7d",
   "metadata": {},
   "source": [
    "Výsledek výše lze použít jako dekorátor"
   ]
  },
  {
   "cell_type": "code",
   "execution_count": 4,
   "id": "0e53c777-f18a-473d-b4cd-7911a827f7d1",
   "metadata": {},
   "outputs": [
    {
     "name": "stdout",
     "output_type": "stream",
     "text": [
      "start <function addTwo at 0x7fb34d9db380>\n",
      "end <function addTwo at 0x7fb34d9db380>\n"
     ]
    },
    {
     "data": {
      "text/plain": [
       "5"
      ]
     },
     "execution_count": 4,
     "metadata": {},
     "output_type": "execute_result"
    }
   ],
   "source": [
    "@logIt\n",
    "def addTwo(x):\n",
    "    return x + 2\n",
    "\n",
    "addTwo(3)"
   ]
  },
  {
   "cell_type": "markdown",
   "id": "1ee61361-3927-45f8-89ee-f9179608637c",
   "metadata": {},
   "source": [
    "Komplexnější dekorátory mohou mít parametry"
   ]
  },
  {
   "cell_type": "code",
   "execution_count": 13,
   "id": "725c759c-62fb-4143-9263-d06a6da08fea",
   "metadata": {},
   "outputs": [
    {
     "name": "stdout",
     "output_type": "stream",
     "text": [
      "start <function addThree at 0x7fb34d9d9da0> with param 4\n",
      "final value 7\n"
     ]
    },
    {
     "data": {
      "text/plain": [
       "7"
      ]
     },
     "execution_count": 13,
     "metadata": {},
     "output_type": "execute_result"
    }
   ],
   "source": [
    "def logItEx(msgIn, msgOut):\n",
    "    def dekorator(f):\n",
    "        def result(x):\n",
    "            print(msgIn.format(f, x))\n",
    "            value = f(x)\n",
    "            print(msgOut.format(f, x, value))\n",
    "            return value\n",
    "        return result\n",
    "    return dekorator\n",
    "\n",
    "@logItEx(msgIn=\"start {0} with param {1}\", msgOut=\"final value {2}\")\n",
    "def addThree(x):\n",
    "    return x + 3\n",
    "\n",
    "addThree(4)"
   ]
  },
  {
   "cell_type": "markdown",
   "id": "91136815-afa9-4e95-8105-dbbc9b496a87",
   "metadata": {},
   "source": [
    "Využití dekorátorů pro registraci funkcí"
   ]
  },
  {
   "cell_type": "code",
   "execution_count": 14,
   "id": "14ebbadb-880c-41d2-92ca-003d074c7b61",
   "metadata": {},
   "outputs": [
    {
     "name": "stdout",
     "output_type": "stream",
     "text": [
      "{'user': <function get_user at 0x7fb3444dc540>, 'group': <function get_group at 0x7fb3444dc720>}\n",
      "{'__type': 'user', 'id': 5}\n"
     ]
    }
   ],
   "source": [
    "storage = {}\n",
    "def register(key):\n",
    "    if key in storage:\n",
    "        raise Exception(key, \"already used\")\n",
    "    def dekorator(f):\n",
    "        storage[key] = f\n",
    "        def result(x):\n",
    "            return f(x)\n",
    "        return result\n",
    "    return dekorator\n",
    "\n",
    "@register(\"user\")\n",
    "def get_user(id):\n",
    "    return {\"__type\": \"user\", \"id\": id}\n",
    "\n",
    "@register(\"group\")\n",
    "def get_group(id):\n",
    "    return {\"__type\": \"group\", \"id\": id}\n",
    "\n",
    "print(storage)\n",
    "\n",
    "def get_entity(name, id):\n",
    "    resolver = storage.get(name, None)\n",
    "    if resolver is not None:\n",
    "        result = resolver(id)\n",
    "        return result\n",
    "    else:\n",
    "        raise Exception(\"Unknown endpoint\", name)\n",
    "\n",
    "entity = get_entity(\"user\", 5)\n",
    "print(entity)"
   ]
  },
  {
   "cell_type": "code",
   "execution_count": null,
   "id": "5ce26fe1-3aba-43ad-b94b-c53e88d0adbb",
   "metadata": {},
   "outputs": [],
   "source": []
  }
 ],
 "metadata": {
  "kernelspec": {
   "display_name": "Python 3 (ipykernel)",
   "language": "python",
   "name": "python3"
  },
  "language_info": {
   "codemirror_mode": {
    "name": "ipython",
    "version": 3
   },
   "file_extension": ".py",
   "mimetype": "text/x-python",
   "name": "python",
   "nbconvert_exporter": "python",
   "pygments_lexer": "ipython3",
   "version": "3.11.5"
  }
 },
 "nbformat": 4,
 "nbformat_minor": 5
}
