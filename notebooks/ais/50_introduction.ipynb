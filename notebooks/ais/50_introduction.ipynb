{
 "cells": [
  {
   "cell_type": "markdown",
   "id": "7bf9ada2-6952-427f-969e-77c8130caef9",
   "metadata": {},
   "source": [
    "# Úvod"
   ]
  },
  {
   "cell_type": "markdown",
   "id": "4230cdbd-b67b-40cf-9da1-0ad3483db975",
   "metadata": {},
   "source": [
    "## Zdroje"
   ]
  },
  {
   "cell_type": "markdown",
   "id": "ffce6ddf-6c5d-429c-b413-1192caaf87a5",
   "metadata": {},
   "source": [
    "Lekce jsou vysoce inspirovány zdrojem\n",
    "\n",
    "https://github.com/jeffheaton/app_deep_learning\n",
    "\n",
    "jejichž autorem je prof. Jeff Heaton (https://github.com/jeffheaton)"
   ]
  },
  {
   "cell_type": "markdown",
   "id": "715d599e-c15b-4cdd-ba79-41408cedceed",
   "metadata": {},
   "source": [
    "## Opakování"
   ]
  },
  {
   "cell_type": "markdown",
   "id": "c20df39c-61ab-45cf-9d39-42734522687f",
   "metadata": {},
   "source": [
    "Připomeňte si:\n",
    "- elementární datové struktury v jazyku Python (číslo, text, logická proměnná)\n",
    "- složené datové struktury v jazyku Python (především List, Dictionary, JSON, Class)\n",
    "- reprezentaci datových struktur ve formátu JSON\n",
    "- generátory a comprehensions\n",
    "- soubory (načtení, uložení, primárně JSON, CSV, ...)"
   ]
  },
  {
   "cell_type": "markdown",
   "id": "d205c912-7070-4ef9-b584-2611f69bc19c",
   "metadata": {},
   "source": [
    "# Příklady"
   ]
  },
  {
   "cell_type": "code",
   "execution_count": 2,
   "id": "1df71477-6cbd-4d5d-83dc-b24bf3be6a87",
   "metadata": {},
   "outputs": [],
   "source": [
    "data = [\n",
    "    {\"mpg\":18.0,\"cylinders\":8,\"displacement\":307.0,\"horsepower\":\"130.0\",\"weight\":3504.0,\"acceleration\":12.0,\"year\":70,\"origin\":1,\"name\":\"chevrolet chevelle malibu\"},\n",
    "    {\"mpg\":15.0,\"cylinders\":8,\"displacement\":350.0,\"horsepower\":\"165.0\",\"weight\":3693.0,\"acceleration\":11.5,\"year\":70,\"origin\":1,\"name\":\"buick skylark 320\"},\n",
    "    {\"mpg\":18.0,\"cylinders\":8,\"displacement\":318.0,\"horsepower\":\"150.0\",\"weight\":3436.0,\"acceleration\":11.0,\"year\":70,\"origin\":1,\"name\":\"plymouth satellite\"},\n",
    "    {\"mpg\":16.0,\"cylinders\":8,\"displacement\":304.0,\"horsepower\":\"150.0\",\"weight\":3433.0,\"acceleration\":12.0,\"year\":70,\"origin\":1,\"name\":\"amc rebel sst\"},\n",
    "    {\"mpg\":17.0,\"cylinders\":8,\"displacement\":302.0,\"horsepower\":\"140.0\",\"weight\":3449.0,\"acceleration\":10.5,\"year\":70,\"origin\":1,\"name\":\"ford torino\"},\n",
    "    {\"mpg\":15.0,\"cylinders\":8,\"displacement\":429.0,\"horsepower\":\"198.0\",\"weight\":4341.0,\"acceleration\":10.0,\"year\":70,\"origin\":1,\"name\":\"ford galaxie 500\"},\n",
    "    {\"mpg\":14.0,\"cylinders\":8,\"displacement\":454.0,\"horsepower\":\"220.0\",\"weight\":4354.0,\"acceleration\":9.0,\"year\":70,\"origin\":1,\"name\":\"chevrolet impala\"},\n",
    "    {\"mpg\":14.0,\"cylinders\":8,\"displacement\":440.0,\"horsepower\":\"215.0\",\"weight\":4312.0,\"acceleration\":8.5,\"year\":70,\"origin\":1,\"name\":\"plymouth fury iii\"},\n",
    "    {\"mpg\":14.0,\"cylinders\":8,\"displacement\":455.0,\"horsepower\":\"225.0\",\"weight\":4425.0,\"acceleration\":10.0,\"year\":70,\"origin\":1,\"name\":\"pontiac catalina\"},\n",
    "    {\"mpg\":15.0,\"cylinders\":8,\"displacement\":390.0,\"horsepower\":\"190.0\",\"weight\":3850.0,\"acceleration\":8.5,\"year\":70,\"origin\":1,\"name\":\"amc ambassador dpl\"},\n",
    "    {\"mpg\":15.0,\"cylinders\":8,\"displacement\":383.0,\"horsepower\":\"170.0\",\"weight\":3563.0,\"acceleration\":10.0,\"year\":70,\"origin\":1,\"name\":\"dodge challenger se\"},\n",
    "    {\"mpg\":14.0,\"cylinders\":8,\"displacement\":340.0,\"horsepower\":\"160.0\",\"weight\":3609.0,\"acceleration\":8.0,\"year\":70,\"origin\":1,\"name\":\"plymouth 'cuda 340\"},\n",
    "    {\"mpg\":15.0,\"cylinders\":8,\"displacement\":400.0,\"horsepower\":\"150.0\",\"weight\":3761.0,\"acceleration\":9.5,\"year\":70,\"origin\":1,\"name\":\"chevrolet monte carlo\"},\n",
    "    {\"mpg\":38.0,\"cylinders\":6,\"displacement\":262.0,\"horsepower\":\"85.00\",\"weight\":3015.0,\"acceleration\":17.0,\"year\":82,\"origin\":1,\"name\":\"oldsmobile cutlass ciera (diesel)\"},\n",
    "    {\"mpg\":26.0,\"cylinders\":4,\"displacement\":156.0,\"horsepower\":\"92.00\",\"weight\":2585.0,\"acceleration\":14.5,\"year\":82,\"origin\":1,\"name\":\"chrysler lebaron medallion\"},\n",
    "    {\"mpg\":22.0,\"cylinders\":6,\"displacement\":232.0,\"horsepower\":\"112.0\",\"weight\":2835.0,\"acceleration\":14.7,\"year\":82,\"origin\":1,\"name\":\"ford granada l\"},\n",
    "    {\"mpg\":32.0,\"cylinders\":4,\"displacement\":144.0,\"horsepower\":\"96.00\",\"weight\":2665.0,\"acceleration\":13.9,\"year\":82,\"origin\":3,\"name\":\"toyota celica gt\"},\n",
    "    {\"mpg\":36.0,\"cylinders\":4,\"displacement\":135.0,\"horsepower\":\"84.00\",\"weight\":2370.0,\"acceleration\":13.0,\"year\":82,\"origin\":1,\"name\":\"dodge charger 2.2\"}\n",
    "]"
   ]
  },
  {
   "cell_type": "markdown",
   "id": "72599a8a-50c6-41da-830d-32a66fc693ac",
   "metadata": {},
   "source": [
    "## Příklad"
   ]
  },
  {
   "cell_type": "markdown",
   "id": "11f51a23-296e-428e-9c80-00b71db1151d",
   "metadata": {},
   "source": [
    "### Zadání"
   ]
  },
  {
   "cell_type": "markdown",
   "id": "7fa3ac65-b87d-4a70-9690-7405b16741cc",
   "metadata": {},
   "source": [
    "Vyberte záznamy, pro které platí, že položka `cylinders` má hodnotu 4."
   ]
  },
  {
   "cell_type": "code",
   "execution_count": 4,
   "id": "1ea69814-1107-4539-ad57-197c208b45a0",
   "metadata": {},
   "outputs": [
    {
     "name": "stdout",
     "output_type": "stream",
     "text": [
      "[{'mpg': 26.0, 'cylinders': 4, 'displacement': 156.0, 'horsepower': '92.00', 'weight': 2585.0, 'acceleration': 14.5, 'year': 82, 'origin': 1, 'name': 'chrysler lebaron medallion'}, {'mpg': 32.0, 'cylinders': 4, 'displacement': 144.0, 'horsepower': '96.00', 'weight': 2665.0, 'acceleration': 13.9, 'year': 82, 'origin': 3, 'name': 'toyota celica gt'}, {'mpg': 36.0, 'cylinders': 4, 'displacement': 135.0, 'horsepower': '84.00', 'weight': 2370.0, 'acceleration': 13.0, 'year': 82, 'origin': 1, 'name': 'dodge charger 2.2'}]\n"
     ]
    }
   ],
   "source": []
  },
  {
   "cell_type": "markdown",
   "id": "608b8d41-3e7c-4083-a7da-0f828241242a",
   "metadata": {},
   "source": [
    "### Řešení"
   ]
  },
  {
   "cell_type": "code",
   "execution_count": 5,
   "id": "4fbec2dd-ab14-47d5-8d74-06d7734bdd63",
   "metadata": {
    "jupyter": {
     "source_hidden": true
    },
    "tags": []
   },
   "outputs": [
    {
     "name": "stdout",
     "output_type": "stream",
     "text": [
      "[{'mpg': 26.0, 'cylinders': 4, 'displacement': 156.0, 'horsepower': '92.00', 'weight': 2585.0, 'acceleration': 14.5, 'year': 82, 'origin': 1, 'name': 'chrysler lebaron medallion'}, {'mpg': 32.0, 'cylinders': 4, 'displacement': 144.0, 'horsepower': '96.00', 'weight': 2665.0, 'acceleration': 13.9, 'year': 82, 'origin': 3, 'name': 'toyota celica gt'}, {'mpg': 36.0, 'cylinders': 4, 'displacement': 135.0, 'horsepower': '84.00', 'weight': 2370.0, 'acceleration': 13.0, 'year': 82, 'origin': 1, 'name': 'dodge charger 2.2'}]\n"
     ]
    }
   ],
   "source": [
    "result = [row for row in data if row[\"cylinders\"] == 4]\n",
    "print(result)"
   ]
  },
  {
   "cell_type": "code",
   "execution_count": null,
   "id": "8ac10ed9-2d66-4bf9-bf01-0b940b22b5e0",
   "metadata": {},
   "outputs": [],
   "source": []
  },
  {
   "cell_type": "markdown",
   "id": "747a68c6-a6ff-41e5-af20-3dcb6911dd35",
   "metadata": {},
   "source": [
    "## Příklad"
   ]
  },
  {
   "cell_type": "markdown",
   "id": "70c28567-be8e-41fb-87b8-b659153145e3",
   "metadata": {},
   "source": [
    "### Zadání"
   ]
  },
  {
   "cell_type": "markdown",
   "id": "e78de43c-51af-4b9c-9395-dca86d9cbf4a",
   "metadata": {},
   "source": [
    "Vyberte záznamy, popisující vozidla značky `ford`."
   ]
  },
  {
   "cell_type": "code",
   "execution_count": null,
   "id": "126712b5-4d87-485c-8375-e96395f08f31",
   "metadata": {},
   "outputs": [],
   "source": []
  },
  {
   "cell_type": "markdown",
   "id": "c7941943-3158-4f79-8ca0-4ad11e5296e7",
   "metadata": {},
   "source": [
    "### Řešení"
   ]
  },
  {
   "cell_type": "code",
   "execution_count": 6,
   "id": "6ac5ae95-fd28-4e0b-964a-e564a9f45291",
   "metadata": {
    "jupyter": {
     "source_hidden": true
    },
    "tags": []
   },
   "outputs": [
    {
     "name": "stdout",
     "output_type": "stream",
     "text": [
      "[{'mpg': 17.0, 'cylinders': 8, 'displacement': 302.0, 'horsepower': '140.0', 'weight': 3449.0, 'acceleration': 10.5, 'year': 70, 'origin': 1, 'name': 'ford torino'}, {'mpg': 15.0, 'cylinders': 8, 'displacement': 429.0, 'horsepower': '198.0', 'weight': 4341.0, 'acceleration': 10.0, 'year': 70, 'origin': 1, 'name': 'ford galaxie 500'}, {'mpg': 22.0, 'cylinders': 6, 'displacement': 232.0, 'horsepower': '112.0', 'weight': 2835.0, 'acceleration': 14.7, 'year': 82, 'origin': 1, 'name': 'ford granada l'}]\n"
     ]
    }
   ],
   "source": [
    "result = list(filter(lambda item: \"ford\" in item[\"name\"], data))\n",
    "print(result)"
   ]
  },
  {
   "cell_type": "markdown",
   "id": "55e64627-c38d-4348-8dfc-06449d8ad4d0",
   "metadata": {},
   "source": [
    "## Příklad"
   ]
  },
  {
   "cell_type": "markdown",
   "id": "18f63b19-8a01-4790-a2ee-636c17971acc",
   "metadata": {},
   "source": [
    "### Zadání"
   ]
  },
  {
   "cell_type": "markdown",
   "id": "4e747c49-ae55-4a1c-a07e-6950481e6007",
   "metadata": {},
   "source": [
    "Vyberte položky (sloupce) `name`, `year`, `horsepower`."
   ]
  },
  {
   "cell_type": "code",
   "execution_count": null,
   "id": "999288a0-3743-41f1-9735-f0ab246e06e4",
   "metadata": {},
   "outputs": [],
   "source": []
  },
  {
   "cell_type": "markdown",
   "id": "18dfd267-6a74-4614-9aa1-8ec2ccf2c12c",
   "metadata": {},
   "source": [
    "### Řešení"
   ]
  },
  {
   "cell_type": "code",
   "execution_count": 8,
   "id": "462aeabb-9dd8-4afb-a04e-6ff001a1afb9",
   "metadata": {},
   "outputs": [
    {
     "name": "stdout",
     "output_type": "stream",
     "text": [
      "[{'name': 'chevrolet chevelle malibu', 'year': 70, 'horsepower': '130.0'}, {'name': 'buick skylark 320', 'year': 70, 'horsepower': '165.0'}, {'name': 'plymouth satellite', 'year': 70, 'horsepower': '150.0'}, {'name': 'amc rebel sst', 'year': 70, 'horsepower': '150.0'}, {'name': 'ford torino', 'year': 70, 'horsepower': '140.0'}, {'name': 'ford galaxie 500', 'year': 70, 'horsepower': '198.0'}, {'name': 'chevrolet impala', 'year': 70, 'horsepower': '220.0'}, {'name': 'plymouth fury iii', 'year': 70, 'horsepower': '215.0'}, {'name': 'pontiac catalina', 'year': 70, 'horsepower': '225.0'}, {'name': 'amc ambassador dpl', 'year': 70, 'horsepower': '190.0'}, {'name': 'dodge challenger se', 'year': 70, 'horsepower': '170.0'}, {'name': \"plymouth 'cuda 340\", 'year': 70, 'horsepower': '160.0'}, {'name': 'chevrolet monte carlo', 'year': 70, 'horsepower': '150.0'}, {'name': 'oldsmobile cutlass ciera (diesel)', 'year': 82, 'horsepower': '85.00'}, {'name': 'chrysler lebaron medallion', 'year': 82, 'horsepower': '92.00'}, {'name': 'ford granada l', 'year': 82, 'horsepower': '112.0'}, {'name': 'toyota celica gt', 'year': 82, 'horsepower': '96.00'}, {'name': 'dodge charger 2.2', 'year': 82, 'horsepower': '84.00'}]\n"
     ]
    }
   ],
   "source": [
    "result = list(map(\n",
    "    lambda row: {\"name\": row[\"name\"], \"year\": row[\"year\"], \"horsepower\": row[\"horsepower\"]},\n",
    "    data))\n",
    "print(result)"
   ]
  },
  {
   "cell_type": "code",
   "execution_count": 9,
   "id": "8e76e21c-0889-40f1-b7f0-e2f3ba9fd571",
   "metadata": {},
   "outputs": [
    {
     "name": "stdout",
     "output_type": "stream",
     "text": [
      "[{'name': 'chevrolet chevelle malibu', 'year': 70, 'horsepower': '130.0'}, {'name': 'buick skylark 320', 'year': 70, 'horsepower': '165.0'}, {'name': 'plymouth satellite', 'year': 70, 'horsepower': '150.0'}, {'name': 'amc rebel sst', 'year': 70, 'horsepower': '150.0'}, {'name': 'ford torino', 'year': 70, 'horsepower': '140.0'}, {'name': 'ford galaxie 500', 'year': 70, 'horsepower': '198.0'}, {'name': 'chevrolet impala', 'year': 70, 'horsepower': '220.0'}, {'name': 'plymouth fury iii', 'year': 70, 'horsepower': '215.0'}, {'name': 'pontiac catalina', 'year': 70, 'horsepower': '225.0'}, {'name': 'amc ambassador dpl', 'year': 70, 'horsepower': '190.0'}, {'name': 'dodge challenger se', 'year': 70, 'horsepower': '170.0'}, {'name': \"plymouth 'cuda 340\", 'year': 70, 'horsepower': '160.0'}, {'name': 'chevrolet monte carlo', 'year': 70, 'horsepower': '150.0'}, {'name': 'oldsmobile cutlass ciera (diesel)', 'year': 82, 'horsepower': '85.00'}, {'name': 'chrysler lebaron medallion', 'year': 82, 'horsepower': '92.00'}, {'name': 'ford granada l', 'year': 82, 'horsepower': '112.0'}, {'name': 'toyota celica gt', 'year': 82, 'horsepower': '96.00'}, {'name': 'dodge charger 2.2', 'year': 82, 'horsepower': '84.00'}]\n"
     ]
    }
   ],
   "source": [
    "result = [\n",
    "    {\"name\": row[\"name\"], \"year\": row[\"year\"], \"horsepower\": row[\"horsepower\"]} \n",
    "    for row in data]\n",
    "print(result)"
   ]
  },
  {
   "cell_type": "markdown",
   "id": "2d2a1494-d998-43ec-a200-8f9438bbdefd",
   "metadata": {},
   "source": [
    "## Příklad"
   ]
  },
  {
   "cell_type": "markdown",
   "id": "53f8a4a6-06be-4087-9dbb-068cf8603e3a",
   "metadata": {},
   "source": [
    "### Zadání"
   ]
  },
  {
   "cell_type": "markdown",
   "id": "61ab32ef-7eb6-4758-99da-004528cb7f25",
   "metadata": {},
   "source": [
    "Vypočítejte průměrnou hodnotu pro položku `horsepower`."
   ]
  },
  {
   "cell_type": "code",
   "execution_count": null,
   "id": "9b65e4b1-2da5-4847-af4d-a506c23eb32d",
   "metadata": {},
   "outputs": [],
   "source": []
  },
  {
   "cell_type": "markdown",
   "id": "63d9a44f-d397-4949-a9b3-d9336e2f2968",
   "metadata": {},
   "source": [
    "### Řešení"
   ]
  },
  {
   "cell_type": "code",
   "execution_count": 10,
   "id": "c76bff46-1eff-42c4-a99d-0f0d24a6824a",
   "metadata": {
    "jupyter": {
     "source_hidden": true
    },
    "tags": []
   },
   "outputs": [
    {
     "name": "stdout",
     "output_type": "stream",
     "text": [
      "['130.0', '165.0', '150.0', '150.0', '140.0', '198.0', '220.0', '215.0', '225.0', '190.0', '170.0', '160.0', '150.0', '85.00', '92.00', '112.0', '96.00', '84.00']\n"
     ]
    }
   ],
   "source": [
    "values = [row[\"horsepower\"] for row in data]\n",
    "print(values)"
   ]
  },
  {
   "cell_type": "markdown",
   "id": "2f57c9a6-5505-4fab-aff8-52408a6f2d26",
   "metadata": {},
   "source": [
    "## Příklad"
   ]
  },
  {
   "cell_type": "markdown",
   "id": "0c8cb465-37eb-4d15-9c85-f33001727d7e",
   "metadata": {},
   "source": [
    "### Zadání"
   ]
  },
  {
   "cell_type": "markdown",
   "id": "c0757a01-b9c6-40ca-97f0-0391d658502a",
   "metadata": {},
   "source": [
    "Určete všechny možné hodnoty pro položku `cylinders`."
   ]
  },
  {
   "cell_type": "code",
   "execution_count": null,
   "id": "073934a3-85f5-4545-8fbd-0b5da58a8498",
   "metadata": {},
   "outputs": [],
   "source": []
  },
  {
   "cell_type": "markdown",
   "id": "2ec2bce2-f22e-4678-aa20-18b2c92e68ce",
   "metadata": {},
   "source": [
    "### Řešení"
   ]
  },
  {
   "cell_type": "code",
   "execution_count": 14,
   "id": "f3fa8f8c-058b-4a5e-b30b-3a36eeb86c12",
   "metadata": {},
   "outputs": [
    {
     "name": "stdout",
     "output_type": "stream",
     "text": [
      "{8, 4, 6}\n"
     ]
    }
   ],
   "source": [
    "values = (set([row[\"cylinders\"] for row in data]))\n",
    "print(values)"
   ]
  },
  {
   "cell_type": "code",
   "execution_count": 16,
   "id": "91b1cd1a-832c-4601-85ff-f874b074ce2f",
   "metadata": {},
   "outputs": [
    {
     "name": "stdout",
     "output_type": "stream",
     "text": [
      "['__add__', '__class__', '__class_getitem__', '__contains__', '__delattr__', '__delitem__', '__dir__', '__doc__', '__eq__', '__format__', '__ge__', '__getattribute__', '__getitem__', '__gt__', '__hash__', '__iadd__', '__imul__', '__init__', '__init_subclass__', '__iter__', '__le__', '__len__', '__lt__', '__mul__', '__ne__', '__new__', '__reduce__', '__reduce_ex__', '__repr__', '__reversed__', '__rmul__', '__setattr__', '__setitem__', '__sizeof__', '__str__', '__subclasshook__', 'append', 'clear', 'copy', 'count', 'extend', 'index', 'insert', 'pop', 'remove', 'reverse', 'sort']\n"
     ]
    }
   ],
   "source": [
    "print(dir(list))"
   ]
  },
  {
   "cell_type": "markdown",
   "id": "54c91d40-6bdf-48b7-a797-66af4668a567",
   "metadata": {},
   "source": [
    "## Příklad"
   ]
  },
  {
   "cell_type": "markdown",
   "id": "fbaf817d-a339-4679-bd53-54242d87b05c",
   "metadata": {},
   "source": [
    "### Zadání"
   ]
  },
  {
   "cell_type": "markdown",
   "id": "54cdde16-c770-4829-aba6-c17f5e6e710a",
   "metadata": {},
   "source": [
    "Určete všechny zmíněné značky (ford apod.)."
   ]
  },
  {
   "cell_type": "code",
   "execution_count": null,
   "id": "71a4e6bd-47e3-482d-9e1d-3df29a2f9bf7",
   "metadata": {},
   "outputs": [],
   "source": []
  },
  {
   "cell_type": "markdown",
   "id": "8e28cfc3-c29e-4c80-9217-fa369862e8ec",
   "metadata": {},
   "source": [
    "### Řešení"
   ]
  },
  {
   "cell_type": "code",
   "execution_count": null,
   "id": "4f6ce949-9e88-4327-85e1-5fc6134e5797",
   "metadata": {},
   "outputs": [],
   "source": []
  },
  {
   "cell_type": "markdown",
   "id": "0716094d-39d7-41ff-b594-9a3cc566be20",
   "metadata": {},
   "source": [
    "## Příklad"
   ]
  },
  {
   "cell_type": "markdown",
   "id": "9c562cab-5c24-4cab-b36d-01a64e3506ea",
   "metadata": {},
   "source": [
    "### Zadání"
   ]
  },
  {
   "cell_type": "markdown",
   "id": "d603613e-182a-4a10-86a8-194da84286d2",
   "metadata": {},
   "source": [
    "Vypočítejte průměrnou hodnotu pro položku `horsepower` v závislosti na položce `cylinders`."
   ]
  },
  {
   "cell_type": "code",
   "execution_count": null,
   "id": "f7d20dd8-1c44-4152-a87b-c35523142ba6",
   "metadata": {},
   "outputs": [],
   "source": []
  },
  {
   "cell_type": "markdown",
   "id": "dadbbce6-6377-4abe-a92f-69be8414310e",
   "metadata": {},
   "source": [
    "### Řešení"
   ]
  },
  {
   "cell_type": "code",
   "execution_count": null,
   "id": "d9aa674a-6dbb-4e2c-a81e-945c6afa3182",
   "metadata": {},
   "outputs": [],
   "source": []
  },
  {
   "cell_type": "markdown",
   "id": "dea4fbea-c402-4bb9-9e08-5ffdfc7b8440",
   "metadata": {},
   "source": [
    "## Příklad"
   ]
  },
  {
   "cell_type": "markdown",
   "id": "15736824-606d-47b2-8245-a4090302e317",
   "metadata": {},
   "source": [
    "### Zadání"
   ]
  },
  {
   "cell_type": "markdown",
   "id": "f446de2c-ecd1-43aa-aacd-ce6b3f9550bc",
   "metadata": {},
   "source": [
    "Na základě datové struktury níže vypište názvy skupin a seznam jejich členů. \n",
    "Jako součást řešení napište parametrickou funkci vracející datovou strukturu obsahující členy skupiny identifikované pomocí id."
   ]
  },
  {
   "cell_type": "code",
   "execution_count": null,
   "id": "076bd5f4-4979-42c9-a4b8-98c52844a523",
   "metadata": {},
   "outputs": [],
   "source": [
    "data = {\n",
    "    \"users\": [\n",
    "        {\"id\": \"3f1e7720-561a-11ee-9e47-0242ac140004\", \"name\": \"John\"},\n",
    "        {\"id\": \"3f1e8152-561a-11ee-9e47-0242ac140004\", \"name\": \"Julia\"}\n",
    "    ],\n",
    "    \"groups\": [\n",
    "        {\"id\": \"3f1e81b6-561a-11ee-9e47-0242ac140004\", \"name\": \"G1\"},\n",
    "        {\"id\": \"3f1e81f2-561a-11ee-9e47-0242ac140004\", \"name\": \"G2\"}\n",
    "    ],\n",
    "    \"memberships\": [\n",
    "        {\"group_id\": \"3f1e81b6-561a-11ee-9e47-0242ac140004\", \"user_id\": \"3f1e7720-561a-11ee-9e47-0242ac140004\"},\n",
    "        {\"group_id\": \"3f1e81b6-561a-11ee-9e47-0242ac140004\", \"user_id\": \"3f1e8152-561a-11ee-9e47-0242ac140004\"},\n",
    "    ]   \n",
    "}"
   ]
  },
  {
   "cell_type": "code",
   "execution_count": null,
   "id": "934155ce-e7c9-44e1-a7dc-45daab4cff42",
   "metadata": {},
   "outputs": [],
   "source": []
  },
  {
   "cell_type": "markdown",
   "id": "d1692824-8b41-4010-a601-6c1e87110f6a",
   "metadata": {},
   "source": [
    "### Řešení"
   ]
  },
  {
   "cell_type": "code",
   "execution_count": null,
   "id": "3290dcdd-dcc2-4b86-8610-561302ecf5b4",
   "metadata": {},
   "outputs": [],
   "source": []
  }
 ],
 "metadata": {
  "kernelspec": {
   "display_name": "Python 3 (ipykernel)",
   "language": "python",
   "name": "python3"
  },
  "language_info": {
   "codemirror_mode": {
    "name": "ipython",
    "version": 3
   },
   "file_extension": ".py",
   "mimetype": "text/x-python",
   "name": "python",
   "nbconvert_exporter": "python",
   "pygments_lexer": "ipython3",
   "version": "3.11.5"
  },
  "toc-autonumbering": true
 },
 "nbformat": 4,
 "nbformat_minor": 5
}
