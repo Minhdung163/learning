{
 "cells": [
  {
   "cell_type": "markdown",
   "id": "af4d756d-d5c2-41af-8207-e8ea47191459",
   "metadata": {},
   "source": [
    "# Perceptron"
   ]
  },
  {
   "cell_type": "markdown",
   "id": "2e75ecac-ef5f-4fd0-b514-7d3e1f404cd7",
   "metadata": {},
   "source": [
    "https://www.pycodemates.com/2022/12/perceptron-algorithm-understanding-and-implementation-python.html"
   ]
  },
  {
   "cell_type": "markdown",
   "id": "48e43ed8-5d76-4345-adf8-e4322e2e55a1",
   "metadata": {},
   "source": [
    "## Class code"
   ]
  },
  {
   "cell_type": "code",
   "execution_count": 1,
   "id": "e444e2d7-9728-45ac-8457-a07e0b26dbd2",
   "metadata": {},
   "outputs": [],
   "source": [
    "import numpy as np\n",
    "\n",
    "class Perceptron:\n",
    "    \n",
    "    def __init__(self, learning_rate=0.001, epochs=100):\n",
    "        self.weights = None\n",
    "        self.bias = None\n",
    "        self.learning_rate = learning_rate\n",
    "        self.epochs = epochs\n",
    "        \n",
    "    # heaviside activation function\n",
    "    def activation(self, z):\n",
    "        return np.heaviside(z, 0) # heaviside(z) heaviside -> activation\n",
    "    \n",
    "    def fit(self, X, y):\n",
    "        n_features = X.shape[1]\n",
    "        \n",
    "        # Initializing weights and bias\n",
    "        self.weights = np.zeros((n_features))\n",
    "        self.bias = 0\n",
    "        \n",
    "        # Iterating until the number of epochs\n",
    "        for epoch in range(self.epochs):\n",
    "            \n",
    "            # Traversing through the entire training set\n",
    "            for i in range(len(X)):\n",
    "                z = np.dot(X, self.weights) + self.bias # Finding the dot product and adding the bias\n",
    "                y_pred = self.activation(z) # Passing through an activation function\n",
    "                \n",
    "                #Updating weights and bias\n",
    "                self.weights = self.weights + self.learning_rate * (y[i] - y_pred[i]) * X[i]\n",
    "                self.bias = self.bias + self.learning_rate * (y[i] - y_pred[i])\n",
    "                \n",
    "        return self.weights, self.bias\n",
    "    \n",
    "    def predict(self, X):\n",
    "        z = np.dot(X, self.weights) + self.bias\n",
    "        return self.activation(z)"
   ]
  },
  {
   "cell_type": "markdown",
   "id": "9becc3cd-d814-48d5-839d-9ea80da7263f",
   "metadata": {},
   "source": [
    "## Iris dataset"
   ]
  },
  {
   "cell_type": "code",
   "execution_count": 3,
   "id": "4455c141-cc4c-4643-a4d8-418967ab64d8",
   "metadata": {},
   "outputs": [],
   "source": [
    "from sklearn.datasets import load_iris\n",
    "from sklearn.model_selection import train_test_split\n",
    "\n",
    "iris = load_iris() \n",
    "\n",
    "X = iris.data[:, (0, 1)] # petal length, petal width\n",
    "y = (iris.target == 0).astype(int)\n",
    "\n",
    "X_train, X_test, y_train, y_test = train_test_split(X, y, test_size=0.5, random_state=42)"
   ]
  },
  {
   "cell_type": "markdown",
   "id": "446fea48-73b9-413c-a2d5-f6f0f63fa27a",
   "metadata": {},
   "source": [
    "## Train and test"
   ]
  },
  {
   "cell_type": "code",
   "execution_count": 4,
   "id": "c59c5426-d63c-4b60-9c03-b88e42ec98aa",
   "metadata": {},
   "outputs": [
    {
     "data": {
      "text/plain": [
       "0.96"
      ]
     },
     "execution_count": 4,
     "metadata": {},
     "output_type": "execute_result"
    }
   ],
   "source": [
    "from sklearn.metrics import accuracy_score\n",
    "perceptron = Perceptron(0.001, 100)\n",
    "\n",
    "perceptron.fit(X_train, y_train)\n",
    "\n",
    "pred = perceptron.predict(X_test)\n",
    "\n",
    "accuracy_score(pred, y_test)"
   ]
  },
  {
   "cell_type": "markdown",
   "id": "2a2dc779-74b0-472b-a258-6d72857819ce",
   "metadata": {},
   "source": [
    "## Accuracy score"
   ]
  },
  {
   "cell_type": "code",
   "execution_count": 5,
   "id": "4a7e3297-3bd8-4c9f-8df2-72d1c9b2440c",
   "metadata": {},
   "outputs": [
    {
     "name": "stdout",
     "output_type": "stream",
     "text": [
      "              precision    recall  f1-score   support\n",
      "\n",
      "         0.0       0.93      1.00      0.97        43\n",
      "         1.0       1.00      0.91      0.95        32\n",
      "\n",
      "    accuracy                           0.96        75\n",
      "   macro avg       0.97      0.95      0.96        75\n",
      "weighted avg       0.96      0.96      0.96        75\n",
      "\n"
     ]
    }
   ],
   "source": [
    "from sklearn.metrics import classification_report\n",
    "\n",
    "report = classification_report(pred, y_test, digits=2)\n",
    "print(report)"
   ]
  },
  {
   "cell_type": "markdown",
   "id": "273c47ac-c738-49d8-a066-39571f5d630a",
   "metadata": {},
   "source": [
    "## sklearn perceptron"
   ]
  },
  {
   "cell_type": "code",
   "execution_count": 6,
   "id": "c397801c-93ad-4501-b34d-f3c206783c92",
   "metadata": {},
   "outputs": [
    {
     "data": {
      "text/plain": [
       "0.88"
      ]
     },
     "execution_count": 6,
     "metadata": {},
     "output_type": "execute_result"
    }
   ],
   "source": [
    "from sklearn.linear_model import Perceptron\n",
    "\n",
    "\n",
    "sk_perceptron = Perceptron()\n",
    "sk_perceptron.fit(X_train, y_train)\n",
    "sk_perceptron_pred = sk_perceptron.predict(X_test)\n",
    "\n",
    "# Accuracy\n",
    "\n",
    "accuracy_score(sk_perceptron_pred, y_test)"
   ]
  },
  {
   "cell_type": "code",
   "execution_count": null,
   "id": "dd8cdd1e-1289-4814-b280-6f6a2b9303a7",
   "metadata": {},
   "outputs": [],
   "source": []
  }
 ],
 "metadata": {
  "kernelspec": {
   "display_name": "Python 3 (ipykernel)",
   "language": "python",
   "name": "python3"
  },
  "language_info": {
   "codemirror_mode": {
    "name": "ipython",
    "version": 3
   },
   "file_extension": ".py",
   "mimetype": "text/x-python",
   "name": "python",
   "nbconvert_exporter": "python",
   "pygments_lexer": "ipython3",
   "version": "3.10.6"
  }
 },
 "nbformat": 4,
 "nbformat_minor": 5
}
