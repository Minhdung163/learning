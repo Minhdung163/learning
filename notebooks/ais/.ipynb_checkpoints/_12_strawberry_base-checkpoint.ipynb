{
 "cells": [
  {
   "cell_type": "markdown",
   "id": "6f0a2fc3-b610-4462-bc97-e24d504eb8cf",
   "metadata": {},
   "source": [
    "# Strawberry"
   ]
  },
  {
   "cell_type": "markdown",
   "id": "4b9ae663-7baa-4ce4-a472-f813766eac80",
   "metadata": {},
   "source": [
    "## Libraries dependency and imports"
   ]
  },
  {
   "cell_type": "code",
   "execution_count": 6,
   "id": "9be31ad0-3f61-499a-a8a6-a08e511e36d5",
   "metadata": {},
   "outputs": [
    {
     "name": "stdout",
     "output_type": "stream",
     "text": [
      "Requirement already satisfied: strawberry-graphql in /opt/conda/lib/python3.11/site-packages (0.209.6)\n",
      "Requirement already satisfied: graphql-core<3.3.0,>=3.2.0 in /opt/conda/lib/python3.11/site-packages (from strawberry-graphql) (3.2.3)\n",
      "Requirement already satisfied: python-dateutil<3.0.0,>=2.7.0 in /opt/conda/lib/python3.11/site-packages (from strawberry-graphql) (2.8.2)\n",
      "Requirement already satisfied: typing-extensions>=4.5.0 in /opt/conda/lib/python3.11/site-packages (from strawberry-graphql) (4.8.0)\n",
      "Requirement already satisfied: six>=1.5 in /opt/conda/lib/python3.11/site-packages (from python-dateutil<3.0.0,>=2.7.0->strawberry-graphql) (1.16.0)\n",
      "Requirement already satisfied: uvicorn[standard] in /opt/conda/lib/python3.11/site-packages (0.23.2)\n",
      "Requirement already satisfied: click>=7.0 in /opt/conda/lib/python3.11/site-packages (from uvicorn[standard]) (8.1.7)\n",
      "Requirement already satisfied: h11>=0.8 in /opt/conda/lib/python3.11/site-packages (from uvicorn[standard]) (0.14.0)\n",
      "Requirement already satisfied: httptools>=0.5.0 in /opt/conda/lib/python3.11/site-packages (from uvicorn[standard]) (0.6.0)\n",
      "Requirement already satisfied: python-dotenv>=0.13 in /opt/conda/lib/python3.11/site-packages (from uvicorn[standard]) (1.0.0)\n",
      "Requirement already satisfied: pyyaml>=5.1 in /opt/conda/lib/python3.11/site-packages (from uvicorn[standard]) (6.0.1)\n",
      "Requirement already satisfied: uvloop!=0.15.0,!=0.15.1,>=0.14.0 in /opt/conda/lib/python3.11/site-packages (from uvicorn[standard]) (0.17.0)\n",
      "Requirement already satisfied: watchfiles>=0.13 in /opt/conda/lib/python3.11/site-packages (from uvicorn[standard]) (0.20.0)\n",
      "Requirement already satisfied: websockets>=10.4 in /opt/conda/lib/python3.11/site-packages (from uvicorn[standard]) (11.0.3)\n",
      "Requirement already satisfied: anyio>=3.0.0 in /opt/conda/lib/python3.11/site-packages (from watchfiles>=0.13->uvicorn[standard]) (3.7.1)\n",
      "Requirement already satisfied: idna>=2.8 in /opt/conda/lib/python3.11/site-packages (from anyio>=3.0.0->watchfiles>=0.13->uvicorn[standard]) (3.4)\n",
      "Requirement already satisfied: sniffio>=1.1 in /opt/conda/lib/python3.11/site-packages (from anyio>=3.0.0->watchfiles>=0.13->uvicorn[standard]) (1.3.0)\n",
      "Requirement already satisfied: fastapi in /opt/conda/lib/python3.11/site-packages (0.103.2)\n",
      "Requirement already satisfied: anyio<4.0.0,>=3.7.1 in /opt/conda/lib/python3.11/site-packages (from fastapi) (3.7.1)\n",
      "Requirement already satisfied: pydantic!=1.8,!=1.8.1,!=2.0.0,!=2.0.1,!=2.1.0,<3.0.0,>=1.7.4 in /opt/conda/lib/python3.11/site-packages (from fastapi) (2.4.2)\n",
      "Requirement already satisfied: starlette<0.28.0,>=0.27.0 in /opt/conda/lib/python3.11/site-packages (from fastapi) (0.27.0)\n",
      "Requirement already satisfied: typing-extensions>=4.5.0 in /opt/conda/lib/python3.11/site-packages (from fastapi) (4.8.0)\n",
      "Requirement already satisfied: idna>=2.8 in /opt/conda/lib/python3.11/site-packages (from anyio<4.0.0,>=3.7.1->fastapi) (3.4)\n",
      "Requirement already satisfied: sniffio>=1.1 in /opt/conda/lib/python3.11/site-packages (from anyio<4.0.0,>=3.7.1->fastapi) (1.3.0)\n",
      "Requirement already satisfied: annotated-types>=0.4.0 in /opt/conda/lib/python3.11/site-packages (from pydantic!=1.8,!=1.8.1,!=2.0.0,!=2.0.1,!=2.1.0,<3.0.0,>=1.7.4->fastapi) (0.6.0)\n",
      "Requirement already satisfied: pydantic-core==2.10.1 in /opt/conda/lib/python3.11/site-packages (from pydantic!=1.8,!=1.8.1,!=2.0.0,!=2.0.1,!=2.1.0,<3.0.0,>=1.7.4->fastapi) (2.10.1)\n",
      "Requirement already satisfied: psycopg2-binary in /opt/conda/lib/python3.11/site-packages (2.9.9)\n"
     ]
    }
   ],
   "source": [
    "!pip install strawberry-graphql\n",
    "!pip install uvicorn[standard]\n",
    "!pip install fastapi\n",
    "!pip install psycopg2-binary"
   ]
  },
  {
   "cell_type": "markdown",
   "id": "e2f3b146-c574-4501-b687-736adce5eb45",
   "metadata": {},
   "source": [
    "## Helper Func for App in Notebook"
   ]
  },
  {
   "cell_type": "markdown",
   "id": "f9c916d9-1935-42ad-9827-340c38a37bd6",
   "metadata": {},
   "source": [
    "V ukázkách dále bude použit kód, který je specifický pro prostředí jupyter a který tak umožňuje spouštět ukázky přímo v notebooku. Fakticky je kódem vytvořen subproces, který zabezpečuje běh serveru. Identifikace subprocesu je uložena v datové struktuře `servers`. Díky tomu lze identifikovat, zda na požadovaném portu již nějaký server běží a v případě potřeby jej zastavit a spustit nový server.\n",
    "\n",
    "Po ukončení experimentů se serverem (kódem) je nutné tento server zastavit, aby došlo k uvolnění portu. V případe problémů je možné, že bude nezbytné restartovat jupyter, aby byly porty uvolněny. Je-li spuštěn nový server, aniž by běžící na stejném portu byl ukončen, dojde k chybovému stavu.\n",
    "\n",
    "```python\n",
    "assert port in [9991, 9992, 9993, 9994]\n",
    "```\n",
    "Slouží k ověření, že požadovaný port je dostupný i z prostředí mimo jupyter. Vzpomeňte si na konfiguraci docker stacku a mapování portů mimo jupyter kontejner."
   ]
  },
  {
   "cell_type": "code",
   "execution_count": 7,
   "id": "6a45f006-a6da-4efb-a243-1fe898f4b554",
   "metadata": {},
   "outputs": [],
   "source": [
    "# Code in this cell is just for (re)starting the API on a Process, and other compatibility stuff with Jupyter cells.\n",
    "# Just ignore it!\n",
    "import uvicorn\n",
    "from multiprocessing import Process\n",
    "\n",
    "servers = {}\n",
    "\n",
    "def start_api(app=None, port=9992, runNew=True):\n",
    "    \"\"\"Stop the API if running; Start the API; Wait until API (port) is available (reachable)\"\"\"\n",
    "    assert port in [9991, 9992, 9993, 9994], f'port has unexpected value {port}'\n",
    "    def run():\n",
    "        uvicorn.run(app, port=port, host='0.0.0.0', root_path='')    \n",
    "        \n",
    "    _api_process = servers.get(port, None)\n",
    "    if _api_process:\n",
    "        _api_process.terminate()\n",
    "        _api_process.join()\n",
    "        del servers[port]\n",
    "    \n",
    "    if runNew:\n",
    "        assert (not app is None), 'app is None'\n",
    "        _api_process = Process(target=run, daemon=True)\n",
    "        _api_process.start()\n",
    "        servers[port] = _api_process"
   ]
  },
  {
   "cell_type": "code",
   "execution_count": 3,
   "id": "1129fde8-ffa9-47c1-8198-d72dc109f7be",
   "metadata": {
    "jupyter": {
     "source_hidden": true
    },
    "tags": []
   },
   "outputs": [],
   "source": [
    "import os\n",
    "import asyncio\n",
    "import multiprocessing\n",
    "servers = {}\n",
    "\n",
    "def _start_api(app=None, port=9992, runNew=True):\n",
    "    \"\"\"Stop the API if running; Start the API; Wait until API (port) is available (reachable)\"\"\"\n",
    "    assert port in [9991, 9992, 9993, 9994], f'port has unexpected value {port}'\n",
    "    \n",
    "    async def runAsync():\n",
    "        config = uvicorn.Config(app, port=port, host='0.0.0.0', log_level=\"info\")\n",
    "        server = uvicorn.Server(config)\n",
    "        await server.serve()\n",
    "        #uvicorn.run(app, port=port, host='0.0.0.0', root_path='')    \n",
    "        \n",
    "    def withLoop():\n",
    "        process_name = \"[Process %s]\" % (os.getpid())\n",
    "        print(\"%s Started \" % process_name)\n",
    "\n",
    "        #loop = asyncio.get_event_loop()\n",
    "        loop = asyncio.new_event_loop()\n",
    "        try:\n",
    "            loop.run_until_complete(runAsync())\n",
    "        except KeyboardInterrupt:\n",
    "            print(\"%s Loop interrupted\" % process_name)\n",
    "            loop.stop()\n",
    "\n",
    "        print(\"%s terminating\" % process_name)\n",
    "        pass\n",
    "    \n",
    "    _api_process = servers.get(port, None)\n",
    "    if _api_process:\n",
    "        _api_process.terminate()\n",
    "        _api_process.join()\n",
    "        del servers[port]\n",
    "    \n",
    "    if runNew:\n",
    "        assert (not app is None), 'app is None'\n",
    "        _api_process = multiprocessing.Process(target=withLoop)\n",
    "        #_api_process = Process(target=run, daemon=True)\n",
    "        _api_process.start()\n",
    "        servers[port] = _api_process"
   ]
  },
  {
   "cell_type": "code",
   "execution_count": 8,
   "id": "6c7ae468-5b06-46d2-b992-81d73ba5af6b",
   "metadata": {},
   "outputs": [
    {
     "name": "stdout",
     "output_type": "stream",
     "text": [
      "Requirement already satisfied: gunicorn in /opt/conda/lib/python3.11/site-packages (21.2.0)\n",
      "Requirement already satisfied: packaging in /opt/conda/lib/python3.11/site-packages (from gunicorn) (23.2)\n"
     ]
    }
   ],
   "source": [
    "!pip install gunicorn"
   ]
  },
  {
   "cell_type": "markdown",
   "id": "a6e75a31-bf19-4c9b-add1-dc1f4354144f",
   "metadata": {},
   "source": [
    "? # Code in this cell is just for (re)starting the API on a Process, and other compatibility stuff with Jupyter cells.\n",
    "? # Just ignore it!\n",
    "import uvicorn\n",
    "from multiprocessing import Process\n",
    "\n",
    "async def start_api(app=None, port=9992, runNew=True):\n",
    "    \"\"\"Stop the API if running; Start the API; Wait until API (port) is available (reachable)\"\"\"\n",
    "    assert port in [9991, 9992, 9993, 9994], f'port has unexpected value {port}'\n",
    "\n",
    "    config = uvicorn.Config(app, port=port, host='0.0.0.0', log_level=\"info\")\n",
    "    server = uvicorn.Server(config)\n",
    "    await server.serve()\n",
    "\n",
    "await start_api(app, port=9992, runNew=True)"
   ]
  },
  {
   "cell_type": "code",
   "execution_count": 31,
   "id": "dfb0df48-9959-4ec7-a652-a35d0a550d12",
   "metadata": {},
   "outputs": [],
   "source": [
    "#start_api(app, port=9992, runNew=False)"
   ]
  },
  {
   "cell_type": "markdown",
   "id": "f809add7-6f0c-4586-ad33-23cec9244e69",
   "metadata": {},
   "source": [
    "## Hello World in Strawberry"
   ]
  },
  {
   "cell_type": "markdown",
   "id": "d1c2e7a5-d693-4bef-9292-5f7d4e8a46c0",
   "metadata": {},
   "source": [
    "Následující kód je \"klasický\" hello world, po spuštění otevřete \n",
    "\n",
    "http://localhost:31102/gql\n",
    "\n",
    "Přestože je výše v kódu definovaný port 9992, je nutné si uvědomit, že ve stacku learning je tento port mapován na 31102.\n",
    "Pokud máte jiný stack, či jiné prostředí, přizpůsobte si url adresu.\n",
    "\n",
    "Neopomeňte server ukončit `start_api(runNew=False)`"
   ]
  },
  {
   "cell_type": "code",
   "execution_count": 9,
   "id": "17340e10-6fd4-4395-8c69-8a6b11535d24",
   "metadata": {},
   "outputs": [
    {
     "name": "stderr",
     "output_type": "stream",
     "text": [
      "INFO:     Started server process [9173]\n",
      "INFO:     Waiting for application startup.\n",
      "INFO:     Application startup complete.\n",
      "INFO:     Uvicorn running on http://0.0.0.0:9992 (Press CTRL+C to quit)\n"
     ]
    },
    {
     "name": "stdout",
     "output_type": "stream",
     "text": [
      "INFO:     172.18.0.1:54098 - \"GET /gql HTTP/1.1\" 307 Temporary Redirect\n",
      "INFO:     172.18.0.1:54100 - \"GET / HTTP/1.1\" 200 OK\n",
      "INFO:     172.18.0.1:54100 - \"POST / HTTP/1.1\" 200 OK\n",
      "INFO:     172.18.0.1:54128 - \"POST / HTTP/1.1\" 200 OK\n"
     ]
    },
    {
     "name": "stderr",
     "output_type": "stream",
     "text": [
      "INFO:     Shutting down\n",
      "INFO:     Waiting for application shutdown.\n",
      "INFO:     Application shutdown complete.\n",
      "INFO:     Finished server process [9173]\n"
     ]
    }
   ],
   "source": [
    "import strawberry\n",
    "import uuid\n",
    "\n",
    "@strawberry.type(description=\"\"\"Type for query root\"\"\")\n",
    "class Query:\n",
    "\n",
    "    @strawberry.field(description=\"\"\"Returns a hello\"\"\")\n",
    "    async def say_hello(self, info: strawberry.types.Info, id: strawberry.ID) -> str:\n",
    "        result = f'Hello {id}'\n",
    "        return result\n",
    "    \n",
    "from strawberry.asgi import GraphQL\n",
    "\n",
    "graphql_app = GraphQL(\n",
    "    strawberry.federation.Schema(Query), \n",
    "    graphiql = True,\n",
    "    allow_queries_via_get = True\n",
    ")\n",
    "\n",
    "from fastapi import FastAPI\n",
    "app = FastAPI()\n",
    "app.mount(\"/gql\", graphql_app)\n",
    "\n",
    "start_api(app, port=9992, runNew=True)"
   ]
  },
  {
   "cell_type": "markdown",
   "id": "09dadd23-adfc-4db8-8fba-09860676a188",
   "metadata": {},
   "source": [
    "http://localhost:31102/gql"
   ]
  },
  {
   "cell_type": "code",
   "execution_count": 10,
   "id": "819a65eb-8893-4ca0-bcfd-da20082738b7",
   "metadata": {},
   "outputs": [],
   "source": [
    "start_api(app, port=9992, runNew=False)"
   ]
  },
  {
   "cell_type": "markdown",
   "id": "e9bd519a-c292-4e23-8c21-bcd1d4e1d6d6",
   "metadata": {},
   "source": [
    "## Strawberry with objects"
   ]
  },
  {
   "cell_type": "code",
   "execution_count": 11,
   "id": "501b38d4-4241-478e-8fd4-6fc59679213c",
   "metadata": {},
   "outputs": [
    {
     "name": "stderr",
     "output_type": "stream",
     "text": [
      "INFO:     Started server process [10967]\n",
      "INFO:     Waiting for application startup.\n",
      "INFO:     Application startup complete.\n",
      "INFO:     Uvicorn running on http://0.0.0.0:9992 (Press CTRL+C to quit)\n"
     ]
    },
    {
     "name": "stdout",
     "output_type": "stream",
     "text": [
      "INFO:     172.18.0.1:54678 - \"POST / HTTP/1.1\" 200 OK\n",
      "INFO:     172.18.0.1:54732 - \"POST / HTTP/1.1\" 200 OK\n"
     ]
    },
    {
     "name": "stderr",
     "output_type": "stream",
     "text": [
      "INFO:     Shutting down\n",
      "INFO:     Waiting for application shutdown.\n",
      "INFO:     Application shutdown complete.\n",
      "INFO:     Finished server process [10967]\n"
     ]
    }
   ],
   "source": [
    "import strawberry\n",
    "import uuid\n",
    "\n",
    "@strawberry.federation.type(keys=[\"id\"], description=\"\"\"Entity representing an user\"\"\")\n",
    "class UserGQLModel:\n",
    "    @classmethod\n",
    "    async def resolve_reference(cls, info: strawberry.types.Info, id: strawberry.ID):\n",
    "        result = {'name': f'John({id})', 'id': id}\n",
    "        return result\n",
    "    \n",
    "    @strawberry.field(description=\"\"\"user name\"\"\")\n",
    "    async def name(self, info: strawberry.types.Info) -> str:\n",
    "        result = self['name']\n",
    "        return result\n",
    "    \n",
    "    @strawberry.field(description=\"\"\"user id\"\"\")\n",
    "    async def id(self, info: strawberry.types.Info) -> str:\n",
    "        result = self['id']\n",
    "        return result\n",
    "    \n",
    "@strawberry.type(description=\"\"\"Type for query root\"\"\")\n",
    "class Query:\n",
    "\n",
    "    @strawberry.field(description=\"\"\"Returns a hello\"\"\")\n",
    "    async def user_by_id(self, info: strawberry.types.Info, id: strawberry.ID) -> UserGQLModel:\n",
    "        result = await UserGQLModel.resolve_reference(info, id)\n",
    "        return result\n",
    "    \n",
    "from strawberry.asgi import GraphQL\n",
    "\n",
    "graphql_app = GraphQL(\n",
    "    strawberry.federation.Schema(Query), \n",
    "    graphiql = True,\n",
    "    allow_queries_via_get = True\n",
    ")\n",
    "\n",
    "from fastapi import FastAPI\n",
    "app = FastAPI()\n",
    "app.mount(\"/gql\", graphql_app)\n",
    "\n",
    "start_api(app, port=9992, runNew=True)"
   ]
  },
  {
   "cell_type": "code",
   "execution_count": 17,
   "id": "abaa13fe-eb05-416b-98a4-4f210872c3ab",
   "metadata": {},
   "outputs": [],
   "source": [
    "start_api(app, port=9992, runNew=False)"
   ]
  },
  {
   "cell_type": "code",
   "execution_count": 18,
   "id": "5720d73d-0815-4a6f-916f-c43590334b0f",
   "metadata": {},
   "outputs": [
    {
     "ename": "DuplicatedTypeName",
     "evalue": "Type GroupGQLModel is defined multiple times in the schema",
     "output_type": "error",
     "traceback": [
      "\u001b[0;31m---------------------------------------------------------------------------\u001b[0m",
      "\u001b[0;31mDuplicatedTypeName\u001b[0m                        Traceback (most recent call last)",
      "Cell \u001b[0;32mIn[18], line 67\u001b[0m\n\u001b[1;32m     62\u001b[0m         \u001b[38;5;28;01mreturn\u001b[39;00m result\n\u001b[1;32m     64\u001b[0m \u001b[38;5;28;01mfrom\u001b[39;00m \u001b[38;5;21;01mstrawberry\u001b[39;00m\u001b[38;5;21;01m.\u001b[39;00m\u001b[38;5;21;01masgi\u001b[39;00m \u001b[38;5;28;01mimport\u001b[39;00m GraphQL\n\u001b[1;32m     66\u001b[0m graphql_app \u001b[38;5;241m=\u001b[39m GraphQL(\n\u001b[0;32m---> 67\u001b[0m     \u001b[43mstrawberry\u001b[49m\u001b[38;5;241;43m.\u001b[39;49m\u001b[43mfederation\u001b[49m\u001b[38;5;241;43m.\u001b[39;49m\u001b[43mSchema\u001b[49m\u001b[43m(\u001b[49m\u001b[43mQuery\u001b[49m\u001b[43m)\u001b[49m, \n\u001b[1;32m     68\u001b[0m     graphiql \u001b[38;5;241m=\u001b[39m \u001b[38;5;28;01mTrue\u001b[39;00m,\n\u001b[1;32m     69\u001b[0m     allow_queries_via_get \u001b[38;5;241m=\u001b[39m \u001b[38;5;28;01mTrue\u001b[39;00m\n\u001b[1;32m     70\u001b[0m )\n\u001b[1;32m     72\u001b[0m \u001b[38;5;28;01mfrom\u001b[39;00m \u001b[38;5;21;01mfastapi\u001b[39;00m \u001b[38;5;28;01mimport\u001b[39;00m FastAPI\n\u001b[1;32m     73\u001b[0m app \u001b[38;5;241m=\u001b[39m FastAPI()\n",
      "File \u001b[0;32m/opt/conda/lib/python3.11/site-packages/strawberry/federation/schema.py:72\u001b[0m, in \u001b[0;36mSchema.__init__\u001b[0;34m(self, query, mutation, subscription, directives, types, extensions, execution_context_class, config, scalar_overrides, schema_directives, enable_federation_2)\u001b[0m\n\u001b[1;32m     53\u001b[0m \u001b[38;5;28;01mdef\u001b[39;00m \u001b[38;5;21m__init__\u001b[39m(\n\u001b[1;32m     54\u001b[0m     \u001b[38;5;28mself\u001b[39m,\n\u001b[1;32m     55\u001b[0m     query: Optional[Type] \u001b[38;5;241m=\u001b[39m \u001b[38;5;28;01mNone\u001b[39;00m,\n\u001b[0;32m   (...)\u001b[0m\n\u001b[1;32m     68\u001b[0m     enable_federation_2: \u001b[38;5;28mbool\u001b[39m \u001b[38;5;241m=\u001b[39m \u001b[38;5;28;01mFalse\u001b[39;00m,\n\u001b[1;32m     69\u001b[0m ):\n\u001b[1;32m     70\u001b[0m     query \u001b[38;5;241m=\u001b[39m \u001b[38;5;28mself\u001b[39m\u001b[38;5;241m.\u001b[39m_get_federation_query_type(query)\n\u001b[0;32m---> 72\u001b[0m     \u001b[38;5;28;43msuper\u001b[39;49m\u001b[43m(\u001b[49m\u001b[43m)\u001b[49m\u001b[38;5;241;43m.\u001b[39;49m\u001b[38;5;21;43m__init__\u001b[39;49m\u001b[43m(\u001b[49m\n\u001b[1;32m     73\u001b[0m \u001b[43m        \u001b[49m\u001b[43mquery\u001b[49m\u001b[38;5;241;43m=\u001b[39;49m\u001b[43mquery\u001b[49m\u001b[43m,\u001b[49m\n\u001b[1;32m     74\u001b[0m \u001b[43m        \u001b[49m\u001b[43mmutation\u001b[49m\u001b[38;5;241;43m=\u001b[39;49m\u001b[43mmutation\u001b[49m\u001b[43m,\u001b[49m\n\u001b[1;32m     75\u001b[0m \u001b[43m        \u001b[49m\u001b[43msubscription\u001b[49m\u001b[38;5;241;43m=\u001b[39;49m\u001b[43msubscription\u001b[49m\u001b[43m,\u001b[49m\n\u001b[1;32m     76\u001b[0m \u001b[43m        \u001b[49m\u001b[43mdirectives\u001b[49m\u001b[38;5;241;43m=\u001b[39;49m\u001b[43mdirectives\u001b[49m\u001b[43m,\u001b[49m\u001b[43m  \u001b[49m\u001b[38;5;66;43;03m# type: ignore\u001b[39;49;00m\n\u001b[1;32m     77\u001b[0m \u001b[43m        \u001b[49m\u001b[43mtypes\u001b[49m\u001b[38;5;241;43m=\u001b[39;49m\u001b[43mtypes\u001b[49m\u001b[43m,\u001b[49m\n\u001b[1;32m     78\u001b[0m \u001b[43m        \u001b[49m\u001b[43mextensions\u001b[49m\u001b[38;5;241;43m=\u001b[39;49m\u001b[43mextensions\u001b[49m\u001b[43m,\u001b[49m\n\u001b[1;32m     79\u001b[0m \u001b[43m        \u001b[49m\u001b[43mexecution_context_class\u001b[49m\u001b[38;5;241;43m=\u001b[39;49m\u001b[43mexecution_context_class\u001b[49m\u001b[43m,\u001b[49m\n\u001b[1;32m     80\u001b[0m \u001b[43m        \u001b[49m\u001b[43mconfig\u001b[49m\u001b[38;5;241;43m=\u001b[39;49m\u001b[43mconfig\u001b[49m\u001b[43m,\u001b[49m\n\u001b[1;32m     81\u001b[0m \u001b[43m        \u001b[49m\u001b[43mscalar_overrides\u001b[49m\u001b[38;5;241;43m=\u001b[39;49m\u001b[43mscalar_overrides\u001b[49m\u001b[43m,\u001b[49m\n\u001b[1;32m     82\u001b[0m \u001b[43m        \u001b[49m\u001b[43mschema_directives\u001b[49m\u001b[38;5;241;43m=\u001b[39;49m\u001b[43mschema_directives\u001b[49m\u001b[43m,\u001b[49m\n\u001b[1;32m     83\u001b[0m \u001b[43m    \u001b[49m\u001b[43m)\u001b[49m\n\u001b[1;32m     85\u001b[0m     \u001b[38;5;28mself\u001b[39m\u001b[38;5;241m.\u001b[39mschema_directives \u001b[38;5;241m=\u001b[39m \u001b[38;5;28mlist\u001b[39m(schema_directives)\n\u001b[1;32m     87\u001b[0m     \u001b[38;5;28mself\u001b[39m\u001b[38;5;241m.\u001b[39m_add_scalars()\n",
      "File \u001b[0;32m/opt/conda/lib/python3.11/site-packages/strawberry/schema/schema.py:160\u001b[0m, in \u001b[0;36mSchema.__init__\u001b[0;34m(self, query, mutation, subscription, directives, types, extensions, execution_context_class, config, scalar_overrides, schema_directives)\u001b[0m\n\u001b[1;32m    157\u001b[0m     \u001b[38;5;28;01mfrom\u001b[39;00m \u001b[38;5;21;01mstrawberry\u001b[39;00m\u001b[38;5;21;01m.\u001b[39;00m\u001b[38;5;21;01mexceptions\u001b[39;00m \u001b[38;5;28;01mimport\u001b[39;00m StrawberryException\n\u001b[1;32m    159\u001b[0m     \u001b[38;5;28;01mif\u001b[39;00m \u001b[38;5;28misinstance\u001b[39m(error\u001b[38;5;241m.\u001b[39m__cause__, StrawberryException):\n\u001b[0;32m--> 160\u001b[0m         \u001b[38;5;28;01mraise\u001b[39;00m error\u001b[38;5;241m.\u001b[39m__cause__ \u001b[38;5;28;01mfrom\u001b[39;00m \u001b[38;5;28;01mNone\u001b[39;00m\n\u001b[1;32m    162\u001b[0m     \u001b[38;5;28;01mraise\u001b[39;00m\n\u001b[1;32m    164\u001b[0m \u001b[38;5;66;03m# attach our schema to the GraphQL schema instance\u001b[39;00m\n",
      "File \u001b[0;32m/opt/conda/lib/python3.11/site-packages/graphql/type/definition.py:808\u001b[0m, in \u001b[0;36mGraphQLObjectType.fields\u001b[0;34m(self)\u001b[0m\n\u001b[1;32m    806\u001b[0m \u001b[38;5;250m\u001b[39m\u001b[38;5;124;03m\"\"\"Get provided fields, wrapping them as GraphQLFields if needed.\"\"\"\u001b[39;00m\n\u001b[1;32m    807\u001b[0m \u001b[38;5;28;01mtry\u001b[39;00m:\n\u001b[0;32m--> 808\u001b[0m     fields \u001b[38;5;241m=\u001b[39m \u001b[43mresolve_thunk\u001b[49m\u001b[43m(\u001b[49m\u001b[38;5;28;43mself\u001b[39;49m\u001b[38;5;241;43m.\u001b[39;49m\u001b[43m_fields\u001b[49m\u001b[43m)\u001b[49m\n\u001b[1;32m    809\u001b[0m \u001b[38;5;28;01mexcept\u001b[39;00m \u001b[38;5;167;01mException\u001b[39;00m \u001b[38;5;28;01mas\u001b[39;00m error:\n\u001b[1;32m    810\u001b[0m     \u001b[38;5;28mcls\u001b[39m \u001b[38;5;241m=\u001b[39m GraphQLError \u001b[38;5;28;01mif\u001b[39;00m \u001b[38;5;28misinstance\u001b[39m(error, GraphQLError) \u001b[38;5;28;01melse\u001b[39;00m \u001b[38;5;167;01mTypeError\u001b[39;00m\n",
      "File \u001b[0;32m/opt/conda/lib/python3.11/site-packages/graphql/type/definition.py:300\u001b[0m, in \u001b[0;36mresolve_thunk\u001b[0;34m(thunk)\u001b[0m\n\u001b[1;32m    294\u001b[0m \u001b[38;5;28;01mdef\u001b[39;00m \u001b[38;5;21mresolve_thunk\u001b[39m(thunk: Thunk[T]) \u001b[38;5;241m-\u001b[39m\u001b[38;5;241m>\u001b[39m T:\n\u001b[1;32m    295\u001b[0m \u001b[38;5;250m    \u001b[39m\u001b[38;5;124;03m\"\"\"Resolve the given thunk.\u001b[39;00m\n\u001b[1;32m    296\u001b[0m \n\u001b[1;32m    297\u001b[0m \u001b[38;5;124;03m    Used while defining GraphQL types to allow for circular references in otherwise\u001b[39;00m\n\u001b[1;32m    298\u001b[0m \u001b[38;5;124;03m    immutable type definitions.\u001b[39;00m\n\u001b[1;32m    299\u001b[0m \u001b[38;5;124;03m    \"\"\"\u001b[39;00m\n\u001b[0;32m--> 300\u001b[0m     \u001b[38;5;28;01mreturn\u001b[39;00m \u001b[43mthunk\u001b[49m\u001b[43m(\u001b[49m\u001b[43m)\u001b[49m \u001b[38;5;28;01mif\u001b[39;00m \u001b[38;5;28mcallable\u001b[39m(thunk) \u001b[38;5;28;01melse\u001b[39;00m thunk\n",
      "File \u001b[0;32m/opt/conda/lib/python3.11/site-packages/strawberry/schema/schema_converter.py:516\u001b[0m, in \u001b[0;36mGraphQLCoreConverter.from_object.<locals>.<lambda>\u001b[0;34m()\u001b[0m\n\u001b[1;32m    510\u001b[0m         \u001b[38;5;28;01mreturn\u001b[39;00m \u001b[38;5;28misinstance\u001b[39m(obj, possible_types)\n\u001b[1;32m    512\u001b[0m     \u001b[38;5;28;01mreturn\u001b[39;00m is_type_of\n\u001b[1;32m    514\u001b[0m graphql_object_type \u001b[38;5;241m=\u001b[39m GraphQLObjectType(\n\u001b[1;32m    515\u001b[0m     name\u001b[38;5;241m=\u001b[39mobject_type_name,\n\u001b[0;32m--> 516\u001b[0m     fields\u001b[38;5;241m=\u001b[39m\u001b[38;5;28;01mlambda\u001b[39;00m: \u001b[38;5;28;43mself\u001b[39;49m\u001b[38;5;241;43m.\u001b[39;49m\u001b[43mget_graphql_fields\u001b[49m\u001b[43m(\u001b[49m\u001b[43mobject_type\u001b[49m\u001b[43m)\u001b[49m,\n\u001b[1;32m    517\u001b[0m     interfaces\u001b[38;5;241m=\u001b[39m\u001b[38;5;28mlist\u001b[39m(\u001b[38;5;28mmap\u001b[39m(\u001b[38;5;28mself\u001b[39m\u001b[38;5;241m.\u001b[39mfrom_interface, object_type\u001b[38;5;241m.\u001b[39minterfaces)),\n\u001b[1;32m    518\u001b[0m     description\u001b[38;5;241m=\u001b[39mobject_type\u001b[38;5;241m.\u001b[39mdescription,\n\u001b[1;32m    519\u001b[0m     is_type_of\u001b[38;5;241m=\u001b[39m_get_is_type_of(),\n\u001b[1;32m    520\u001b[0m     extensions\u001b[38;5;241m=\u001b[39m{\n\u001b[1;32m    521\u001b[0m         GraphQLCoreConverter\u001b[38;5;241m.\u001b[39mDEFINITION_BACKREF: object_type,\n\u001b[1;32m    522\u001b[0m     },\n\u001b[1;32m    523\u001b[0m )\n\u001b[1;32m    525\u001b[0m \u001b[38;5;28mself\u001b[39m\u001b[38;5;241m.\u001b[39mtype_map[object_type_name] \u001b[38;5;241m=\u001b[39m ConcreteType(\n\u001b[1;32m    526\u001b[0m     definition\u001b[38;5;241m=\u001b[39mobject_type, implementation\u001b[38;5;241m=\u001b[39mgraphql_object_type\n\u001b[1;32m    527\u001b[0m )\n\u001b[1;32m    529\u001b[0m \u001b[38;5;28;01mreturn\u001b[39;00m graphql_object_type\n",
      "File \u001b[0;32m/opt/conda/lib/python3.11/site-packages/strawberry/schema/schema_converter.py:373\u001b[0m, in \u001b[0;36mGraphQLCoreConverter.get_graphql_fields\u001b[0;34m(self, type_definition)\u001b[0m\n\u001b[1;32m    370\u001b[0m \u001b[38;5;28;01mdef\u001b[39;00m \u001b[38;5;21mget_graphql_fields\u001b[39m(\n\u001b[1;32m    371\u001b[0m     \u001b[38;5;28mself\u001b[39m, type_definition: StrawberryObjectDefinition\n\u001b[1;32m    372\u001b[0m ) \u001b[38;5;241m-\u001b[39m\u001b[38;5;241m>\u001b[39m Dict[\u001b[38;5;28mstr\u001b[39m, GraphQLField]:\n\u001b[0;32m--> 373\u001b[0m     \u001b[38;5;28;01mreturn\u001b[39;00m \u001b[43m_get_thunk_mapping\u001b[49m\u001b[43m(\u001b[49m\n\u001b[1;32m    374\u001b[0m \u001b[43m        \u001b[49m\u001b[43mtype_definition\u001b[49m\u001b[38;5;241;43m=\u001b[39;49m\u001b[43mtype_definition\u001b[49m\u001b[43m,\u001b[49m\n\u001b[1;32m    375\u001b[0m \u001b[43m        \u001b[49m\u001b[43mname_converter\u001b[49m\u001b[38;5;241;43m=\u001b[39;49m\u001b[38;5;28;43mself\u001b[39;49m\u001b[38;5;241;43m.\u001b[39;49m\u001b[43mconfig\u001b[49m\u001b[38;5;241;43m.\u001b[39;49m\u001b[43mname_converter\u001b[49m\u001b[38;5;241;43m.\u001b[39;49m\u001b[43mfrom_field\u001b[49m\u001b[43m,\u001b[49m\n\u001b[1;32m    376\u001b[0m \u001b[43m        \u001b[49m\u001b[43mfield_converter\u001b[49m\u001b[38;5;241;43m=\u001b[39;49m\u001b[38;5;28;43mself\u001b[39;49m\u001b[38;5;241;43m.\u001b[39;49m\u001b[43mfrom_field\u001b[49m\u001b[43m,\u001b[49m\n\u001b[1;32m    377\u001b[0m \u001b[43m    \u001b[49m\u001b[43m)\u001b[49m\n",
      "File \u001b[0;32m/opt/conda/lib/python3.11/site-packages/strawberry/schema/schema_converter.py:133\u001b[0m, in \u001b[0;36m_get_thunk_mapping\u001b[0;34m(type_definition, name_converter, field_converter)\u001b[0m\n\u001b[1;32m    130\u001b[0m         \u001b[38;5;28;01mraise\u001b[39;00m UnresolvedFieldTypeError(type_definition, field)\n\u001b[1;32m    132\u001b[0m     \u001b[38;5;28;01mif\u001b[39;00m \u001b[38;5;129;01mnot\u001b[39;00m is_private(field_type):\n\u001b[0;32m--> 133\u001b[0m         thunk_mapping[name_converter(field)] \u001b[38;5;241m=\u001b[39m \u001b[43mfield_converter\u001b[49m\u001b[43m(\u001b[49m\n\u001b[1;32m    134\u001b[0m \u001b[43m            \u001b[49m\u001b[43mfield\u001b[49m\u001b[43m,\u001b[49m\n\u001b[1;32m    135\u001b[0m \u001b[43m            \u001b[49m\u001b[43mtype_definition\u001b[49m\u001b[38;5;241;43m=\u001b[39;49m\u001b[43mtype_definition\u001b[49m\u001b[43m,\u001b[49m\n\u001b[1;32m    136\u001b[0m \u001b[43m        \u001b[49m\u001b[43m)\u001b[49m\n\u001b[1;32m    138\u001b[0m \u001b[38;5;28;01mreturn\u001b[39;00m thunk_mapping\n",
      "File \u001b[0;32m/opt/conda/lib/python3.11/site-packages/strawberry/schema/schema_converter.py:314\u001b[0m, in \u001b[0;36mGraphQLCoreConverter.from_field\u001b[0;34m(self, field, type_definition)\u001b[0m\n\u001b[1;32m    303\u001b[0m \u001b[38;5;28;01mdef\u001b[39;00m \u001b[38;5;21mfrom_field\u001b[39m(\n\u001b[1;32m    304\u001b[0m     \u001b[38;5;28mself\u001b[39m,\n\u001b[1;32m    305\u001b[0m     field: StrawberryField,\n\u001b[0;32m   (...)\u001b[0m\n\u001b[1;32m    309\u001b[0m     \u001b[38;5;66;03m# self.from_resolver needs to be called before accessing field.type because\u001b[39;00m\n\u001b[1;32m    310\u001b[0m     \u001b[38;5;66;03m# in there a field extension might want to change the type during its apply\u001b[39;00m\n\u001b[1;32m    311\u001b[0m     resolver \u001b[38;5;241m=\u001b[39m \u001b[38;5;28mself\u001b[39m\u001b[38;5;241m.\u001b[39mfrom_resolver(field)\n\u001b[1;32m    312\u001b[0m     field_type \u001b[38;5;241m=\u001b[39m cast(\n\u001b[1;32m    313\u001b[0m         \u001b[38;5;124m\"\u001b[39m\u001b[38;5;124mGraphQLOutputType\u001b[39m\u001b[38;5;124m\"\u001b[39m,\n\u001b[0;32m--> 314\u001b[0m         \u001b[38;5;28;43mself\u001b[39;49m\u001b[38;5;241;43m.\u001b[39;49m\u001b[43mfrom_maybe_optional\u001b[49m\u001b[43m(\u001b[49m\n\u001b[1;32m    315\u001b[0m \u001b[43m            \u001b[49m\u001b[43mfield\u001b[49m\u001b[38;5;241;43m.\u001b[39;49m\u001b[43mresolve_type\u001b[49m\u001b[43m(\u001b[49m\u001b[43mtype_definition\u001b[49m\u001b[38;5;241;43m=\u001b[39;49m\u001b[43mtype_definition\u001b[49m\u001b[43m)\u001b[49m\n\u001b[1;32m    316\u001b[0m \u001b[43m        \u001b[49m\u001b[43m)\u001b[49m,\n\u001b[1;32m    317\u001b[0m     )\n\u001b[1;32m    318\u001b[0m     subscribe \u001b[38;5;241m=\u001b[39m \u001b[38;5;28;01mNone\u001b[39;00m\n\u001b[1;32m    320\u001b[0m     \u001b[38;5;28;01mif\u001b[39;00m field\u001b[38;5;241m.\u001b[39mis_subscription:\n",
      "File \u001b[0;32m/opt/conda/lib/python3.11/site-packages/strawberry/schema/schema_converter.py:770\u001b[0m, in \u001b[0;36mGraphQLCoreConverter.from_maybe_optional\u001b[0;34m(self, type_)\u001b[0m\n\u001b[1;32m    768\u001b[0m     \u001b[38;5;28;01mreturn\u001b[39;00m \u001b[38;5;28mself\u001b[39m\u001b[38;5;241m.\u001b[39mfrom_type(type_\u001b[38;5;241m.\u001b[39mof_type)\n\u001b[1;32m    769\u001b[0m \u001b[38;5;28;01melse\u001b[39;00m:\n\u001b[0;32m--> 770\u001b[0m     \u001b[38;5;28;01mreturn\u001b[39;00m GraphQLNonNull(\u001b[38;5;28;43mself\u001b[39;49m\u001b[38;5;241;43m.\u001b[39;49m\u001b[43mfrom_type\u001b[49m\u001b[43m(\u001b[49m\u001b[43mtype_\u001b[49m\u001b[43m)\u001b[49m)\n",
      "File \u001b[0;32m/opt/conda/lib/python3.11/site-packages/strawberry/schema/schema_converter.py:788\u001b[0m, in \u001b[0;36mGraphQLCoreConverter.from_type\u001b[0;34m(self, type_)\u001b[0m\n\u001b[1;32m    786\u001b[0m     \u001b[38;5;28;01mreturn\u001b[39;00m \u001b[38;5;28mself\u001b[39m\u001b[38;5;241m.\u001b[39mfrom_interface(type_definition)\n\u001b[1;32m    787\u001b[0m \u001b[38;5;28;01melif\u001b[39;00m has_object_definition(type_):\n\u001b[0;32m--> 788\u001b[0m     \u001b[38;5;28;01mreturn\u001b[39;00m \u001b[38;5;28;43mself\u001b[39;49m\u001b[38;5;241;43m.\u001b[39;49m\u001b[43mfrom_object\u001b[49m\u001b[43m(\u001b[49m\u001b[43mtype_\u001b[49m\u001b[38;5;241;43m.\u001b[39;49m\u001b[43m__strawberry_definition__\u001b[49m\u001b[43m)\u001b[49m\n\u001b[1;32m    789\u001b[0m \u001b[38;5;28;01melif\u001b[39;00m compat\u001b[38;5;241m.\u001b[39mis_enum(type_):  \u001b[38;5;66;03m# TODO: Replace with StrawberryEnum\u001b[39;00m\n\u001b[1;32m    790\u001b[0m     enum_definition: EnumDefinition \u001b[38;5;241m=\u001b[39m type_\u001b[38;5;241m.\u001b[39m_enum_definition  \u001b[38;5;66;03m# type: ignore\u001b[39;00m\n",
      "File \u001b[0;32m/opt/conda/lib/python3.11/site-packages/strawberry/schema/schema_converter.py:481\u001b[0m, in \u001b[0;36mGraphQLCoreConverter.from_object\u001b[0;34m(self, object_type)\u001b[0m\n\u001b[1;32m    479\u001b[0m cached_type \u001b[38;5;241m=\u001b[39m \u001b[38;5;28mself\u001b[39m\u001b[38;5;241m.\u001b[39mtype_map\u001b[38;5;241m.\u001b[39mget(object_type_name, \u001b[38;5;28;01mNone\u001b[39;00m)\n\u001b[1;32m    480\u001b[0m \u001b[38;5;28;01mif\u001b[39;00m cached_type:\n\u001b[0;32m--> 481\u001b[0m     \u001b[38;5;28;43mself\u001b[39;49m\u001b[38;5;241;43m.\u001b[39;49m\u001b[43mvalidate_same_type_definition\u001b[49m\u001b[43m(\u001b[49m\n\u001b[1;32m    482\u001b[0m \u001b[43m        \u001b[49m\u001b[43mobject_type_name\u001b[49m\u001b[43m,\u001b[49m\u001b[43m \u001b[49m\u001b[43mobject_type\u001b[49m\u001b[43m,\u001b[49m\u001b[43m \u001b[49m\u001b[43mcached_type\u001b[49m\n\u001b[1;32m    483\u001b[0m \u001b[43m    \u001b[49m\u001b[43m)\u001b[49m\n\u001b[1;32m    484\u001b[0m     graphql_object_type \u001b[38;5;241m=\u001b[39m cached_type\u001b[38;5;241m.\u001b[39mimplementation\n\u001b[1;32m    485\u001b[0m     \u001b[38;5;28;01massert\u001b[39;00m \u001b[38;5;28misinstance\u001b[39m(graphql_object_type, GraphQLObjectType)  \u001b[38;5;66;03m# For mypy\u001b[39;00m\n",
      "File \u001b[0;32m/opt/conda/lib/python3.11/site-packages/strawberry/schema/schema_converter.py:950\u001b[0m, in \u001b[0;36mGraphQLCoreConverter.validate_same_type_definition\u001b[0;34m(self, name, type_definition, cached_type)\u001b[0m\n\u001b[1;32m    947\u001b[0m \u001b[38;5;28;01melse\u001b[39;00m:\n\u001b[1;32m    948\u001b[0m     second_origin \u001b[38;5;241m=\u001b[39m \u001b[38;5;28;01mNone\u001b[39;00m\n\u001b[0;32m--> 950\u001b[0m \u001b[38;5;28;01mraise\u001b[39;00m DuplicatedTypeName(first_origin, second_origin, name)\n",
      "\u001b[0;31mDuplicatedTypeName\u001b[0m: Type GroupGQLModel is defined multiple times in the schema"
     ]
    }
   ],
   "source": [
    "import strawberry\n",
    "import uuid\n",
    "\n",
    "@strawberry.federation.type(keys=[\"id\"], description=\"\"\"Entity representing an user\"\"\")\n",
    "class UserGQLModel:\n",
    "    @classmethod\n",
    "    async def resolve_reference(cls, info: strawberry.types.Info, id: strawberry.ID):\n",
    "        result = {'name': f'John({id})', 'id': id, 'surname': 'Newbie'}\n",
    "        return result\n",
    "    \n",
    "    @strawberry.field(description=\"\"\"user name\"\"\")\n",
    "    async def name(self, info: strawberry.types.Info) -> str:\n",
    "        result = self['name']\n",
    "        return result\n",
    "    \n",
    "    @strawberry.field(description=\"\"\"user id\"\"\")\n",
    "    async def id(self, info: strawberry.types.Info) -> str:\n",
    "        result = self['id']\n",
    "        return result\n",
    "\n",
    "    @strawberry.field(description=\"\"\"user id\"\"\")\n",
    "    async def surname(self, info: strawberry.types.Info) -> str:\n",
    "        result = self['surname']\n",
    "        return result\n",
    "\n",
    "    @strawberry.field(description=\"\"\"group\"\"\")\n",
    "    async def group(self, info: strawberry.types.Info) -> 'GroupGQLModel':\n",
    "        result = await GroupGQLModel.resolve_reference(info, '123')\n",
    "        return result   \n",
    "\n",
    "\n",
    "@strawberry.federation.type(keys=[\"id\"], description=\"\"\"Entity representing an user\"\"\")\n",
    "class GroupGQLModel:\n",
    "    @classmethod\n",
    "    async def resolve_reference(cls, info: strawberry.types.Info, id: strawberry.ID):\n",
    "        result = {'name': f'23-5-KB({id})', 'id': id}\n",
    "        return result\n",
    "    \n",
    "    @strawberry.field(description=\"\"\"user name\"\"\")\n",
    "    async def name(self, info: strawberry.types.Info) -> str:\n",
    "        result = self['name']\n",
    "        return result\n",
    "    \n",
    "    @strawberry.field(description=\"\"\"user id\"\"\")\n",
    "    async def id(self, info: strawberry.types.Info) -> str:\n",
    "        result = self['id']\n",
    "        return result\n",
    "\n",
    "@strawberry.type(description=\"\"\"Type for query root\"\"\")\n",
    "class Query:\n",
    "\n",
    "    @strawberry.field(description=\"\"\"Returns the user\"\"\")\n",
    "    async def user_by_id(self, info: strawberry.types.Info, id: strawberry.ID) -> UserGQLModel:\n",
    "        result = await UserGQLModel.resolve_reference(info, id)\n",
    "        return result\n",
    "    \n",
    "    @strawberry.field(description=\"\"\"Returns the group\"\"\")\n",
    "    async def group_by_id(self, info: strawberry.types.Info, id: strawberry.ID) -> 'GroupGQLModel':\n",
    "        result = await GroupGQLModel.resolve_reference(info, id)\n",
    "        return result\n",
    "    \n",
    "from strawberry.asgi import GraphQL\n",
    "\n",
    "graphql_app = GraphQL(\n",
    "    strawberry.federation.Schema(Query), \n",
    "    graphiql = True,\n",
    "    allow_queries_via_get = True\n",
    ")\n",
    "\n",
    "from fastapi import FastAPI\n",
    "app = FastAPI()\n",
    "app.mount(\"/gql\", graphql_app)\n",
    "\n",
    "start_api(app, port=9992, runNew=True)"
   ]
  },
  {
   "cell_type": "code",
   "execution_count": null,
   "id": "623c5b63-734d-4616-8d47-7d6e3721d12b",
   "metadata": {},
   "outputs": [],
   "source": []
  }
 ],
 "metadata": {
  "kernelspec": {
   "display_name": "Python 3 (ipykernel)",
   "language": "python",
   "name": "python3"
  },
  "language_info": {
   "codemirror_mode": {
    "name": "ipython",
    "version": 3
   },
   "file_extension": ".py",
   "mimetype": "text/x-python",
   "name": "python",
   "nbconvert_exporter": "python",
   "pygments_lexer": "ipython3",
   "version": "3.11.5"
  },
  "toc-autonumbering": true
 },
 "nbformat": 4,
 "nbformat_minor": 5
}
