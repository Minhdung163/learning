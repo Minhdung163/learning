{
 "cells": [
  {
   "cell_type": "markdown",
   "metadata": {
    "colab_type": "text",
    "id": "view-in-github"
   },
   "source": [
    "<a href=\"https://colab.research.google.com/github/hrbolek/learning/blob/master/ais/python_cviceni_01.ipynb\" target=\"_parent\"><img src=\"https://colab.research.google.com/assets/colab-badge.svg\" alt=\"Open In Colab\"/></a>"
   ]
  },
  {
   "cell_type": "markdown",
   "metadata": {
    "id": "krWXCO4av-av"
   },
   "source": [
    "# Základní příklady"
   ]
  },
  {
   "cell_type": "markdown",
   "metadata": {
    "id": "X9xQYLNKfJmf"
   },
   "source": [
    "## Příklad "
   ]
  },
  {
   "cell_type": "markdown",
   "metadata": {
    "id": "Jo3wshCvfrwu"
   },
   "source": [
    "### Zadání"
   ]
  },
  {
   "cell_type": "markdown",
   "metadata": {
    "id": "n59G0CLCfMoC"
   },
   "source": [
    "Zjistěte, zda hodnota `value` je sudá"
   ]
  },
  {
   "cell_type": "code",
   "execution_count": null,
   "metadata": {
    "id": "LMOwbJtbfNQQ"
   },
   "outputs": [],
   "source": [
    "value = 2\n",
    "\n",
    "# neco"
   ]
  },
  {
   "cell_type": "markdown",
   "metadata": {
    "id": "cxznsmn5fpu9"
   },
   "source": [
    "### Řešení"
   ]
  },
  {
   "cell_type": "code",
   "execution_count": null,
   "metadata": {
    "cellView": "form",
    "colab": {
     "base_uri": "https://localhost:8080/"
    },
    "id": "JZnnEkOjf2hH",
    "outputId": "7ae93de5-637f-46de-e484-fe413159c3db"
   },
   "outputs": [
    {
     "data": {
      "text/plain": [
       "False"
      ]
     },
     "execution_count": 1,
     "metadata": {},
     "output_type": "execute_result"
    }
   ],
   "source": [
    "#@title\n",
    "value = 2\n",
    "\n",
    "value % 2 == 0"
   ]
  },
  {
   "cell_type": "markdown",
   "metadata": {
    "id": "Xqxs74pxfcZ6"
   },
   "source": [
    "## Příklad"
   ]
  },
  {
   "cell_type": "markdown",
   "metadata": {
    "id": "xguqI4t2fdAi"
   },
   "source": [
    "### Zadání"
   ]
  },
  {
   "cell_type": "markdown",
   "metadata": {
    "id": "1BMlpZppgQ7_"
   },
   "source": [
    "Zjistěte, zda text obsahuje středník"
   ]
  },
  {
   "cell_type": "code",
   "execution_count": null,
   "metadata": {
    "id": "hcsonK28fdOS"
   },
   "outputs": [],
   "source": [
    "aStr = 'banana;apple'\n",
    "\n",
    "# neco"
   ]
  },
  {
   "cell_type": "markdown",
   "metadata": {
    "id": "zYE4E7r5ghtQ"
   },
   "source": [
    "### Řešení"
   ]
  },
  {
   "cell_type": "code",
   "execution_count": null,
   "metadata": {
    "cellView": "form",
    "colab": {
     "base_uri": "https://localhost:8080/"
    },
    "id": "JpinNkmugjm4",
    "outputId": "0185cec6-9abf-4e89-a680-954389c1eea2"
   },
   "outputs": [
    {
     "data": {
      "text/plain": [
       "True"
      ]
     },
     "execution_count": 2,
     "metadata": {},
     "output_type": "execute_result"
    }
   ],
   "source": [
    "#@title\n",
    "aStr = 'banana;apple'\n",
    "\n",
    "';' in aStr"
   ]
  },
  {
   "cell_type": "markdown",
   "metadata": {
    "id": "yB52T2WfwEb3"
   },
   "source": [
    "# Příklady na listy"
   ]
  },
  {
   "cell_type": "markdown",
   "metadata": {
    "id": "bvT5_vHegz_o"
   },
   "source": [
    "## Příklad"
   ]
  },
  {
   "cell_type": "markdown",
   "metadata": {
    "id": "ncXgVC0zg38B"
   },
   "source": [
    "### Zadání"
   ]
  },
  {
   "cell_type": "markdown",
   "metadata": {
    "id": "0mNbJJH4g1um"
   },
   "source": [
    "Do seznamu vložte další prvek"
   ]
  },
  {
   "cell_type": "code",
   "execution_count": null,
   "metadata": {
    "id": "XQuO5awLgnP3"
   },
   "outputs": [],
   "source": [
    "data = ['banana', 'orange', 'apple']\n",
    "\n",
    "# neco\n",
    "# neco"
   ]
  },
  {
   "cell_type": "markdown",
   "metadata": {
    "id": "aQmH32E2iCta"
   },
   "source": [
    "### Řešení"
   ]
  },
  {
   "cell_type": "code",
   "execution_count": null,
   "metadata": {
    "cellView": "form",
    "colab": {
     "base_uri": "https://localhost:8080/"
    },
    "id": "VKFSG9rliEyE",
    "outputId": "0174cb2e-e2c3-47a9-da86-df3c97c960f8"
   },
   "outputs": [
    {
     "name": "stdout",
     "output_type": "stream",
     "text": [
      "['banana', 'orange', 'apple', 'ananas']\n"
     ]
    }
   ],
   "source": [
    "#@title\n",
    "data = ['banana', 'orange', 'apple']\n",
    "\n",
    "data.append('ananas')\n",
    "print(data)"
   ]
  },
  {
   "cell_type": "markdown",
   "metadata": {
    "id": "krJPqkiWiQmj"
   },
   "source": [
    "## Příklad"
   ]
  },
  {
   "cell_type": "markdown",
   "metadata": {
    "id": "oIW1wclmiTYh"
   },
   "source": [
    "### Zadání"
   ]
  },
  {
   "cell_type": "markdown",
   "metadata": {
    "id": "ufojcLJpiW8p"
   },
   "source": [
    "Zjistěte hodnotu prvku s indexem 1"
   ]
  },
  {
   "cell_type": "code",
   "execution_count": null,
   "metadata": {
    "id": "3dY3tGIHifaY"
   },
   "outputs": [],
   "source": [
    "data = ['banana', 'orange', 'apple']\n",
    "\n",
    "# neco"
   ]
  },
  {
   "cell_type": "markdown",
   "metadata": {
    "id": "WUzlRZzyiiKh"
   },
   "source": [
    "### Řešení"
   ]
  },
  {
   "cell_type": "code",
   "execution_count": null,
   "metadata": {
    "colab": {
     "base_uri": "https://localhost:8080/",
     "height": 36
    },
    "id": "SCff3vYfiVYB",
    "outputId": "d52db6d7-af2b-47ce-e86a-64b5be4481df"
   },
   "outputs": [
    {
     "data": {
      "application/vnd.google.colaboratory.intrinsic+json": {
       "type": "string"
      },
      "text/plain": [
       "'orange'"
      ]
     },
     "execution_count": 5,
     "metadata": {},
     "output_type": "execute_result"
    }
   ],
   "source": [
    "data = ['banana', 'orange', 'apple']\n",
    "\n",
    "data[1]"
   ]
  },
  {
   "cell_type": "markdown",
   "metadata": {
    "id": "sx1q0cZYipfv"
   },
   "source": [
    "## Příklad"
   ]
  },
  {
   "cell_type": "markdown",
   "metadata": {
    "id": "RmZyR3Q4irNY"
   },
   "source": [
    "### Zadání"
   ]
  },
  {
   "cell_type": "markdown",
   "metadata": {
    "id": "tPDccOL_isL4"
   },
   "source": [
    "Zjistěte hodnotu předposledního prvku"
   ]
  },
  {
   "cell_type": "code",
   "execution_count": null,
   "metadata": {
    "id": "NO3L6Bk6ixtc"
   },
   "outputs": [],
   "source": [
    "data = ['banana', 'orange', 'apple']\n",
    "\n",
    "# neco"
   ]
  },
  {
   "cell_type": "markdown",
   "metadata": {
    "id": "DdzaCbXiisPH"
   },
   "source": [
    "### Řešení"
   ]
  },
  {
   "cell_type": "code",
   "execution_count": null,
   "metadata": {
    "cellView": "form",
    "colab": {
     "base_uri": "https://localhost:8080/",
     "height": 36
    },
    "id": "fqI-n-eRi1zg",
    "outputId": "6f7baaff-e9a8-45ec-9a50-92bb4613d203"
   },
   "outputs": [
    {
     "data": {
      "application/vnd.google.colaboratory.intrinsic+json": {
       "type": "string"
      },
      "text/plain": [
       "'apple'"
      ]
     },
     "execution_count": 6,
     "metadata": {},
     "output_type": "execute_result"
    }
   ],
   "source": [
    "#@title\n",
    "data = ['banana', 'orange', 'apple']\n",
    "\n",
    "data[-1]"
   ]
  },
  {
   "cell_type": "markdown",
   "metadata": {
    "id": "qtVdGBE_isSE"
   },
   "source": [
    "## Příklad"
   ]
  },
  {
   "cell_type": "markdown",
   "metadata": {
    "id": "RdKhLGbKjCvB"
   },
   "source": [
    "### Zadání"
   ]
  },
  {
   "cell_type": "markdown",
   "metadata": {
    "id": "ZJsn3wWXjEVk"
   },
   "source": [
    "Rozdělte text na jednotlivé prvky, jako oddělovač uvažujte středník"
   ]
  },
  {
   "cell_type": "code",
   "execution_count": null,
   "metadata": {
    "id": "7lbm-l3yiLNz"
   },
   "outputs": [],
   "source": [
    "dataStr = 'banana;orange;apple'\n",
    "\n",
    "# neco"
   ]
  },
  {
   "cell_type": "markdown",
   "metadata": {
    "id": "_pF_CQfUjUHo"
   },
   "source": [
    "### Řešení"
   ]
  },
  {
   "cell_type": "code",
   "execution_count": null,
   "metadata": {
    "cellView": "form",
    "colab": {
     "base_uri": "https://localhost:8080/"
    },
    "id": "b2DKidppjWIB",
    "outputId": "b9ef2887-c8bc-4001-c778-b1a0e73e13c7"
   },
   "outputs": [
    {
     "data": {
      "text/plain": [
       "['banana', 'orange', 'apple']"
      ]
     },
     "execution_count": 7,
     "metadata": {},
     "output_type": "execute_result"
    }
   ],
   "source": [
    "#@title\n",
    "dataStr = 'banana;orange;apple'\n",
    "\n",
    "dataStr.split(';')"
   ]
  },
  {
   "cell_type": "markdown",
   "metadata": {
    "id": "Xq3tJKhNjeQ-"
   },
   "source": [
    "## Příklad"
   ]
  },
  {
   "cell_type": "markdown",
   "metadata": {
    "id": "5x3GpJNpjg2h"
   },
   "source": [
    "### Řešení"
   ]
  },
  {
   "cell_type": "markdown",
   "metadata": {
    "id": "RvqfnSGljjq0"
   },
   "source": [
    "Vypište prvky listu v řádcích"
   ]
  },
  {
   "cell_type": "code",
   "execution_count": null,
   "metadata": {
    "id": "AJuSaXezjqpj"
   },
   "outputs": [],
   "source": [
    "data = ['banana', 'orange', 'apple']\n",
    "\n",
    "# neco\n",
    "# neco"
   ]
  },
  {
   "cell_type": "markdown",
   "metadata": {
    "id": "OOyqlfX8jrAh"
   },
   "source": [
    "### Řešení"
   ]
  },
  {
   "cell_type": "code",
   "execution_count": null,
   "metadata": {
    "cellView": "form",
    "colab": {
     "base_uri": "https://localhost:8080/"
    },
    "id": "FTSvwhOlj1Lq",
    "outputId": "bd140ad1-f1d2-42cf-dc69-3c48ae1984df"
   },
   "outputs": [
    {
     "name": "stdout",
     "output_type": "stream",
     "text": [
      "banana\n",
      "orange\n",
      "apple\n"
     ]
    }
   ],
   "source": [
    "#@title\n",
    "data = ['banana', 'orange', 'apple']\n",
    "\n",
    "for item in data:\n",
    "    print(item)"
   ]
  },
  {
   "cell_type": "markdown",
   "metadata": {
    "id": "XPmY5tb1j-az"
   },
   "source": [
    "## Příklad"
   ]
  },
  {
   "cell_type": "markdown",
   "metadata": {
    "id": "HI-F9FeukAjb"
   },
   "source": [
    "### Zadání"
   ]
  },
  {
   "cell_type": "markdown",
   "metadata": {
    "id": "CKIGR9Kmkm1W"
   },
   "source": [
    "Vypište prvky listu v řádcích, při tisku vypište také index"
   ]
  },
  {
   "cell_type": "code",
   "execution_count": null,
   "metadata": {
    "id": "KDSQlctTkCRR"
   },
   "outputs": [],
   "source": [
    "data = ['banana', 'orange', 'apple']\n",
    "\n",
    "# neco\n",
    "# neco"
   ]
  },
  {
   "cell_type": "markdown",
   "metadata": {
    "id": "cEUYFvO7ktbX"
   },
   "source": [
    "### Řešení"
   ]
  },
  {
   "cell_type": "code",
   "execution_count": null,
   "metadata": {
    "cellView": "form",
    "colab": {
     "base_uri": "https://localhost:8080/"
    },
    "id": "2T9NPa5Xj7Hh",
    "outputId": "5e1c6df8-3e3b-47cc-d12d-3cc4dc598dfb"
   },
   "outputs": [
    {
     "name": "stdout",
     "output_type": "stream",
     "text": [
      "0 banana\n",
      "1 orange\n",
      "2 apple\n"
     ]
    }
   ],
   "source": [
    "#@title\n",
    "data = ['banana', 'orange', 'apple']\n",
    "\n",
    "for index, item in enumerate(data):\n",
    "    print(index, item)"
   ]
  },
  {
   "cell_type": "markdown",
   "metadata": {
    "id": "THsE5XrTmyJf"
   },
   "source": [
    "## Příklad"
   ]
  },
  {
   "cell_type": "markdown",
   "metadata": {
    "id": "B_1Ttr1omz5Y"
   },
   "source": [
    "### Zadání"
   ]
  },
  {
   "cell_type": "markdown",
   "metadata": {
    "id": "KbZKCz-km8vA"
   },
   "source": [
    "Sečtěte čísla v list (pomocí cyklu)"
   ]
  },
  {
   "cell_type": "code",
   "execution_count": null,
   "metadata": {
    "id": "En11b2QGm12Q"
   },
   "outputs": [],
   "source": [
    "data = [1, 5, 6, 4, 2]\n",
    "\n",
    "# neco\n",
    "# neco\n",
    "# neco\n",
    "# neco"
   ]
  },
  {
   "cell_type": "markdown",
   "metadata": {
    "id": "75_6d-HUnDA7"
   },
   "source": [
    "### Řešení"
   ]
  },
  {
   "cell_type": "code",
   "execution_count": null,
   "metadata": {
    "cellView": "form",
    "colab": {
     "base_uri": "https://localhost:8080/"
    },
    "id": "-Q568RsBnGnL",
    "outputId": "5857471d-79ed-4666-d31d-14709bf7d5c4"
   },
   "outputs": [
    {
     "data": {
      "text/plain": [
       "18"
      ]
     },
     "execution_count": 14,
     "metadata": {},
     "output_type": "execute_result"
    }
   ],
   "source": [
    "#@title\n",
    "data = [1, 5, 6, 4, 2]\n",
    "\n",
    "total = 0\n",
    "for item in data:\n",
    "    total = total + item\n",
    "total"
   ]
  },
  {
   "cell_type": "markdown",
   "metadata": {
    "id": "TwUJF6tjnW62"
   },
   "source": [
    "## Příklad"
   ]
  },
  {
   "cell_type": "markdown",
   "metadata": {
    "id": "toK7jNF0nVBD"
   },
   "source": [
    "### Zadání"
   ]
  },
  {
   "cell_type": "markdown",
   "metadata": {
    "id": "lEqNpao2nbM2"
   },
   "source": [
    "Sečtěte čísla v list (pomocí vestavěné funkce)"
   ]
  },
  {
   "cell_type": "code",
   "execution_count": null,
   "metadata": {
    "id": "HSHJkajkngW2"
   },
   "outputs": [],
   "source": [
    "data = [1, 5, 6, 4, 2]\n",
    "\n",
    "# neco"
   ]
  },
  {
   "cell_type": "markdown",
   "metadata": {
    "id": "Rz1EFUAmnlpY"
   },
   "source": [
    "### Řešení"
   ]
  },
  {
   "cell_type": "code",
   "execution_count": null,
   "metadata": {
    "cellView": "form",
    "colab": {
     "base_uri": "https://localhost:8080/"
    },
    "id": "n6jkqMFwniU4",
    "outputId": "0119157f-c43d-4851-8023-6a2041f72809"
   },
   "outputs": [
    {
     "data": {
      "text/plain": [
       "18"
      ]
     },
     "execution_count": 15,
     "metadata": {},
     "output_type": "execute_result"
    }
   ],
   "source": [
    "#@title\n",
    "data = [1, 5, 6, 4, 2]\n",
    "\n",
    "sum(data)"
   ]
  },
  {
   "cell_type": "markdown",
   "metadata": {
    "id": "tMzL3BRR0fcN"
   },
   "source": [
    "## Příklad"
   ]
  },
  {
   "cell_type": "markdown",
   "metadata": {
    "id": "WNWRBwIY0hMG"
   },
   "source": [
    "### Zadání"
   ]
  },
  {
   "cell_type": "markdown",
   "metadata": {
    "id": "jjmmu9cx0jP5"
   },
   "source": [
    "Napište funkci, která akceptuje libovolný počet pozičních parametrů. Tyto vrací jako list."
   ]
  },
  {
   "cell_type": "code",
   "execution_count": null,
   "metadata": {
    "id": "Iey6EVaA0t6Y"
   },
   "outputs": [],
   "source": [
    "def func(#neco\n",
    "         ):\n",
    "    #neco\n",
    "\n",
    "print(func(4, 5, 10))"
   ]
  },
  {
   "cell_type": "markdown",
   "metadata": {
    "id": "KDmceMXY0roD"
   },
   "source": [
    "### Řešení"
   ]
  },
  {
   "cell_type": "code",
   "execution_count": null,
   "metadata": {
    "cellView": "form",
    "colab": {
     "base_uri": "https://localhost:8080/"
    },
    "collapsed": true,
    "id": "fzW8vI5D04f5",
    "jupyter": {
     "outputs_hidden": true
    },
    "outputId": "655df8e4-cc59-4e10-c3f5-15c320ce3a31",
    "tags": []
   },
   "outputs": [
    {
     "name": "stdout",
     "output_type": "stream",
     "text": [
      "[4, 5, 10]\n"
     ]
    }
   ],
   "source": [
    "#@title\n",
    "def func(*args):\n",
    "    return list(args)\n",
    "\n",
    "print(func(4, 5, 10))"
   ]
  },
  {
   "cell_type": "markdown",
   "metadata": {
    "id": "tGlBXr7hwM32",
    "tags": []
   },
   "source": [
    "# Příklady na dictionary"
   ]
  },
  {
   "cell_type": "markdown",
   "metadata": {
    "id": "qwoIbprRk8KG"
   },
   "source": [
    "## Příklad"
   ]
  },
  {
   "cell_type": "markdown",
   "metadata": {
    "id": "FwkD6n9Kk-Hi"
   },
   "source": [
    "### Zadání"
   ]
  },
  {
   "cell_type": "markdown",
   "metadata": {
    "id": "1fJQ8NFElAoq"
   },
   "source": [
    "Zjistěte, zda struktura obsahuje klíč `name`"
   ]
  },
  {
   "cell_type": "code",
   "execution_count": null,
   "metadata": {
    "id": "azxOeGiUk0hE"
   },
   "outputs": [],
   "source": [
    "data = {'name': 'John', 'age': 25}\n",
    "\n",
    "#neco"
   ]
  },
  {
   "cell_type": "markdown",
   "metadata": {
    "id": "9Mk1HcislPfV"
   },
   "source": [
    "### Řešení"
   ]
  },
  {
   "cell_type": "code",
   "execution_count": null,
   "metadata": {
    "cellView": "form",
    "colab": {
     "base_uri": "https://localhost:8080/"
    },
    "id": "FjpMbrTflR5h",
    "outputId": "bc7911f8-26d6-4671-9287-a14cb65fcd88"
   },
   "outputs": [
    {
     "data": {
      "text/plain": [
       "True"
      ]
     },
     "execution_count": 12,
     "metadata": {},
     "output_type": "execute_result"
    }
   ],
   "source": [
    "#@title\n",
    "data = {'name': 'John', 'age': 25}\n",
    "\n",
    "'name' in data"
   ]
  },
  {
   "cell_type": "markdown",
   "metadata": {
    "id": "GsMF_r62lYj4"
   },
   "source": [
    "## Příklad"
   ]
  },
  {
   "cell_type": "markdown",
   "metadata": {
    "id": "bPkuB_wBla94"
   },
   "source": [
    "### Zadání"
   ]
  },
  {
   "cell_type": "markdown",
   "metadata": {
    "id": "5NL9dvxglcuL"
   },
   "source": [
    "Zjistěte hodnotu uloženou pod klíčem `age`"
   ]
  },
  {
   "cell_type": "code",
   "execution_count": null,
   "metadata": {
    "id": "HfC0jyd2ljiC"
   },
   "outputs": [],
   "source": [
    "data = {'name': 'John', 'age': 25}\n",
    "\n",
    "#neco"
   ]
  },
  {
   "cell_type": "markdown",
   "metadata": {
    "id": "FdaHpTzclk0L"
   },
   "source": [
    "### Řešení"
   ]
  },
  {
   "cell_type": "code",
   "execution_count": null,
   "metadata": {
    "cellView": "form",
    "id": "NV9fiOL2lml8"
   },
   "outputs": [],
   "source": [
    "#@title\n",
    "data = {'name': 'John', 'age': 25}\n",
    "\n",
    "data['age']"
   ]
  },
  {
   "cell_type": "markdown",
   "metadata": {
    "id": "VJ-3VF-olqKP"
   },
   "source": [
    "## Příklad"
   ]
  },
  {
   "cell_type": "markdown",
   "metadata": {
    "id": "gOTarsobltfl"
   },
   "source": [
    "### Zadání"
   ]
  },
  {
   "cell_type": "markdown",
   "metadata": {
    "id": "ypU02i57luql"
   },
   "source": [
    "Vypište v řádcích jméno klíče a jeho hodnotu"
   ]
  },
  {
   "cell_type": "code",
   "execution_count": null,
   "metadata": {
    "id": "60HMIMGtl6_3"
   },
   "outputs": [],
   "source": [
    "data = {'name': 'John', 'age': 25}\n",
    "\n",
    "# neco\n",
    "# neco"
   ]
  },
  {
   "cell_type": "markdown",
   "metadata": {
    "id": "76__nfRPlunU"
   },
   "source": [
    "### Řešení"
   ]
  },
  {
   "cell_type": "code",
   "execution_count": null,
   "metadata": {
    "cellView": "form",
    "colab": {
     "base_uri": "https://localhost:8080/"
    },
    "id": "gNUApqIVlVvd",
    "outputId": "fe90a217-0808-45a3-b518-aea05a26f1f6"
   },
   "outputs": [
    {
     "name": "stdout",
     "output_type": "stream",
     "text": [
      "name John\n",
      "age 25\n"
     ]
    }
   ],
   "source": [
    "#@title\n",
    "data = {'name': 'John', 'age': 25}\n",
    "\n",
    "for key, value in data.items():\n",
    "    print(key, value)"
   ]
  },
  {
   "cell_type": "markdown",
   "metadata": {
    "id": "DAzBjNxjwXoq"
   },
   "source": [
    "## Příklad"
   ]
  },
  {
   "cell_type": "markdown",
   "metadata": {
    "id": "aGmirK60wZOk"
   },
   "source": [
    "### Zadání"
   ]
  },
  {
   "cell_type": "markdown",
   "metadata": {
    "id": "QIhxzx8gweIL"
   },
   "source": [
    "Ke klíči `age` přičtětě 1"
   ]
  },
  {
   "cell_type": "code",
   "execution_count": null,
   "metadata": {
    "id": "kzM2NRq2wa2K"
   },
   "outputs": [],
   "source": [
    "data = {'name': 'John', 'age': 25}\n",
    "\n",
    "# neco\n",
    "data"
   ]
  },
  {
   "cell_type": "markdown",
   "metadata": {
    "id": "vlK4bdKWwbAR"
   },
   "source": [
    "### Řešení"
   ]
  },
  {
   "cell_type": "code",
   "execution_count": null,
   "metadata": {
    "cellView": "form",
    "colab": {
     "base_uri": "https://localhost:8080/"
    },
    "id": "QwzaxWbrwdjV",
    "outputId": "c77ed7b1-3b09-4f83-ced1-8c86a9cc8efd"
   },
   "outputs": [
    {
     "data": {
      "text/plain": [
       "{'age': 26, 'name': 'John'}"
      ]
     },
     "execution_count": 22,
     "metadata": {},
     "output_type": "execute_result"
    }
   ],
   "source": [
    "#@title\n",
    "data = {'name': 'John', 'age': 25}\n",
    "\n",
    "data['age'] = data['age'] + 1\n",
    "data"
   ]
  },
  {
   "cell_type": "markdown",
   "metadata": {
    "id": "MGdh9mnw1Gx7"
   },
   "source": [
    "## Příklad"
   ]
  },
  {
   "cell_type": "markdown",
   "metadata": {
    "id": "x2DmclVZ1I2o"
   },
   "source": [
    "### Zadání"
   ]
  },
  {
   "cell_type": "markdown",
   "metadata": {
    "id": "oJ9miv8z1Kcz"
   },
   "source": [
    "Napište funkci, která akceptuje libovolný počet pojmenovaných parametrů, tyto vrací jako dictionary"
   ]
  },
  {
   "cell_type": "code",
   "execution_count": null,
   "metadata": {
    "id": "yJxr2EXc1SBA"
   },
   "outputs": [],
   "source": [
    "def func(# neco\n",
    "         ):\n",
    "    # neco\n",
    "\n",
    "print(func(pozdrav='Nazdar', osloveni='Světe'))"
   ]
  },
  {
   "cell_type": "markdown",
   "metadata": {
    "id": "2RIEPIss1SOu"
   },
   "source": [
    "### Řešení"
   ]
  },
  {
   "cell_type": "code",
   "execution_count": null,
   "metadata": {
    "cellView": "form",
    "colab": {
     "base_uri": "https://localhost:8080/"
    },
    "id": "gPYUyB4y1UFN",
    "outputId": "c65d560a-08c0-4a61-dc6c-8193ba7b792a"
   },
   "outputs": [
    {
     "name": "stdout",
     "output_type": "stream",
     "text": [
      "{'pozdrav': 'Nazdar', 'osloveni': 'Světe'}\n"
     ]
    }
   ],
   "source": [
    "#@title\n",
    "def func(**kwargs):\n",
    "    return kwargs\n",
    "\n",
    "print(func(pozdrav='Nazdar', osloveni='Světe'))"
   ]
  },
  {
   "cell_type": "markdown",
   "metadata": {
    "id": "jU2iqG4Cv2h8"
   },
   "source": [
    "# Příklady na funkce"
   ]
  },
  {
   "cell_type": "markdown",
   "metadata": {
    "id": "1HUE7OdBpPwK"
   },
   "source": [
    "## Příklad"
   ]
  },
  {
   "cell_type": "markdown",
   "metadata": {
    "id": "OcaxxXBdpV-W"
   },
   "source": [
    "### Zadání"
   ]
  },
  {
   "cell_type": "markdown",
   "metadata": {
    "id": "c2_EbdXYplAr"
   },
   "source": [
    "Napište funkci, která vrací hodnotu `1`"
   ]
  },
  {
   "cell_type": "code",
   "execution_count": null,
   "metadata": {
    "colab": {
     "base_uri": "https://localhost:8080/",
     "height": 135
    },
    "id": "eRpOwqKumNvp",
    "outputId": "e58b0dd4-8123-4d70-eb54-d3badf71e23c"
   },
   "outputs": [
    {
     "ename": "SyntaxError",
     "evalue": "ignored",
     "output_type": "error",
     "traceback": [
      "\u001b[0;36m  File \u001b[0;32m\"<ipython-input-19-8b5d85ea2e84>\"\u001b[0;36m, line \u001b[0;32m2\u001b[0m\n\u001b[0;31m    # neco\u001b[0m\n\u001b[0m          ^\u001b[0m\n\u001b[0;31mSyntaxError\u001b[0m\u001b[0;31m:\u001b[0m unexpected EOF while parsing\n"
     ]
    }
   ],
   "source": [
    "def func():\n",
    "    # neco\n",
    "\n",
    "func()"
   ]
  },
  {
   "cell_type": "markdown",
   "metadata": {
    "id": "6FVrgGugpcDI"
   },
   "source": [
    "### Řešení"
   ]
  },
  {
   "cell_type": "code",
   "execution_count": null,
   "metadata": {
    "cellView": "form",
    "colab": {
     "base_uri": "https://localhost:8080/"
    },
    "id": "dHv5jD6xpgCk",
    "outputId": "842cbe64-eea7-4af5-f034-155d06459c0b"
   },
   "outputs": [
    {
     "data": {
      "text/plain": [
       "1"
      ]
     },
     "execution_count": 20,
     "metadata": {},
     "output_type": "execute_result"
    }
   ],
   "source": [
    "#@title\n",
    "def func():\n",
    "    return 1\n",
    "\n",
    "func()"
   ]
  },
  {
   "cell_type": "markdown",
   "metadata": {
    "id": "wTVbyIe3pR08"
   },
   "source": [
    "## Příklad"
   ]
  },
  {
   "cell_type": "markdown",
   "metadata": {
    "id": "a0JNn_OepZl2"
   },
   "source": [
    "### Zadání"
   ]
  },
  {
   "cell_type": "markdown",
   "metadata": {
    "id": "7wHqW7qZqOT7"
   },
   "source": [
    "Napište funkci, která k parametru přičte 1 a výslednou hodnotu vrátí"
   ]
  },
  {
   "cell_type": "code",
   "execution_count": null,
   "metadata": {
    "id": "XNWtOql0pero"
   },
   "outputs": [],
   "source": [
    "def func(par):\n",
    "    # neco\n",
    "\n",
    "func(2)"
   ]
  },
  {
   "cell_type": "markdown",
   "metadata": {
    "id": "kes8yc8Hpe8K"
   },
   "source": [
    "### Řešení"
   ]
  },
  {
   "cell_type": "code",
   "execution_count": null,
   "metadata": {
    "cellView": "form",
    "colab": {
     "base_uri": "https://localhost:8080/"
    },
    "id": "OoRvwJtBpfnO",
    "outputId": "23570eff-18ea-4412-dc29-d3794422a226"
   },
   "outputs": [
    {
     "data": {
      "text/plain": [
       "3"
      ]
     },
     "execution_count": 21,
     "metadata": {},
     "output_type": "execute_result"
    }
   ],
   "source": [
    "#@title\n",
    "def func(par):\n",
    "    return par + 1\n",
    "\n",
    "func(2)"
   ]
  },
  {
   "cell_type": "markdown",
   "metadata": {
    "id": "OGHMJT_mpSrt"
   },
   "source": [
    "## Příklad"
   ]
  },
  {
   "cell_type": "markdown",
   "metadata": {
    "id": "TettvluBpaQL"
   },
   "source": [
    "### Zadání"
   ]
  },
  {
   "cell_type": "markdown",
   "metadata": {
    "id": "hZX0HbA1qrDk"
   },
   "source": [
    "Napište funkci, která do vstupního listu přidá text `'světe'`"
   ]
  },
  {
   "cell_type": "code",
   "execution_count": null,
   "metadata": {
    "id": "XF-ChABKpgvK"
   },
   "outputs": [],
   "source": [
    "def func(par):\n",
    "    # neco\n",
    "    # neco\n",
    "\n",
    "func(['Nazdar'])"
   ]
  },
  {
   "cell_type": "markdown",
   "metadata": {
    "id": "IMTTVLYSpg46"
   },
   "source": [
    "### Řešení"
   ]
  },
  {
   "cell_type": "code",
   "execution_count": null,
   "metadata": {
    "cellView": "form",
    "colab": {
     "base_uri": "https://localhost:8080/"
    },
    "id": "3K21SJlyphMi",
    "outputId": "8ccc840c-e920-4ceb-c5a6-96e140f25b2c"
   },
   "outputs": [
    {
     "data": {
      "text/plain": [
       "['Nazdar', 'světe']"
      ]
     },
     "execution_count": 25,
     "metadata": {},
     "output_type": "execute_result"
    }
   ],
   "source": [
    "#@title\n",
    "def func2(par):\n",
    "    result = [*par, 'světe']\n",
    "    return result\n",
    "\n",
    "func2(['Nazdar'])"
   ]
  },
  {
   "cell_type": "markdown",
   "metadata": {
    "id": "f1IxD0AA0UdP"
   },
   "source": [
    "### Poznámka"
   ]
  },
  {
   "cell_type": "markdown",
   "metadata": {
    "id": "JU5LdGIq0XIy"
   },
   "source": [
    "Má vaše implementace side effect?\n",
    "\n",
    "Ověřte své tvrzení."
   ]
  },
  {
   "cell_type": "code",
   "execution_count": null,
   "metadata": {
    "colab": {
     "base_uri": "https://localhost:8080/"
    },
    "id": "JpEWiYE-0u7r",
    "outputId": "832e4fcd-68ad-474f-dc06-a7ab9519ed15"
   },
   "outputs": [
    {
     "name": "stdout",
     "output_type": "stream",
     "text": [
      "Vaše řešení\n",
      "['Nazdar']\n",
      "None\n",
      "------------------------------\n",
      "Vzorové řešení\n",
      "['Nazdar']\n",
      "['Nazdar', 'světe']\n"
     ]
    }
   ],
   "source": [
    "data = ['Nazdar']\n",
    "result = func(data)\n",
    "print('Vaše řešení')\n",
    "print(data)\n",
    "print(result)\n",
    "print('-'*30)\n",
    "data = ['Nazdar']\n",
    "result2 = func2(data)\n",
    "print('Vzorové řešení')\n",
    "print(data)\n",
    "print(result2)\n"
   ]
  },
  {
   "cell_type": "markdown",
   "metadata": {
    "id": "T-lIN5kPpTib"
   },
   "source": [
    "## Příklad"
   ]
  },
  {
   "cell_type": "markdown",
   "metadata": {
    "id": "5NYU0R68pa1L"
   },
   "source": [
    "### Zadání"
   ]
  },
  {
   "cell_type": "markdown",
   "metadata": {
    "id": "E83epYhO1j1U"
   },
   "source": [
    "Napište funkci, která do vstupního dictionary přidá hodnotu klíče `'age'`  na `25`"
   ]
  },
  {
   "cell_type": "code",
   "execution_count": null,
   "metadata": {
    "id": "l1rvBnBnph_Q"
   },
   "outputs": [],
   "source": [
    "def func(data):\n",
    "    # neco \n",
    "    # neco"
   ]
  },
  {
   "cell_type": "markdown",
   "metadata": {
    "id": "Vj7skv7Lpije"
   },
   "source": [
    "### Řešení"
   ]
  },
  {
   "cell_type": "code",
   "execution_count": null,
   "metadata": {
    "cellView": "form",
    "colab": {
     "base_uri": "https://localhost:8080/"
    },
    "id": "1ANNCXK9pi8B",
    "outputId": "95f5f75d-ba5b-44bd-d1fc-2131e74755c8"
   },
   "outputs": [
    {
     "name": "stdout",
     "output_type": "stream",
     "text": [
      "{'name': 'John', 'age': 25}\n"
     ]
    },
    {
     "data": {
      "text/plain": [
       "{'age': 25, 'name': 'John'}"
      ]
     },
     "execution_count": 31,
     "metadata": {},
     "output_type": "execute_result"
    }
   ],
   "source": [
    "#@title\n",
    "def func2(data):\n",
    "    result = {**data, 'age': 25}\n",
    "    return result\n",
    "\n",
    "func2({'name': 'John'})"
   ]
  },
  {
   "cell_type": "markdown",
   "metadata": {
    "id": "t1rnj7Qb2XRm"
   },
   "source": [
    "### Poznámka"
   ]
  },
  {
   "cell_type": "markdown",
   "metadata": {
    "id": "obn5tNwR2ZUx"
   },
   "source": [
    "Má vaše implementace side effect?\n",
    "\n",
    "Ověřte své tvrzení."
   ]
  },
  {
   "cell_type": "code",
   "execution_count": null,
   "metadata": {
    "colab": {
     "base_uri": "https://localhost:8080/"
    },
    "id": "dSJi3QYh2GrQ",
    "outputId": "0730b8fc-92a8-4d2c-cdcc-0b65404673da"
   },
   "outputs": [
    {
     "name": "stdout",
     "output_type": "stream",
     "text": [
      "Vaše řešení\n",
      "{'name': 'John'}\n",
      "None\n",
      "------------------------------\n",
      "Vzorové řešení\n",
      "{'name': 'John'}\n",
      "{'name': 'John', 'age': 25}\n"
     ]
    }
   ],
   "source": [
    "data = {'name': 'John'}\n",
    "result = func(data)\n",
    "print('Vaše řešení')\n",
    "print(data)\n",
    "print(result)\n",
    "print('-'*30)\n",
    "data = {'name': 'John'}\n",
    "result2 = func2(data)\n",
    "print('Vzorové řešení')\n",
    "print(data)\n",
    "print(result2)"
   ]
  },
  {
   "cell_type": "markdown",
   "metadata": {
    "id": "R0wCxuY31-Ee"
   },
   "source": [
    "## Příklad"
   ]
  },
  {
   "cell_type": "markdown",
   "metadata": {
    "id": "TX88CXpr2A1m"
   },
   "source": [
    "## Zadání"
   ]
  },
  {
   "cell_type": "markdown",
   "metadata": {
    "id": "KbrAvbbb2Co2"
   },
   "source": [
    "Napište funkci, která akceptuje libovolný počet pozičních a libovolný počet pojmenovaných parametrů. Poziční parametry vrací jako jako list jako první prvek tuple a pojmenované parametry vrací jako dictionary jako druhý prvek tuple."
   ]
  },
  {
   "cell_type": "code",
   "execution_count": null,
   "metadata": {
    "id": "M1eRWhkG2aIt"
   },
   "outputs": [],
   "source": [
    "def func(\n",
    "    # neco, # neco\n",
    "):\n",
    "    #neco\n",
    "\n",
    "print(func(4, 5, 10, pozdrav='Nazdar', osloveni='svete'))"
   ]
  },
  {
   "cell_type": "markdown",
   "metadata": {
    "id": "m99B8MsD2huR"
   },
   "source": [
    "### Řešení"
   ]
  },
  {
   "cell_type": "code",
   "execution_count": null,
   "metadata": {
    "cellView": "form",
    "colab": {
     "base_uri": "https://localhost:8080/"
    },
    "id": "aVqGYGdH2kKJ",
    "outputId": "8a6848f1-6760-4aba-aae8-6dcb84dc3b04"
   },
   "outputs": [
    {
     "name": "stdout",
     "output_type": "stream",
     "text": [
      "([4, 5, 10], {'pozdrav': 'Nazdar', 'osloveni': 'svete'})\n"
     ]
    }
   ],
   "source": [
    "#@title\n",
    "def func(*args, **kwargs):\n",
    "    return list(args), kwargs\n",
    "\n",
    "print(func(4, 5, 10, pozdrav='Nazdar', osloveni='svete'))"
   ]
  },
  {
   "cell_type": "markdown",
   "metadata": {
    "id": "pbvZD1zw29Ss"
   },
   "source": [
    "# Příklady na funkcionály"
   ]
  },
  {
   "cell_type": "markdown",
   "metadata": {
    "id": "aLYcI6Ks3AgT"
   },
   "source": [
    "## Příklad"
   ]
  },
  {
   "cell_type": "markdown",
   "metadata": {
    "id": "DGkTbw_f3CDv"
   },
   "source": [
    "### Zadání"
   ]
  },
  {
   "cell_type": "markdown",
   "metadata": {
    "id": "bzyz3WfC3EOu"
   },
   "source": [
    "Napište funkci se dvěma parametry, listem a funkcí, kterou aplikuje na všechny prvky listu"
   ]
  },
  {
   "cell_type": "code",
   "execution_count": null,
   "metadata": {
    "id": "DYH8VaDs2jkW"
   },
   "outputs": [],
   "source": [
    "def func(item):\n",
    "    return item + 2\n",
    "\n",
    "def todofunc(items, func):\n",
    "    # neco\n",
    "    # cyklus hlavicka\n",
    "        # cyklus telo\n",
    "    # neco\n",
    "\n",
    "# nebo\n",
    "def todofunc2(items, func):\n",
    "    # neco\n",
    "\n",
    "todofunc([1, 5, 7, 8], func)"
   ]
  },
  {
   "cell_type": "markdown",
   "metadata": {
    "id": "JXxhCo7E3FDe"
   },
   "source": [
    "### Řešení"
   ]
  },
  {
   "cell_type": "code",
   "execution_count": null,
   "metadata": {
    "cellView": "form",
    "colab": {
     "base_uri": "https://localhost:8080/"
    },
    "id": "ZyCSIMHg3H8J",
    "outputId": "c2ef6017-5831-4e5c-95d6-062bad9349c5"
   },
   "outputs": [
    {
     "data": {
      "text/plain": [
       "[3, 7, 9, 10]"
      ]
     },
     "execution_count": 36,
     "metadata": {},
     "output_type": "execute_result"
    }
   ],
   "source": [
    "#@title\n",
    "def func(item):\n",
    "    return item + 2\n",
    "\n",
    "def todofunc(items, func):\n",
    "    result = []\n",
    "    for item in items:\n",
    "        result.append(func(item))\n",
    "    return result\n",
    "\n",
    "# nebo\n",
    "def todofunc(items, func):\n",
    "    return [func(item) for item in items]\n",
    "\n",
    "todofunc([1, 5, 7, 8], func)"
   ]
  },
  {
   "cell_type": "markdown",
   "metadata": {
    "id": "JL0ODn1C4aov"
   },
   "source": [
    "## Příklad"
   ]
  },
  {
   "cell_type": "markdown",
   "metadata": {
    "id": "ZaLP8K014ctC"
   },
   "source": [
    "### Zadání"
   ]
  },
  {
   "cell_type": "markdown",
   "metadata": {
    "id": "LXyyv5cm4eM7"
   },
   "source": [
    "Napište funkci, jejímž parametry jsou :\n",
    "- funkce\n",
    "- jméno klíče\n",
    "- parametr\n",
    "\n",
    "Funkce vytvoří dictionary se zadaným klíčem a hodnotou reprezentovanou výsledkem funkce volané s parametrem."
   ]
  },
  {
   "cell_type": "code",
   "execution_count": null,
   "metadata": {
    "id": "f0J2dHot4eXd"
   },
   "outputs": [],
   "source": [
    "def inc(value):\n",
    "    return value + 1\n",
    "\n",
    "def func(f, key, parameter):\n",
    "    # neco\n",
    "\n",
    "func(inc, 'age', 25)"
   ]
  },
  {
   "cell_type": "markdown",
   "metadata": {
    "id": "mTaZ9_GU4eiE"
   },
   "source": [
    "### Řešení"
   ]
  },
  {
   "cell_type": "code",
   "execution_count": null,
   "metadata": {
    "cellView": "form",
    "colab": {
     "base_uri": "https://localhost:8080/"
    },
    "id": "zhyrXlO84fmy",
    "outputId": "1c21f9fe-1bd0-42e2-9d8e-5c7aeacd0074"
   },
   "outputs": [
    {
     "data": {
      "text/plain": [
       "{'age': 26}"
      ]
     },
     "execution_count": 37,
     "metadata": {},
     "output_type": "execute_result"
    }
   ],
   "source": [
    "#@title\n",
    "def inc(value):\n",
    "    return value + 1\n",
    "\n",
    "def func(f, key, parameter):\n",
    "    return {key: f(parameter)}\n",
    "\n",
    "func(inc, 'age', 25)"
   ]
  },
  {
   "cell_type": "markdown",
   "metadata": {
    "id": "q4GyVt1LUvp5"
   },
   "source": [
    "## Příklad"
   ]
  },
  {
   "cell_type": "markdown",
   "metadata": {
    "id": "vgCHK6s-UxiH"
   },
   "source": [
    "### Zadání"
   ]
  },
  {
   "cell_type": "markdown",
   "metadata": {
    "id": "Scv7lWIpUzcp"
   },
   "source": [
    "Vytvořte funkci, s parametry:\n",
    "- x\n",
    "- y\n",
    "\n",
    "která vrací bezparametrickou funkci, jejímž voláním získáme součet x + y"
   ]
  },
  {
   "cell_type": "code",
   "execution_count": null,
   "metadata": {
    "id": "8aE9zxsbUz42"
   },
   "outputs": [],
   "source": [
    "def lazyAdd(x, y):\n",
    "    def lazy():\n",
    "        # neco\n",
    "    return lazy\n",
    "\n",
    "lazyResult = lazyAdd(1, 2)\n",
    "result = lazyResult()\n",
    "print(result)"
   ]
  },
  {
   "cell_type": "markdown",
   "metadata": {
    "id": "-t6UGTpaU0Pa"
   },
   "source": [
    "### Řešení"
   ]
  },
  {
   "cell_type": "code",
   "execution_count": null,
   "metadata": {
    "cellView": "form",
    "colab": {
     "base_uri": "https://localhost:8080/"
    },
    "id": "6pmBvX-kU2hE",
    "outputId": "52481c72-3609-4350-a6c2-6573b7ba927c"
   },
   "outputs": [
    {
     "name": "stdout",
     "output_type": "stream",
     "text": [
      "lazyResult <function lazyAdd.<locals>.lazy at 0x7f959b952950>\n",
      "result 3\n"
     ]
    }
   ],
   "source": [
    "#@title\n",
    "def lazyAdd(x, y):\n",
    "    def lazy():\n",
    "        return x + y\n",
    "    return lazy\n",
    "\n",
    "lazyResult = lazyAdd(1, 2)\n",
    "print('lazyResult', lazyResult)\n",
    "result = lazyResult()\n",
    "print('result', result)"
   ]
  },
  {
   "cell_type": "markdown",
   "metadata": {
    "id": "CJT3_LeaTDXt"
   },
   "source": [
    "## Příklad"
   ]
  },
  {
   "cell_type": "markdown",
   "metadata": {
    "id": "oQ_Lb8hUTFD5"
   },
   "source": [
    "### Zadání"
   ]
  },
  {
   "cell_type": "markdown",
   "metadata": {
    "id": "hVXXLyOlTF4E"
   },
   "source": [
    "Napište funkci, s parametry:\n",
    "- funkce $F$ (dvouparametrická)\n",
    "- hodnota $x$\n",
    "\n",
    "Funkce vytvoří funkci $G$ (jednoparametrickou), \n",
    "\n",
    "$G(y) = F(x, y)$\n"
   ]
  },
  {
   "cell_type": "code",
   "execution_count": null,
   "metadata": {
    "id": "2cP2vWt5TIWp"
   },
   "outputs": [],
   "source": [
    "def add(x, y):\n",
    "    return x + y\n",
    "\n",
    "\n",
    "def func(f, x):\n",
    "    def newFunc(y):\n",
    "        # neco\n",
    "        # neco\n",
    "    return newFunc\n",
    "\n",
    "f = func(add, 10)\n",
    "print(f)\n",
    "print(f'f(1)={f(1)}')"
   ]
  },
  {
   "cell_type": "markdown",
   "metadata": {
    "id": "Y9JETGf7TF79"
   },
   "source": [
    "### Řešení"
   ]
  },
  {
   "cell_type": "code",
   "execution_count": null,
   "metadata": {
    "cellView": "form",
    "colab": {
     "base_uri": "https://localhost:8080/"
    },
    "id": "4zVA-GAvT4cO",
    "outputId": "3c95e0bf-c7f5-4cee-efc8-b617467a2b18"
   },
   "outputs": [
    {
     "name": "stdout",
     "output_type": "stream",
     "text": [
      "<function func.<locals>.newFunc at 0x7f959b9474d0>\n",
      "f(1)=11\n"
     ]
    }
   ],
   "source": [
    "#@title\n",
    "def add(x, y):\n",
    "    return x + y\n",
    "\n",
    "\n",
    "def func(f, x):\n",
    "    def newFunc(y):\n",
    "        return f(x, y)\n",
    "    return newFunc\n",
    "\n",
    "f = func(add, 10)\n",
    "print(f)\n",
    "print(f'f(1)={f(1)}')"
   ]
  },
  {
   "cell_type": "markdown",
   "metadata": {
    "id": "ZhZFCGw1TGAY"
   },
   "source": [
    "## Příklad"
   ]
  },
  {
   "cell_type": "markdown",
   "metadata": {
    "id": "Y1djpfqnZFll"
   },
   "source": [
    "### Zadání"
   ]
  },
  {
   "cell_type": "markdown",
   "metadata": {
    "id": "N6jS_RlhZIIC"
   },
   "source": [
    "Vytvořte funkci, jejíž výstup je kompozicí vstupních funkcí\n",
    "\n",
    "$G(x)=F_2(F_1(x))$"
   ]
  },
  {
   "cell_type": "code",
   "execution_count": null,
   "metadata": {
    "id": "_AzYI29ESnRW"
   },
   "outputs": [],
   "source": [
    "def func(f1, f2):\n",
    "    def g(x):\n",
    "        # neco\n",
    "    return g\n",
    "\n",
    "def add1(x):\n",
    "    return x + 1\n",
    "\n",
    "def mul3(x):\n",
    "    return 3 * x\n",
    "\n",
    "g = func(add1, mul3)\n",
    "print(g)\n",
    "print(g(3))"
   ]
  },
  {
   "cell_type": "markdown",
   "metadata": {
    "id": "58y1d2AdZgXv"
   },
   "source": [
    "### Řešení"
   ]
  },
  {
   "cell_type": "code",
   "execution_count": null,
   "metadata": {
    "cellView": "form",
    "colab": {
     "base_uri": "https://localhost:8080/"
    },
    "id": "XU5P7WlPZiT0",
    "outputId": "be9c33a1-89fa-41c1-d643-491be07e5a2a"
   },
   "outputs": [
    {
     "name": "stdout",
     "output_type": "stream",
     "text": [
      "<function func.<locals>.g at 0x7f959b953560>\n",
      "12\n"
     ]
    }
   ],
   "source": [
    "#@title\n",
    "def func(f1, f2):\n",
    "    def g(x):\n",
    "        return f2(f1(x))\n",
    "    return g\n",
    "\n",
    "def add1(x):\n",
    "    return x + 1\n",
    "\n",
    "def mul3(x):\n",
    "    return 3 * x\n",
    "\n",
    "g = func(add1, mul3)\n",
    "print(g)\n",
    "print(g(3))"
   ]
  },
  {
   "cell_type": "markdown",
   "metadata": {
    "id": "16o9P_uTaN3K"
   },
   "source": [
    "## Příklad"
   ]
  },
  {
   "cell_type": "markdown",
   "metadata": {
    "id": "7poAjx6aaPwB"
   },
   "source": [
    "### Zadání"
   ]
  },
  {
   "cell_type": "markdown",
   "metadata": {
    "id": "-IlfLGruaRyZ"
   },
   "source": [
    "Vytvořte lambda funkci, jejíž funkcionalita je ekvivalentní funkci `inc`"
   ]
  },
  {
   "cell_type": "code",
   "execution_count": null,
   "metadata": {
    "id": "5mqCK6w1axge"
   },
   "outputs": [],
   "source": [
    "def inc(x):\n",
    "    return x + 1\n",
    "\n",
    "f = lambda #neco\n",
    "\n",
    "print(f)\n",
    "print(f(2) == inc(2))"
   ]
  },
  {
   "cell_type": "markdown",
   "metadata": {
    "id": "YjnGpyD2a1fz"
   },
   "source": [
    "### Řešení"
   ]
  },
  {
   "cell_type": "code",
   "execution_count": null,
   "metadata": {
    "cellView": "form",
    "colab": {
     "base_uri": "https://localhost:8080/"
    },
    "id": "z9no6jT5auJa",
    "outputId": "e795e9c6-0a0f-4a15-ce9b-5c5a0250919e"
   },
   "outputs": [
    {
     "name": "stdout",
     "output_type": "stream",
     "text": [
      "<function <lambda> at 0x7f959b967dd0>\n",
      "True\n"
     ]
    }
   ],
   "source": [
    "#@title\n",
    "def inc(x):\n",
    "    return x + 1\n",
    "\n",
    "f = lambda x: x + 1\n",
    "\n",
    "print(f)\n",
    "print(f(2) == inc(2))"
   ]
  },
  {
   "cell_type": "markdown",
   "metadata": {
    "id": "OV9qkZbAbuR1"
   },
   "source": [
    "## Příklad"
   ]
  },
  {
   "cell_type": "markdown",
   "metadata": {
    "id": "JA322f0nbwY_"
   },
   "source": [
    "### Zadání"
   ]
  },
  {
   "cell_type": "markdown",
   "metadata": {
    "id": "f4zDUKfFbytQ"
   },
   "source": [
    "Ověřte, zda níže definovaná funkce vrací vždy stejnou hodnotu pro stejné parametry (zda nemá side effects)"
   ]
  },
  {
   "cell_type": "code",
   "execution_count": null,
   "metadata": {
    "id": "Y2PBZsWga6W0"
   },
   "outputs": [],
   "source": [
    "constant = 5\n",
    "\n",
    "add5 = lambda x: x + constant"
   ]
  },
  {
   "cell_type": "markdown",
   "metadata": {
    "id": "aoNNJ5HUcLHU"
   },
   "source": [
    "### Řešení"
   ]
  },
  {
   "cell_type": "code",
   "execution_count": null,
   "metadata": {
    "cellView": "form",
    "colab": {
     "base_uri": "https://localhost:8080/"
    },
    "id": "O4wIzGktcNNU",
    "outputId": "2b38568a-aa51-44eb-ec49-95a1999e6724"
   },
   "outputs": [
    {
     "name": "stdout",
     "output_type": "stream",
     "text": [
      "7\n",
      "8\n"
     ]
    }
   ],
   "source": [
    "#@title\n",
    "constant = 5\n",
    "\n",
    "add5 = lambda x: x + constant\n",
    "\n",
    "print(add5(2))\n",
    "constant = 6\n",
    "print(add5(2))"
   ]
  },
  {
   "cell_type": "markdown",
   "metadata": {
    "id": "SZdQMjshcYc8"
   },
   "source": [
    "## Příklad"
   ]
  },
  {
   "cell_type": "markdown",
   "metadata": {
    "id": "7KTrd6pdcaef"
   },
   "source": [
    "### Zadání"
   ]
  },
  {
   "cell_type": "markdown",
   "metadata": {
    "id": "1EIjRfwgccv1"
   },
   "source": [
    "Napište funkci vracející lambda funkci, která ke vstupu přičte definovanou hodnotu (viz příklad výše) a nemá \"side effects\""
   ]
  },
  {
   "cell_type": "code",
   "execution_count": null,
   "metadata": {
    "id": "jPvWyDrGcUbP"
   },
   "outputs": [],
   "source": [
    "def createAdder(constant):\n",
    "    #neco\n",
    "\n",
    "lFunc = createAdder(5)\n",
    "print(lFunc)\n",
    "print(lFunc(2))"
   ]
  },
  {
   "cell_type": "markdown",
   "metadata": {
    "id": "pyAK-7eyc0_q"
   },
   "source": [
    "### Řešení"
   ]
  },
  {
   "cell_type": "code",
   "execution_count": null,
   "metadata": {
    "cellView": "form",
    "colab": {
     "base_uri": "https://localhost:8080/"
    },
    "id": "0kLMWwLXc3I_",
    "outputId": "1c3aace7-59c0-448e-d174-c5ca0ef424e1"
   },
   "outputs": [
    {
     "name": "stdout",
     "output_type": "stream",
     "text": [
      "<function createAdder.<locals>.<lambda> at 0x7f959b974320>\n",
      "7\n"
     ]
    }
   ],
   "source": [
    "#@title\n",
    "def createAdder(constant):\n",
    "    return lambda x: x + constant\n",
    "\n",
    "lFunc = createAdder(5)\n",
    "print(lFunc)\n",
    "print(lFunc(2))"
   ]
  },
  {
   "cell_type": "markdown",
   "metadata": {
    "id": "40juER6D26fb"
   },
   "source": [
    "## Příklad"
   ]
  },
  {
   "cell_type": "markdown",
   "metadata": {
    "id": "K68dmmeN28le"
   },
   "source": [
    "### Zadání"
   ]
  },
  {
   "cell_type": "markdown",
   "metadata": {
    "id": "7I6aLzKD2_AU"
   },
   "source": [
    "Napište funkci se dvěma parametry :\n",
    "- funkce f,\n",
    "- hodnota parametru value,\n",
    "\n",
    "která vrací funkci $G(b,c,d,...)=F(a,b,c,d,...)$ s předdefinovaným prvním parametrem (redukuje počet parametrů funkce)."
   ]
  },
  {
   "cell_type": "code",
   "execution_count": null,
   "metadata": {
    "id": "R_2ArLkVdKt6"
   },
   "outputs": [],
   "source": [
    "def bind(func, firstParamValue):\n",
    "    def G(#neco, #neco\n",
    "          ):\n",
    "        #neco\n",
    "    return G\n",
    "\n",
    "def add(x, y):\n",
    "    return x + y\n",
    "\n",
    "inc = bind(add, 1)\n",
    "print(inc(5))"
   ]
  },
  {
   "cell_type": "markdown",
   "metadata": {
    "id": "JtBEliRu4EMe"
   },
   "source": [
    "### Řešení"
   ]
  },
  {
   "cell_type": "code",
   "execution_count": null,
   "metadata": {
    "cellView": "form",
    "colab": {
     "base_uri": "https://localhost:8080/"
    },
    "id": "AmklS6Qw4GIx",
    "outputId": "e577d83d-0864-4e09-c461-30cdf40488f4"
   },
   "outputs": [
    {
     "name": "stdout",
     "output_type": "stream",
     "text": [
      "6\n"
     ]
    }
   ],
   "source": [
    "#@title\n",
    "def bind(func, firstParamValue):\n",
    "    def G(*args, **kwargs):\n",
    "        return func(firstParamValue, *args, **kwargs)\n",
    "    return G\n",
    "\n",
    "def add(x, y):\n",
    "    return x + y\n",
    "\n",
    "inc = bind(add, 1)\n",
    "print(inc(5))"
   ]
  },
  {
   "cell_type": "code",
   "execution_count": null,
   "metadata": {
    "id": "4K5pchar4P1j"
   },
   "outputs": [],
   "source": []
  }
 ],
 "metadata": {
  "colab": {
   "authorship_tag": "ABX9TyPeewMRYU032vQEkuLRIsLj",
   "include_colab_link": true,
   "name": "python_cviceni_01.ipynb",
   "provenance": [],
   "toc_visible": true
  },
  "kernelspec": {
   "display_name": "Python 3 (ipykernel)",
   "language": "python",
   "name": "python3"
  },
  "language_info": {
   "codemirror_mode": {
    "name": "ipython",
    "version": 3
   },
   "file_extension": ".py",
   "mimetype": "text/x-python",
   "name": "python",
   "nbconvert_exporter": "python",
   "pygments_lexer": "ipython3",
   "version": "3.10.6"
  }
 },
 "nbformat": 4,
 "nbformat_minor": 4
}
