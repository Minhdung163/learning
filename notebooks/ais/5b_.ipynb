{
 "cells": [
  {
   "cell_type": "markdown",
   "id": "4032b34d-f913-4477-8747-0b1252ba3b1d",
   "metadata": {},
   "source": [
    "#"
   ]
  },
  {
   "cell_type": "markdown",
   "id": "4fb73f52-a37b-4aa0-bad0-4c9990fdf1bc",
   "metadata": {},
   "source": [
    "## Device"
   ]
  },
  {
   "cell_type": "code",
   "execution_count": 7,
   "id": "ed868269-18e7-4092-b91c-0f2c62c7f5d1",
   "metadata": {},
   "outputs": [
    {
     "name": "stdout",
     "output_type": "stream",
     "text": [
      "Using device: cpu\n"
     ]
    }
   ],
   "source": [
    "import torch\n",
    "device = (\n",
    "    \"mps\"\n",
    "    if getattr(torch, \"has_mps\", False)\n",
    "    else \"cuda\"\n",
    "    if torch.cuda.is_available()\n",
    "    else \"cpu\"\n",
    ")\n",
    "print(f\"Using device: {device}\")"
   ]
  },
  {
   "cell_type": "markdown",
   "id": "fd7517ef-9ae1-43f7-84d0-392e1a07bc42",
   "metadata": {},
   "source": [
    "## Datová sada Auta"
   ]
  },
  {
   "cell_type": "markdown",
   "id": "2994f057-7041-4cd1-ad26-2cb15fa8a80f",
   "metadata": {},
   "source": [
    "### Raw (surová data)"
   ]
  },
  {
   "cell_type": "code",
   "execution_count": 1,
   "id": "ee4d83ab-bdff-401e-8fb5-eb4d6b77b489",
   "metadata": {},
   "outputs": [
    {
     "name": "stdout",
     "output_type": "stream",
     "text": [
      "18.0   8   307.0      130.0      3504.      12.0   70  1\t\"chevrolet chevelle malibu\"\n",
      "15.0   8   350.0      165.0      3693.      11.5   70  1\t\"buick skylark 320\"\n",
      "18.0   8   318.0      150.0      3436.      11.0   70  1\t\"plymouth satellite\"\n",
      "16.0   8   304.0      150.0      3433.      12.0   70  1\t\"amc rebel sst\"\n",
      "17.0   8   302.0      140.0      3449.      10.5   70  1\t\"ford torino\"\n",
      "15.0   8   429.0      198.0      4341.      10.0   70  1\t\"ford galaxie 500\"\n",
      "14.0   8   454.0      220.0      4354.       9.0   70  1\t\"chevrolet impala\"\n",
      "14.0   8   440.0      215.0      4312.       8.5   70  1\t\"plymouth fury iii\"\n",
      "14.0   8   455.0      225.0      4425.      10.0   70  1\t\"pontiac catalina\"\n",
      "15.0   8   390.0      190.0      3850.       8.5   70  1\t\"amc ambassador dpl\"\n",
      "15.0   8   383.0      170.0      3563.      10.0   70  1\t\"dodge challenger se\"\n",
      "14.0   8   340.0      160.0      3609.       8.0   70  1\t\"plymouth 'cuda 340\"\n",
      "15.0   8   400.0      150.0      3761.       9.5   70  1\t\"chevrolet monte ca\n"
     ]
    }
   ],
   "source": [
    "import aiohttp\n",
    "url = \"https://archive.ics.uci.edu/ml/machine-learning-databases/auto-mpg/auto-mpg.data\"\n",
    "\n",
    "async with aiohttp.ClientSession() as session:\n",
    "    async with session.get(url) as resp:\n",
    "        # print(resp.status)\n",
    "        textresponse = await resp.text()\n",
    "print(textresponse[:1000])"
   ]
  },
  {
   "cell_type": "markdown",
   "id": "ec5c3c26-860f-4d66-ad57-e250669e08fc",
   "metadata": {},
   "source": [
    "### Reformat"
   ]
  },
  {
   "cell_type": "code",
   "execution_count": 2,
   "id": "e94a7fd3-be25-4002-93c5-bc93ba713789",
   "metadata": {},
   "outputs": [
    {
     "name": "stdout",
     "output_type": "stream",
     "text": [
      "18.0 8 307.0 130.0 3504. 12.0 70 1 \"chevrolet chevelle malibu\"\n",
      "15.0 8 350.0 165.0 3693. 11.5 70 1 \"buick skylark 320\"\n",
      "18.0 8 318.0 150.0 3436. 11.0 70 1 \"plymouth satellite\"\n",
      "16.0 8 304.0 150.0 3433. 12.0 70 1 \"amc rebel sst\"\n",
      "17.0 8 302.0 140.0 3449. 10.5 70 1 \"ford torino\"\n",
      "15.0 8 429.0 198.0 4341. 10.0 70 1 \"ford galaxie 500\"\n",
      "14.0 8 454.0 220.0 4354. 9.0 70 1 \"chevrolet impala\"\n",
      "14.0 8 440.0 215.0 4312. 8.5 70 1 \"plymouth fury iii\"\n",
      "14.0 8 455.0 225.0 4425. 10.0 70 1 \"pontiac catalina\"\n",
      "15.0 8 390.0 190.0 3850. 8.5 70 1 \"amc ambassador dpl\"\n",
      "15.0 8 383.0 170.0 3563. 10.0 70 1 \"dodge challenger se\"\n",
      "14.0 8 340.0 160.0 3609. 8.0 70 1 \"plymouth 'cuda 340\"\n",
      "15.0 8 400.0 150.0 3761. 9.5 70 1 \"chevrolet monte carlo\"\n",
      "14.0 8 455.0 225.0 3086. 10.0 70 1 \"buick estate wagon (sw)\"\n",
      "24.0 4 113.0 95.00 2372. 15.0 70 3 \"toyota corona mark ii\"\n",
      "22.0 6 198.0 95.00 2833. 15.5 70 1 \"plymouth duster\"\n",
      "18.0 6 199.0 97.00 2774. 15.5 70 1 \"amc hornet\"\n",
      "21.0 6 200.0 85.00 2587. 16.0 70 1 \"ford maverick\"\n",
      "27.0 4 97.00 8\n"
     ]
    }
   ],
   "source": [
    "import re\n",
    "textresponse = re.sub(' +', ' ', textresponse)\n",
    "textresponse = re.sub('\\t', ' ', textresponse)\n",
    "print(textresponse[:1000])"
   ]
  },
  {
   "cell_type": "markdown",
   "id": "f41a65f4-c4ef-4707-8a2c-2dbd795a9a71",
   "metadata": {},
   "source": [
    "### Načtení do Pandas"
   ]
  },
  {
   "cell_type": "code",
   "execution_count": 3,
   "id": "4141f47f-88a5-4af8-bbeb-1902e0b85a40",
   "metadata": {},
   "outputs": [
    {
     "data": {
      "text/html": [
       "<div>\n",
       "<style scoped>\n",
       "    .dataframe tbody tr th:only-of-type {\n",
       "        vertical-align: middle;\n",
       "    }\n",
       "\n",
       "    .dataframe tbody tr th {\n",
       "        vertical-align: top;\n",
       "    }\n",
       "\n",
       "    .dataframe thead th {\n",
       "        text-align: right;\n",
       "    }\n",
       "</style>\n",
       "<table border=\"1\" class=\"dataframe\">\n",
       "  <thead>\n",
       "    <tr style=\"text-align: right;\">\n",
       "      <th></th>\n",
       "      <th>mpg</th>\n",
       "      <th>cylinders</th>\n",
       "      <th>displacement</th>\n",
       "      <th>...</th>\n",
       "      <th>year</th>\n",
       "      <th>origin</th>\n",
       "      <th>name</th>\n",
       "    </tr>\n",
       "  </thead>\n",
       "  <tbody>\n",
       "    <tr>\n",
       "      <th>0</th>\n",
       "      <td>18.0</td>\n",
       "      <td>8</td>\n",
       "      <td>307.0</td>\n",
       "      <td>...</td>\n",
       "      <td>70</td>\n",
       "      <td>1</td>\n",
       "      <td>chevrolet chevelle malibu</td>\n",
       "    </tr>\n",
       "    <tr>\n",
       "      <th>1</th>\n",
       "      <td>15.0</td>\n",
       "      <td>8</td>\n",
       "      <td>350.0</td>\n",
       "      <td>...</td>\n",
       "      <td>70</td>\n",
       "      <td>1</td>\n",
       "      <td>buick skylark 320</td>\n",
       "    </tr>\n",
       "    <tr>\n",
       "      <th>2</th>\n",
       "      <td>18.0</td>\n",
       "      <td>8</td>\n",
       "      <td>318.0</td>\n",
       "      <td>...</td>\n",
       "      <td>70</td>\n",
       "      <td>1</td>\n",
       "      <td>plymouth satellite</td>\n",
       "    </tr>\n",
       "    <tr>\n",
       "      <th>3</th>\n",
       "      <td>16.0</td>\n",
       "      <td>8</td>\n",
       "      <td>304.0</td>\n",
       "      <td>...</td>\n",
       "      <td>70</td>\n",
       "      <td>1</td>\n",
       "      <td>amc rebel sst</td>\n",
       "    </tr>\n",
       "    <tr>\n",
       "      <th>4</th>\n",
       "      <td>17.0</td>\n",
       "      <td>8</td>\n",
       "      <td>302.0</td>\n",
       "      <td>...</td>\n",
       "      <td>70</td>\n",
       "      <td>1</td>\n",
       "      <td>ford torino</td>\n",
       "    </tr>\n",
       "    <tr>\n",
       "      <th>...</th>\n",
       "      <td>...</td>\n",
       "      <td>...</td>\n",
       "      <td>...</td>\n",
       "      <td>...</td>\n",
       "      <td>...</td>\n",
       "      <td>...</td>\n",
       "      <td>...</td>\n",
       "    </tr>\n",
       "    <tr>\n",
       "      <th>393</th>\n",
       "      <td>27.0</td>\n",
       "      <td>4</td>\n",
       "      <td>140.0</td>\n",
       "      <td>...</td>\n",
       "      <td>82</td>\n",
       "      <td>1</td>\n",
       "      <td>ford mustang gl</td>\n",
       "    </tr>\n",
       "    <tr>\n",
       "      <th>394</th>\n",
       "      <td>44.0</td>\n",
       "      <td>4</td>\n",
       "      <td>97.0</td>\n",
       "      <td>...</td>\n",
       "      <td>82</td>\n",
       "      <td>2</td>\n",
       "      <td>vw pickup</td>\n",
       "    </tr>\n",
       "    <tr>\n",
       "      <th>395</th>\n",
       "      <td>32.0</td>\n",
       "      <td>4</td>\n",
       "      <td>135.0</td>\n",
       "      <td>...</td>\n",
       "      <td>82</td>\n",
       "      <td>1</td>\n",
       "      <td>dodge rampage</td>\n",
       "    </tr>\n",
       "    <tr>\n",
       "      <th>396</th>\n",
       "      <td>28.0</td>\n",
       "      <td>4</td>\n",
       "      <td>120.0</td>\n",
       "      <td>...</td>\n",
       "      <td>82</td>\n",
       "      <td>1</td>\n",
       "      <td>ford ranger</td>\n",
       "    </tr>\n",
       "    <tr>\n",
       "      <th>397</th>\n",
       "      <td>31.0</td>\n",
       "      <td>4</td>\n",
       "      <td>119.0</td>\n",
       "      <td>...</td>\n",
       "      <td>82</td>\n",
       "      <td>1</td>\n",
       "      <td>chevy s-10</td>\n",
       "    </tr>\n",
       "  </tbody>\n",
       "</table>\n",
       "<p>398 rows × 9 columns</p>\n",
       "</div>"
      ],
      "text/plain": [
       "      mpg  cylinders  displacement  ...  year  origin  \\\n",
       "0    18.0          8         307.0  ...    70       1   \n",
       "1    15.0          8         350.0  ...    70       1   \n",
       "2    18.0          8         318.0  ...    70       1   \n",
       "3    16.0          8         304.0  ...    70       1   \n",
       "4    17.0          8         302.0  ...    70       1   \n",
       "..    ...        ...           ...  ...   ...     ...   \n",
       "393  27.0          4         140.0  ...    82       1   \n",
       "394  44.0          4          97.0  ...    82       2   \n",
       "395  32.0          4         135.0  ...    82       1   \n",
       "396  28.0          4         120.0  ...    82       1   \n",
       "397  31.0          4         119.0  ...    82       1   \n",
       "\n",
       "                          name  \n",
       "0    chevrolet chevelle malibu  \n",
       "1            buick skylark 320  \n",
       "2           plymouth satellite  \n",
       "3                amc rebel sst  \n",
       "4                  ford torino  \n",
       "..                         ...  \n",
       "393            ford mustang gl  \n",
       "394                  vw pickup  \n",
       "395              dodge rampage  \n",
       "396                ford ranger  \n",
       "397                 chevy s-10  \n",
       "\n",
       "[398 rows x 9 columns]"
      ]
     },
     "execution_count": 3,
     "metadata": {},
     "output_type": "execute_result"
    }
   ],
   "source": [
    "import pandas as pd\n",
    "from io import StringIO \n",
    "\n",
    "\n",
    "def getAutoDataFrame():\n",
    "    df = pd.read_csv(StringIO(textresponse), sep=\" \", names=[\"mpg\", \"cylinders\", \"displacement\", \"horsepower\", \"weight\", \"acceleration\", \"year\", \"origin\", \"name\"], na_values=[\"?\"])\n",
    "    return df\n",
    "\n",
    "pd.set_option(\"display.max_columns\", 7)\n",
    "\n",
    "df = getAutoDataFrame()\n",
    "df"
   ]
  },
  {
   "cell_type": "markdown",
   "id": "04df2c2a-7217-4e93-998d-991b6f88ecfe",
   "metadata": {},
   "source": [
    "### Transformace dat pro učení sítí"
   ]
  },
  {
   "cell_type": "code",
   "execution_count": 14,
   "id": "142bf1ea-5fa8-4e0c-91b7-8357023dc9a8",
   "metadata": {},
   "outputs": [],
   "source": [
    "import time\n",
    "\n",
    "import numpy as np\n",
    "import pandas as pd\n",
    "import torch.nn as nn\n",
    "import torch.nn.functional as F\n",
    "import tqdm\n",
    "from sklearn import preprocessing\n",
    "from sklearn.metrics import accuracy_score\n",
    "from sklearn.model_selection import train_test_split\n",
    "from torch.autograd import Variable\n",
    "from torch.utils.data import DataLoader, TensorDataset\n",
    "\n",
    "cars = df[\"name\"]\n",
    "\n",
    "# Handle missing value\n",
    "df[\"horsepower\"] = df[\"horsepower\"].fillna(df[\"horsepower\"].median())\n",
    "\n",
    "# Pandas to Numpy\n",
    "x = df[\n",
    "    [\n",
    "        \"cylinders\",\n",
    "        \"displacement\",\n",
    "        \"horsepower\",\n",
    "        \"weight\",\n",
    "        \"acceleration\",\n",
    "        \"year\",\n",
    "        \"origin\",\n",
    "    ]\n",
    "].values\n",
    "y = df[\"mpg\"].values  # regression\n",
    "\n",
    "# Split into validation and training sets\n",
    "x_train, x_test, y_train, y_test = train_test_split(\n",
    "    x, y, test_size=0.25, random_state=42\n",
    ")\n",
    "\n",
    "x_train = torch.tensor(x_train, device=device, dtype=torch.float32)\n",
    "y_train = torch.tensor(y_train, device=device, dtype=torch.float32)\n",
    "\n",
    "x_test = torch.tensor(x_test, device=device, dtype=torch.float32)\n",
    "y_test = torch.tensor(y_test, device=device, dtype=torch.float32)"
   ]
  },
  {
   "cell_type": "code",
   "execution_count": 15,
   "id": "930cee7f-1d04-454e-bd14-9d04f31ec8a4",
   "metadata": {},
   "outputs": [
    {
     "data": {
      "text/plain": [
       "tensor([[  4.0000,  98.0000,  66.0000,  ...,  14.4000,  78.0000,   1.0000],\n",
       "        [  4.0000, 108.0000,  94.0000,  ...,  16.5000,  73.0000,   3.0000],\n",
       "        [  6.0000, 199.0000,  97.0000,  ...,  15.5000,  70.0000,   1.0000],\n",
       "        ...,\n",
       "        [  4.0000, 134.0000,  95.0000,  ...,  14.8000,  78.0000,   3.0000],\n",
       "        [  4.0000,  89.0000,  62.0000,  ...,  17.3000,  81.0000,   3.0000],\n",
       "        [  4.0000,  97.0000,  46.0000,  ...,  21.0000,  73.0000,   2.0000]])"
      ]
     },
     "execution_count": 15,
     "metadata": {},
     "output_type": "execute_result"
    }
   ],
   "source": [
    "x_train"
   ]
  },
  {
   "cell_type": "markdown",
   "id": "64d5b584-cdc1-4907-82f4-5b5d60f55fff",
   "metadata": {},
   "source": [
    "## Neuronové sítě reprezentované sekvencemi"
   ]
  },
  {
   "cell_type": "code",
   "execution_count": 17,
   "id": "6f95591d-38cd-41e4-9987-22a411014be8",
   "metadata": {},
   "outputs": [],
   "source": [
    "import time\n",
    "\n",
    "import numpy as np\n",
    "import pandas as pd\n",
    "import torch\n",
    "import tqdm\n",
    "from sklearn.metrics import accuracy_score\n",
    "from sklearn.model_selection import train_test_split\n",
    "from sklearn.preprocessing import LabelEncoder, StandardScaler\n",
    "from torch import nn\n",
    "from torch.autograd import Variable\n",
    "from torch.utils.data import DataLoader, TensorDataset\n",
    "\n",
    "# Create datasets\n",
    "BATCH_SIZE = 16\n",
    "\n",
    "dataset_train = TensorDataset(x_train, y_train)\n",
    "dataloader_train = DataLoader(\n",
    "    dataset_train, batch_size=BATCH_SIZE, shuffle=True)\n",
    "\n",
    "dataset_test = TensorDataset(x_test, y_test)\n",
    "dataloader_test = DataLoader(dataset_test, batch_size=BATCH_SIZE, shuffle=True)\n",
    "\n",
    "# Create model using nn.Sequential\n",
    "model = nn.Sequential(\n",
    "    nn.Linear(x_train.shape[1], 50), \n",
    "    nn.ReLU(), \n",
    "    nn.Linear(50, 25), \n",
    "    nn.ReLU(), \n",
    "    nn.Linear(25, 1)\n",
    ")"
   ]
  },
  {
   "cell_type": "markdown",
   "id": "22a0bf52-be5c-4f2d-95d4-9a26e2a64c14",
   "metadata": {},
   "source": [
    "## Neuronové sítě reprezentované třídami"
   ]
  },
  {
   "cell_type": "code",
   "execution_count": 18,
   "id": "f1e80bc6-b152-4a09-835d-2bce59feed32",
   "metadata": {},
   "outputs": [
    {
     "name": "stdout",
     "output_type": "stream",
     "text": [
      "Epoch 0, loss: 3017.869384765625\n",
      "Epoch 100, loss: 163.57090759277344\n",
      "Epoch 200, loss: 107.23971557617188\n",
      "Epoch 300, loss: 50.896141052246094\n",
      "Epoch 400, loss: 36.833656311035156\n",
      "Epoch 500, loss: 29.562450408935547\n",
      "Epoch 600, loss: 23.77164649963379\n",
      "Epoch 700, loss: 18.963064193725586\n",
      "Epoch 800, loss: 15.511846542358398\n",
      "Epoch 900, loss: 219.20545959472656\n"
     ]
    }
   ],
   "source": [
    "import numpy as np\n",
    "import pandas as pd\n",
    "import torch\n",
    "import torch.nn as nn\n",
    "import torch.nn.functional as F\n",
    "from sklearn import preprocessing\n",
    "from sklearn.metrics import accuracy_score\n",
    "from sklearn.model_selection import train_test_split\n",
    "from torch.autograd import Variable\n",
    "\n",
    "\n",
    "class Net(nn.Module):\n",
    "    def __init__(self, input_dim, output_dim):\n",
    "        super(Net, self).__init__()\n",
    "\n",
    "        # Define each of the layers\n",
    "        self.layer1 = nn.Linear(input_dim, 50)\n",
    "        self.layer2 = nn.Linear(50, 25)\n",
    "        self.layer3 = nn.Linear(25, output_dim)\n",
    "\n",
    "    def forward(self, x):\n",
    "        # Pass the input through each of the layers\n",
    "        x = F.relu(self.layer1(x))\n",
    "        x = F.relu(self.layer2(x))\n",
    "        return self.layer3(x)\n",
    "\n",
    "\n",
    "# Replace missing horsepower values with median\n",
    "df[\"horsepower\"] = df[\"horsepower\"].fillna(df[\"horsepower\"].median())\n",
    "\n",
    "# Convert pandas DataFrame to PyTorch tensors\n",
    "x = torch.tensor(\n",
    "    df[\n",
    "        [\n",
    "            \"cylinders\",\n",
    "            \"displacement\",\n",
    "            \"horsepower\",\n",
    "            \"weight\",\n",
    "            \"acceleration\",\n",
    "            \"year\",\n",
    "            \"origin\",\n",
    "        ]\n",
    "    ].values,\n",
    "    device=device,\n",
    "    dtype=torch.float32,\n",
    ")\n",
    "y = torch.tensor(df[\"mpg\"].values, device=device,\n",
    "                 dtype=torch.float32)  # regression\n",
    "\n",
    "# Initialize the model, loss function, and optimizer\n",
    "model = Net(x.shape[1], 1).to(device)\n",
    "model = torch.compile(model,backend=\"aot_eager\").to(device)\n",
    "loss_fn = nn.MSELoss()\n",
    "optimizer = torch.optim.Adam(model.parameters(), lr=0.01)\n",
    "\n",
    "# Training loop\n",
    "for epoch in range(1000):\n",
    "    # Zero gradients\n",
    "    optimizer.zero_grad()\n",
    "\n",
    "    # Forward pass\n",
    "    outputs = model(x).flatten()\n",
    "\n",
    "    # Compute loss\n",
    "    loss = loss_fn(outputs, y)\n",
    "\n",
    "    # Backward pass and optimize\n",
    "    loss.backward()\n",
    "    optimizer.step()\n",
    "\n",
    "    if epoch % 100 == 0:\n",
    "        print(f\"Epoch {epoch}, loss: {loss.item()}\")"
   ]
  },
  {
   "cell_type": "markdown",
   "id": "39999def-13f3-4a48-9dfc-c9fe3a38d20c",
   "metadata": {},
   "source": [
    "## Testování"
   ]
  },
  {
   "cell_type": "code",
   "execution_count": 19,
   "id": "41ec2bc4-2e97-4b69-9c74-ad1225bf3624",
   "metadata": {},
   "outputs": [
    {
     "name": "stdout",
     "output_type": "stream",
     "text": [
      "Final score (RMSE): 3.7692348957061768\n"
     ]
    }
   ],
   "source": [
    "from sklearn import metrics\n",
    "\n",
    "# Measure RMSE error.  RMSE is common for regression.\n",
    "pred = model(x_test)\n",
    "score = torch.sqrt(torch.nn.functional.mse_loss(pred.flatten(), y_test))\n",
    "print(f\"Final score (RMSE): {score}\")"
   ]
  },
  {
   "cell_type": "code",
   "execution_count": null,
   "id": "8cf2e7c8-2392-4fed-b708-fe1cd2496c45",
   "metadata": {},
   "outputs": [],
   "source": []
  }
 ],
 "metadata": {
  "kernelspec": {
   "display_name": "Python 3 (ipykernel)",
   "language": "python",
   "name": "python3"
  },
  "language_info": {
   "codemirror_mode": {
    "name": "ipython",
    "version": 3
   },
   "file_extension": ".py",
   "mimetype": "text/x-python",
   "name": "python",
   "nbconvert_exporter": "python",
   "pygments_lexer": "ipython3",
   "version": "3.10.6"
  }
 },
 "nbformat": 4,
 "nbformat_minor": 5
}
