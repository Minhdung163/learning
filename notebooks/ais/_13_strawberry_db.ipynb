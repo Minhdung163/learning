{
 "cells": [
  {
   "cell_type": "code",
   "execution_count": null,
   "id": "d8058683-a0b2-400a-8c39-fcdba91b21f9",
   "metadata": {},
   "outputs": [],
   "source": []
  },
  {
   "cell_type": "markdown",
   "id": "272bc20f-dc0d-4b76-8e1e-5648e7ce2bb5",
   "metadata": {},
   "source": [
    "# Strawberry"
   ]
  },
  {
   "cell_type": "markdown",
   "id": "8b8b17f4-90bd-4c45-9aff-35eae3ef577a",
   "metadata": {},
   "source": [
    "## Libraries dependency and imports"
   ]
  },
  {
   "cell_type": "code",
   "execution_count": 1,
   "id": "e9f936b0-037a-4a49-8cb8-8c4f36f3cde1",
   "metadata": {
    "tags": []
   },
   "outputs": [
    {
     "name": "stdout",
     "output_type": "stream",
     "text": [
      "Collecting strawberry-graphql\n",
      "  Downloading strawberry_graphql-0.209.8-py3-none-any.whl (273 kB)\n",
      "\u001b[2K     \u001b[90m━━━━━━━━━━━━━━━━━━━━━━━━━━━━━━━━━━━━━━━\u001b[0m \u001b[32m273.2/273.2 kB\u001b[0m \u001b[31m2.4 MB/s\u001b[0m eta \u001b[36m0:00:00\u001b[0m00:01\u001b[0m00:01\u001b[0m\n",
      "\u001b[?25hRequirement already satisfied: typing-extensions>=4.5.0 in /opt/conda/lib/python3.10/site-packages (from strawberry-graphql) (4.5.0)\n",
      "Collecting graphql-core<3.3.0,>=3.2.0\n",
      "  Downloading graphql_core-3.2.3-py3-none-any.whl (202 kB)\n",
      "\u001b[2K     \u001b[90m━━━━━━━━━━━━━━━━━━━━━━━━━━━━━━━━━━━━━━━\u001b[0m \u001b[32m202.9/202.9 kB\u001b[0m \u001b[31m2.4 MB/s\u001b[0m eta \u001b[36m0:00:00\u001b[0ma \u001b[36m0:00:01\u001b[0m\n",
      "\u001b[?25hRequirement already satisfied: python-dateutil<3.0.0,>=2.7.0 in /opt/conda/lib/python3.10/site-packages (from strawberry-graphql) (2.8.2)\n",
      "Requirement already satisfied: six>=1.5 in /opt/conda/lib/python3.10/site-packages (from python-dateutil<3.0.0,>=2.7.0->strawberry-graphql) (1.16.0)\n",
      "Installing collected packages: graphql-core, strawberry-graphql\n",
      "Successfully installed graphql-core-3.2.3 strawberry-graphql-0.209.8\n",
      "Collecting uvicorn[standard]\n",
      "  Downloading uvicorn-0.23.2-py3-none-any.whl (59 kB)\n",
      "\u001b[2K     \u001b[90m━━━━━━━━━━━━━━━━━━━━━━━━━━━━━━━━━━━━━━━━\u001b[0m \u001b[32m59.5/59.5 kB\u001b[0m \u001b[31m2.2 MB/s\u001b[0m eta \u001b[36m0:00:00\u001b[0m\n",
      "\u001b[?25hRequirement already satisfied: click>=7.0 in /opt/conda/lib/python3.10/site-packages (from uvicorn[standard]) (8.1.3)\n",
      "Collecting h11>=0.8\n",
      "  Downloading h11-0.14.0-py3-none-any.whl (58 kB)\n",
      "\u001b[2K     \u001b[90m━━━━━━━━━━━━━━━━━━━━━━━━━━━━━━━━━━━━━━━━\u001b[0m \u001b[32m58.3/58.3 kB\u001b[0m \u001b[31m2.3 MB/s\u001b[0m eta \u001b[36m0:00:00\u001b[0m\n",
      "\u001b[?25hRequirement already satisfied: typing-extensions>=4.0 in /opt/conda/lib/python3.10/site-packages (from uvicorn[standard]) (4.5.0)\n",
      "Collecting python-dotenv>=0.13\n",
      "  Downloading python_dotenv-1.0.0-py3-none-any.whl (19 kB)\n",
      "Collecting websockets>=10.4\n",
      "  Downloading websockets-12.0-cp310-cp310-manylinux_2_5_x86_64.manylinux1_x86_64.manylinux_2_17_x86_64.manylinux2014_x86_64.whl (130 kB)\n",
      "\u001b[2K     \u001b[90m━━━━━━━━━━━━━━━━━━━━━━━━━━━━━━━━━━━━━━━\u001b[0m \u001b[32m130.2/130.2 kB\u001b[0m \u001b[31m2.3 MB/s\u001b[0m eta \u001b[36m0:00:00\u001b[0ma \u001b[36m0:00:01\u001b[0m\n",
      "\u001b[?25hCollecting uvloop!=0.15.0,!=0.15.1,>=0.14.0\n",
      "  Downloading uvloop-0.19.0-cp310-cp310-manylinux_2_17_x86_64.manylinux2014_x86_64.whl (3.4 MB)\n",
      "\u001b[2K     \u001b[90m━━━━━━━━━━━━━━━━━━━━━━━━━━━━━━━━━━━━━━━━\u001b[0m \u001b[32m3.4/3.4 MB\u001b[0m \u001b[31m2.3 MB/s\u001b[0m eta \u001b[36m0:00:00\u001b[0m00:01\u001b[0m00:01\u001b[0m\n",
      "\u001b[?25hRequirement already satisfied: pyyaml>=5.1 in /opt/conda/lib/python3.10/site-packages (from uvicorn[standard]) (6.0)\n",
      "Collecting watchfiles>=0.13\n",
      "  Downloading watchfiles-0.21.0-cp310-cp310-manylinux_2_17_x86_64.manylinux2014_x86_64.whl (1.3 MB)\n",
      "\u001b[2K     \u001b[90m━━━━━━━━━━━━━━━━━━━━━━━━━━━━━━━━━━━━━━━━\u001b[0m \u001b[32m1.3/1.3 MB\u001b[0m \u001b[31m2.5 MB/s\u001b[0m eta \u001b[36m0:00:00\u001b[0m00:01\u001b[0m00:01\u001b[0m\n",
      "\u001b[?25hCollecting httptools>=0.5.0\n",
      "  Downloading httptools-0.6.1-cp310-cp310-manylinux_2_5_x86_64.manylinux1_x86_64.manylinux_2_17_x86_64.manylinux2014_x86_64.whl (341 kB)\n",
      "\u001b[2K     \u001b[90m━━━━━━━━━━━━━━━━━━━━━━━━━━━━━━━━━━━━━━━\u001b[0m \u001b[32m341.4/341.4 kB\u001b[0m \u001b[31m2.1 MB/s\u001b[0m eta \u001b[36m0:00:00\u001b[0ma \u001b[36m0:00:01\u001b[0m\n",
      "\u001b[?25hRequirement already satisfied: anyio>=3.0.0 in /opt/conda/lib/python3.10/site-packages (from watchfiles>=0.13->uvicorn[standard]) (3.6.2)\n",
      "Requirement already satisfied: idna>=2.8 in /opt/conda/lib/python3.10/site-packages (from anyio>=3.0.0->watchfiles>=0.13->uvicorn[standard]) (3.4)\n",
      "Requirement already satisfied: sniffio>=1.1 in /opt/conda/lib/python3.10/site-packages (from anyio>=3.0.0->watchfiles>=0.13->uvicorn[standard]) (1.3.0)\n",
      "Installing collected packages: websockets, uvloop, python-dotenv, httptools, h11, watchfiles, uvicorn\n",
      "Successfully installed h11-0.14.0 httptools-0.6.1 python-dotenv-1.0.0 uvicorn-0.23.2 uvloop-0.19.0 watchfiles-0.21.0 websockets-12.0\n",
      "Collecting fastapi\n",
      "  Downloading fastapi-0.104.0-py3-none-any.whl (92 kB)\n",
      "\u001b[2K     \u001b[90m━━━━━━━━━━━━━━━━━━━━━━━━━━━━━━━━━━━━━━━━\u001b[0m \u001b[32m92.9/92.9 kB\u001b[0m \u001b[31m1.2 MB/s\u001b[0m eta \u001b[36m0:00:00\u001b[0m00:01\u001b[0m:00:01\u001b[0m\n",
      "\u001b[?25hCollecting pydantic!=1.8,!=1.8.1,!=2.0.0,!=2.0.1,!=2.1.0,<3.0.0,>=1.7.4\n",
      "  Downloading pydantic-2.4.2-py3-none-any.whl (395 kB)\n",
      "\u001b[2K     \u001b[90m━━━━━━━━━━━━━━━━━━━━━━━━━━━━━━━━━━━━━━━\u001b[0m \u001b[32m395.8/395.8 kB\u001b[0m \u001b[31m2.4 MB/s\u001b[0m eta \u001b[36m0:00:00\u001b[0ma \u001b[36m0:00:01\u001b[0m\n",
      "\u001b[?25hCollecting typing-extensions>=4.8.0\n",
      "  Downloading typing_extensions-4.8.0-py3-none-any.whl (31 kB)\n",
      "Collecting starlette<0.28.0,>=0.27.0\n",
      "  Downloading starlette-0.27.0-py3-none-any.whl (66 kB)\n",
      "\u001b[2K     \u001b[90m━━━━━━━━━━━━━━━━━━━━━━━━━━━━━━━━━━━━━━━━\u001b[0m \u001b[32m67.0/67.0 kB\u001b[0m \u001b[31m2.1 MB/s\u001b[0m eta \u001b[36m0:00:00\u001b[0m\n",
      "\u001b[?25hCollecting anyio<4.0.0,>=3.7.1\n",
      "  Downloading anyio-3.7.1-py3-none-any.whl (80 kB)\n",
      "\u001b[2K     \u001b[90m━━━━━━━━━━━━━━━━━━━━━━━━━━━━━━━━━━━━━━━━\u001b[0m \u001b[32m80.9/80.9 kB\u001b[0m \u001b[31m2.4 MB/s\u001b[0m eta \u001b[36m0:00:00\u001b[0m\n",
      "\u001b[?25hRequirement already satisfied: sniffio>=1.1 in /opt/conda/lib/python3.10/site-packages (from anyio<4.0.0,>=3.7.1->fastapi) (1.3.0)\n",
      "Requirement already satisfied: idna>=2.8 in /opt/conda/lib/python3.10/site-packages (from anyio<4.0.0,>=3.7.1->fastapi) (3.4)\n",
      "Collecting exceptiongroup\n",
      "  Downloading exceptiongroup-1.1.3-py3-none-any.whl (14 kB)\n",
      "Collecting pydantic-core==2.10.1\n",
      "  Downloading pydantic_core-2.10.1-cp310-cp310-manylinux_2_17_x86_64.manylinux2014_x86_64.whl (2.0 MB)\n",
      "\u001b[2K     \u001b[90m━━━━━━━━━━━━━━━━━━━━━━━━━━━━━━━━━━━━━━━━\u001b[0m \u001b[32m2.0/2.0 MB\u001b[0m \u001b[31m2.6 MB/s\u001b[0m eta \u001b[36m0:00:00\u001b[0m00:01\u001b[0m00:01\u001b[0m\n",
      "\u001b[?25hCollecting annotated-types>=0.4.0\n",
      "  Downloading annotated_types-0.6.0-py3-none-any.whl (12 kB)\n",
      "Installing collected packages: typing-extensions, exceptiongroup, annotated-types, pydantic-core, anyio, starlette, pydantic, fastapi\n",
      "  Attempting uninstall: typing-extensions\n",
      "    Found existing installation: typing_extensions 4.5.0\n",
      "    Uninstalling typing_extensions-4.5.0:\n",
      "      Successfully uninstalled typing_extensions-4.5.0\n",
      "  Attempting uninstall: anyio\n",
      "    Found existing installation: anyio 3.6.2\n",
      "    Uninstalling anyio-3.6.2:\n",
      "      Successfully uninstalled anyio-3.6.2\n",
      "Successfully installed annotated-types-0.6.0 anyio-3.7.1 exceptiongroup-1.1.3 fastapi-0.104.0 pydantic-2.4.2 pydantic-core-2.10.1 starlette-0.27.0 typing-extensions-4.8.0\n",
      "Collecting psycopg2-binary\n",
      "  Downloading psycopg2_binary-2.9.9-cp310-cp310-manylinux_2_17_x86_64.manylinux2014_x86_64.whl (3.0 MB)\n",
      "\u001b[2K     \u001b[90m━━━━━━━━━━━━━━━━━━━━━━━━━━━━━━━━━━━━━━━━\u001b[0m \u001b[32m3.0/3.0 MB\u001b[0m \u001b[31m2.4 MB/s\u001b[0m eta \u001b[36m0:00:00\u001b[0m00:01\u001b[0m00:01\u001b[0m\n",
      "\u001b[?25hInstalling collected packages: psycopg2-binary\n",
      "Successfully installed psycopg2-binary-2.9.9\n"
     ]
    }
   ],
   "source": [
    "!pip install strawberry-graphql\n",
    "!pip install uvicorn[standard]\n",
    "!pip install fastapi\n",
    "!pip install psycopg2-binary"
   ]
  },
  {
   "cell_type": "markdown",
   "id": "14c03142-37d6-45dd-a01f-c231c65f302f",
   "metadata": {},
   "source": [
    "## Helper Func for App in Notebook"
   ]
  },
  {
   "cell_type": "markdown",
   "id": "811dec73-4d8c-410c-8c58-8edd77bb65d8",
   "metadata": {},
   "source": [
    "V ukázkách dále bude použit kód, který je specifický pro prostředí jupyter a který tak umožňuje spouštět ukázky přímo v notebooku. Fakticky je kódem vytvořen subproces, který zabezpečuje běh serveru. Identifikace subprocesu je uložena v datové struktuře `servers`. Díky tomu lze identifikovat, zda na požadovaném portu již nějaký server běží a v případě potřeby jej zastavit a spustit nový server.\n",
    "\n",
    "Po ukončení experimentů se serverem (kódem) je nutné tento server zastavit, aby došlo k uvolnění portu. V případe problémů je možné, že bude nezbytné restartovat jupyter, aby byly porty uvolněny. Je-li spuštěn nový server, aniž by běžící na stejném portu byl ukončen, dojde k chybovému stavu.\n",
    "\n",
    "```python\n",
    "assert port in [9991, 9992, 9993, 9994]\n",
    "```\n",
    "Slouží k ověření, že požadovaný port je dostupný i z prostředí mimo jupyter. Vzpomeňte si na konfiguraci docker stacku a mapování portů mimo jupyter kontejner."
   ]
  },
  {
   "cell_type": "code",
   "execution_count": 8,
   "id": "20825558-2d31-4dcf-a1f8-4cf6f5757890",
   "metadata": {
    "tags": []
   },
   "outputs": [],
   "source": [
    "# Code in this cell is just for (re)starting the API on a Process, and other compatibility stuff with Jupyter cells.\n",
    "# Just ignore it!\n",
    "import uvicorn\n",
    "from multiprocessing import Process\n",
    "\n",
    "servers = {}\n",
    "\n",
    "def start_api(app=None, port=9992, runNew=True):\n",
    "    \"\"\"Stop the API if running; Start the API; Wait until API (port) is available (reachable)\"\"\"\n",
    "    assert port in [9991, 9992, 9993, 9994], f'port has unexpected value {port}'\n",
    "    def run():\n",
    "        uvicorn.run(app, port=port, host='0.0.0.0', root_path='')    \n",
    "        \n",
    "    _api_process = servers.get(port, None)\n",
    "    if _api_process:\n",
    "        _api_process.terminate()\n",
    "        _api_process.join()\n",
    "        del servers[port]\n",
    "    \n",
    "    if runNew:\n",
    "        assert (not app is None), 'app is None'\n",
    "        _api_process = Process(target=run, daemon=True)\n",
    "        _api_process.start()\n",
    "        servers[port] = _api_process"
   ]
  },
  {
   "cell_type": "code",
   "execution_count": 9,
   "id": "f7be459c-cba6-4625-932d-87de6a1474d6",
   "metadata": {
    "tags": []
   },
   "outputs": [],
   "source": [
    "import os\n",
    "import asyncio\n",
    "import multiprocessing\n",
    "servers = {}\n",
    "\n",
    "def _start_api(app=None, port=9992, runNew=True):\n",
    "    \"\"\"Stop the API if running; Start the API; Wait until API (port) is available (reachable)\"\"\"\n",
    "    assert port in [9991, 9992, 9993, 9994], f'port has unexpected value {port}'\n",
    "    \n",
    "    async def runAsync():\n",
    "        config = uvicorn.Config(app, port=port, host='0.0.0.0', log_level=\"info\")\n",
    "        server = uvicorn.Server(config)\n",
    "        await server.serve()\n",
    "        #uvicorn.run(app, port=port, host='0.0.0.0', root_path='')    \n",
    "        \n",
    "    def withLoop():\n",
    "        process_name = \"[Process %s]\" % (os.getpid())\n",
    "        print(\"%s Started \" % process_name)\n",
    "\n",
    "        #loop = asyncio.get_event_loop()\n",
    "        loop = asyncio.new_event_loop()\n",
    "        try:\n",
    "            loop.run_until_complete(runAsync())\n",
    "        except KeyboardInterrupt:\n",
    "            print(\"%s Loop interrupted\" % process_name)\n",
    "            loop.stop()\n",
    "\n",
    "        print(\"%s terminating\" % process_name)\n",
    "        pass\n",
    "    \n",
    "    _api_process = servers.get(port, None)\n",
    "    if _api_process:\n",
    "        _api_process.terminate()\n",
    "        _api_process.join()\n",
    "        del servers[port]\n",
    "    \n",
    "    if runNew:\n",
    "        assert (not app is None), 'app is None'\n",
    "        _api_process = multiprocessing.Process(target=withLoop)\n",
    "        #_api_process = Process(target=run, daemon=True)\n",
    "        _api_process.start()\n",
    "        servers[port] = _api_process"
   ]
  },
  {
   "cell_type": "code",
   "execution_count": 10,
   "id": "8204c3d5-e164-4e2e-b5c3-754c2bd232b3",
   "metadata": {
    "tags": []
   },
   "outputs": [
    {
     "name": "stdout",
     "output_type": "stream",
     "text": [
      "Requirement already satisfied: gunicorn in /opt/conda/lib/python3.10/site-packages (21.2.0)\n",
      "Requirement already satisfied: packaging in /opt/conda/lib/python3.10/site-packages (from gunicorn) (23.0)\n"
     ]
    }
   ],
   "source": [
    "!pip install gunicorn"
   ]
  },
  {
   "cell_type": "markdown",
   "id": "593bdeca-9f69-48d0-8d08-a6aca3435f1a",
   "metadata": {},
   "source": [
    "? # Code in this cell is just for (re)starting the API on a Process, and other compatibility stuff with Jupyter cells.\n",
    "? # Just ignore it!\n",
    "import uvicorn\n",
    "from multiprocessing import Process\n",
    "\n",
    "async def start_api(app=None, port=9992, runNew=True):\n",
    "    \"\"\"Stop the API if running; Start the API; Wait until API (port) is available (reachable)\"\"\"\n",
    "    assert port in [9991, 9992, 9993, 9994], f'port has unexpected value {port}'\n",
    "\n",
    "    config = uvicorn.Config(app, port=port, host='0.0.0.0', log_level=\"info\")\n",
    "    server = uvicorn.Server(config)\n",
    "    await server.serve()\n",
    "\n",
    "await start_api(app, port=9992, runNew=True)"
   ]
  },
  {
   "cell_type": "code",
   "execution_count": 11,
   "id": "af5eee55-0f89-4cce-8af1-aed4c7cd9ee5",
   "metadata": {
    "tags": []
   },
   "outputs": [],
   "source": [
    "#start_api(app, port=9992, runNew=False)"
   ]
  },
  {
   "cell_type": "markdown",
   "id": "feee3d6d-a790-40e7-bd86-dcef1c18b7ea",
   "metadata": {},
   "source": [
    "## Hello World in Strawberry"
   ]
  },
  {
   "cell_type": "markdown",
   "id": "644af083-0e57-4763-9e24-7c0993184b18",
   "metadata": {},
   "source": [
    "Následující kód je \"klasický\" hello world, po spuštění otevřete \n",
    "\n",
    "http://localhost:31102/gql\n",
    "\n",
    "Přestože je výše v kódu definovaný port 9992, je nutné si uvědomit, že ve stacku learning je tento port mapován na 31102.\n",
    "Pokud máte jiný stack, či jiné prostředí, přizpůsobte si url adresu.\n",
    "\n",
    "Neopomeňte server ukončit `start_api(runNew=False)`"
   ]
  },
  {
   "cell_type": "code",
   "execution_count": 12,
   "id": "17cf9b7b-639a-435b-a50a-09e4da63d266",
   "metadata": {
    "tags": []
   },
   "outputs": [
    {
     "name": "stderr",
     "output_type": "stream",
     "text": [
      "INFO:     Started server process [388]\n",
      "INFO:     Waiting for application startup.\n",
      "INFO:     Application startup complete.\n",
      "ERROR:    [Errno 98] error while attempting to bind on address ('0.0.0.0', 9992): address already in use\n",
      "INFO:     Waiting for application shutdown.\n",
      "INFO:     Application shutdown complete.\n"
     ]
    }
   ],
   "source": [
    "import strawberry\n",
    "import uuid\n",
    "\n",
    "@strawberry.type(description=\"\"\"Type for query root\"\"\")\n",
    "class Query:\n",
    "\n",
    "    @strawberry.field(description=\"\"\"Returns a hello\"\"\")\n",
    "    async def say_hello(self, info: strawberry.types.Info, id: strawberry.ID) -> str:\n",
    "        result = f'Hello {id}'\n",
    "        return result\n",
    "    \n",
    "from strawberry.asgi import GraphQL\n",
    "\n",
    "graphql_app = GraphQL(\n",
    "    strawberry.federation.Schema(Query), \n",
    "    graphiql = True,\n",
    "    allow_queries_via_get = True\n",
    ")\n",
    "\n",
    "from fastapi import FastAPI\n",
    "app = FastAPI()\n",
    "app.mount(\"/gql\", graphql_app)\n",
    "\n",
    "start_api(app, port=9992, runNew=True)"
   ]
  },
  {
   "cell_type": "code",
   "execution_count": null,
   "id": "e973c2e3-f856-44c0-ae07-d09b28c1a6d4",
   "metadata": {},
   "outputs": [],
   "source": []
  },
  {
   "cell_type": "code",
   "execution_count": null,
   "id": "06e9af29-b9c6-4a68-9fca-53ff22f38a46",
   "metadata": {},
   "outputs": [],
   "source": []
  }
 ],
 "metadata": {
  "kernelspec": {
   "display_name": "Python 3 (ipykernel)",
   "language": "python",
   "name": "python3"
  },
  "language_info": {
   "codemirror_mode": {
    "name": "ipython",
    "version": 3
   },
   "file_extension": ".py",
   "mimetype": "text/x-python",
   "name": "python",
   "nbconvert_exporter": "python",
   "pygments_lexer": "ipython3",
   "version": "3.10.9"
  }
 },
 "nbformat": 4,
 "nbformat_minor": 5
}
